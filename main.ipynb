{
 "cells": [
  {
   "cell_type": "markdown",
   "metadata": {},
   "source": [
    "## Search for dividend growth companies\n",
    "\n",
    "### Update Oct 2023\n",
    "\n",
    "We will begin our search with in Netherlands, which currently seems to be a booming economy and has relatively low dividend tax 15% (https://taxsummaries.pwc.com/netherlands/corporate/withholding-taxes)."
   ]
  },
  {
   "cell_type": "code",
   "execution_count": 1,
   "metadata": {},
   "outputs": [],
   "source": [
    "import yfinance as yf\n",
    "import pandas as pd\n",
    "import numpy as np\n",
    "from scipy import stats\n",
    "import datetime\n",
    "import pytz\n"
   ]
  },
  {
   "cell_type": "code",
   "execution_count": 2,
   "metadata": {},
   "outputs": [
    {
     "data": {
      "text/plain": [
       "array(['Euronext Amsterdam', 'Euronext Paris', ' Amsterdam',\n",
       "       'Euronext Brussels', ' Brussels', ' Paris'], dtype=object)"
      ]
     },
     "execution_count": 2,
     "metadata": {},
     "output_type": "execute_result"
    }
   ],
   "source": [
    "# dfs = pd.read_html(\"https://www.dividendmax.com/stock-exchange-listings/netherlands/euronext-amsterdam\")\n",
    "df = pd.read_csv(\"amsterdam_exch_2023-10-14.csv\", sep=\";\")\n",
    "def flatten(l):\n",
    "    return [item for sublist in l for item in sublist]\n",
    "pd.DataFrame(flatten(df[\"Market\"].str.split(\",\").to_list()))[0].unique()"
   ]
  },
  {
   "cell_type": "code",
   "execution_count": 6,
   "metadata": {},
   "outputs": [
    {
     "data": {
      "text/plain": [
       "'AALB'"
      ]
     },
     "execution_count": 6,
     "metadata": {},
     "output_type": "execute_result"
    }
   ],
   "source": [
    "df.iloc[0][\"Symbol\"]"
   ]
  },
  {
   "cell_type": "code",
   "execution_count": 26,
   "metadata": {},
   "outputs": [
    {
     "ename": "IndexError",
     "evalue": "index 0 is out of bounds for axis 0 with size 0",
     "output_type": "error",
     "traceback": [
      "\u001b[0;31m---------------------------------------------------------------------------\u001b[0m",
      "\u001b[0;31mIndexError\u001b[0m                                Traceback (most recent call last)",
      "\u001b[1;32m/home/mmeng/git/dividend-search/main.ipynb Cell 5\u001b[0m line \u001b[0;36m3\n\u001b[1;32m      <a href='vscode-notebook-cell:/home/mmeng/git/dividend-search/main.ipynb#W4sZmlsZQ%3D%3D?line=0'>1</a>\u001b[0m symbol \u001b[39m=\u001b[39m \u001b[39m\"\u001b[39m\u001b[39mQWABS\u001b[39m\u001b[39m\"\u001b[39m\n\u001b[1;32m      <a href='vscode-notebook-cell:/home/mmeng/git/dividend-search/main.ipynb#W4sZmlsZQ%3D%3D?line=1'>2</a>\u001b[0m company \u001b[39m=\u001b[39m yf\u001b[39m.\u001b[39mTicker(symbol \u001b[39m+\u001b[39m \u001b[39m\"\u001b[39m\u001b[39m.PA\u001b[39m\u001b[39m\"\u001b[39m)\n\u001b[0;32m----> <a href='vscode-notebook-cell:/home/mmeng/git/dividend-search/main.ipynb#W4sZmlsZQ%3D%3D?line=2'>3</a>\u001b[0m \u001b[39mif\u001b[39;00m \u001b[39mlen\u001b[39m(company\u001b[39m.\u001b[39;49mdividends):\n\u001b[1;32m      <a href='vscode-notebook-cell:/home/mmeng/git/dividend-search/main.ipynb#W4sZmlsZQ%3D%3D?line=3'>4</a>\u001b[0m     div_df \u001b[39m=\u001b[39m pd\u001b[39m.\u001b[39mDataFrame(company\u001b[39m.\u001b[39mdividends)\u001b[39m.\u001b[39mreset_index()\n\u001b[1;32m      <a href='vscode-notebook-cell:/home/mmeng/git/dividend-search/main.ipynb#W4sZmlsZQ%3D%3D?line=4'>5</a>\u001b[0m     tz \u001b[39m=\u001b[39m pytz\u001b[39m.\u001b[39mtimezone(\u001b[39mstr\u001b[39m(div_df[\u001b[39m\"\u001b[39m\u001b[39mDate\u001b[39m\u001b[39m\"\u001b[39m]\u001b[39m.\u001b[39miloc[\u001b[39m0\u001b[39m]\u001b[39m.\u001b[39mtz))\n",
      "File \u001b[0;32m~/.local/lib/python3.10/site-packages/yfinance/ticker.py:122\u001b[0m, in \u001b[0;36mTicker.dividends\u001b[0;34m(self)\u001b[0m\n\u001b[1;32m    120\u001b[0m \u001b[39m@property\u001b[39m\n\u001b[1;32m    121\u001b[0m \u001b[39mdef\u001b[39;00m \u001b[39mdividends\u001b[39m(\u001b[39mself\u001b[39m) \u001b[39m-\u001b[39m\u001b[39m>\u001b[39m _pd\u001b[39m.\u001b[39mSeries:\n\u001b[0;32m--> 122\u001b[0m     \u001b[39mreturn\u001b[39;00m \u001b[39mself\u001b[39;49m\u001b[39m.\u001b[39;49mget_dividends()\n",
      "File \u001b[0;32m~/.local/lib/python3.10/site-packages/yfinance/base.py:1915\u001b[0m, in \u001b[0;36mTickerBase.get_dividends\u001b[0;34m(self, proxy)\u001b[0m\n\u001b[1;32m   1913\u001b[0m \u001b[39mdef\u001b[39;00m \u001b[39mget_dividends\u001b[39m(\u001b[39mself\u001b[39m, proxy\u001b[39m=\u001b[39m\u001b[39mNone\u001b[39;00m):\n\u001b[1;32m   1914\u001b[0m     \u001b[39mif\u001b[39;00m \u001b[39mself\u001b[39m\u001b[39m.\u001b[39m_history \u001b[39mis\u001b[39;00m \u001b[39mNone\u001b[39;00m:\n\u001b[0;32m-> 1915\u001b[0m         \u001b[39mself\u001b[39;49m\u001b[39m.\u001b[39;49mhistory(period\u001b[39m=\u001b[39;49m\u001b[39m\"\u001b[39;49m\u001b[39mmax\u001b[39;49m\u001b[39m\"\u001b[39;49m, proxy\u001b[39m=\u001b[39;49mproxy)\n\u001b[1;32m   1916\u001b[0m     \u001b[39mif\u001b[39;00m \u001b[39mself\u001b[39m\u001b[39m.\u001b[39m_history \u001b[39mis\u001b[39;00m \u001b[39mnot\u001b[39;00m \u001b[39mNone\u001b[39;00m \u001b[39mand\u001b[39;00m \u001b[39m\"\u001b[39m\u001b[39mDividends\u001b[39m\u001b[39m\"\u001b[39m \u001b[39min\u001b[39;00m \u001b[39mself\u001b[39m\u001b[39m.\u001b[39m_history:\n\u001b[1;32m   1917\u001b[0m         dividends \u001b[39m=\u001b[39m \u001b[39mself\u001b[39m\u001b[39m.\u001b[39m_history[\u001b[39m\"\u001b[39m\u001b[39mDividends\u001b[39m\u001b[39m\"\u001b[39m]\n",
      "File \u001b[0;32m~/.local/lib/python3.10/site-packages/yfinance/utils.py:114\u001b[0m, in \u001b[0;36mlog_indent_decorator.<locals>.wrapper\u001b[0;34m(*args, **kwargs)\u001b[0m\n\u001b[1;32m    111\u001b[0m logger\u001b[39m.\u001b[39mdebug(\u001b[39mf\u001b[39m\u001b[39m'\u001b[39m\u001b[39mEntering \u001b[39m\u001b[39m{\u001b[39;00mfunc\u001b[39m.\u001b[39m\u001b[39m__name__\u001b[39m\u001b[39m}\u001b[39;00m\u001b[39m()\u001b[39m\u001b[39m'\u001b[39m)\n\u001b[1;32m    113\u001b[0m \u001b[39mwith\u001b[39;00m IndentationContext():\n\u001b[0;32m--> 114\u001b[0m     result \u001b[39m=\u001b[39m func(\u001b[39m*\u001b[39;49margs, \u001b[39m*\u001b[39;49m\u001b[39m*\u001b[39;49mkwargs)\n\u001b[1;32m    116\u001b[0m logger\u001b[39m.\u001b[39mdebug(\u001b[39mf\u001b[39m\u001b[39m'\u001b[39m\u001b[39mExiting \u001b[39m\u001b[39m{\u001b[39;00mfunc\u001b[39m.\u001b[39m\u001b[39m__name__\u001b[39m\u001b[39m}\u001b[39;00m\u001b[39m()\u001b[39m\u001b[39m'\u001b[39m)\n\u001b[1;32m    117\u001b[0m \u001b[39mreturn\u001b[39;00m result\n",
      "File \u001b[0;32m~/.local/lib/python3.10/site-packages/yfinance/base.py:444\u001b[0m, in \u001b[0;36mTickerBase.history\u001b[0;34m(self, period, interval, start, end, prepost, actions, auto_adjust, back_adjust, repair, keepna, proxy, rounding, timeout, debug, raise_errors)\u001b[0m\n\u001b[1;32m    441\u001b[0m     mask_nan_or_zero \u001b[39m=\u001b[39m (df\u001b[39m.\u001b[39misna() \u001b[39m|\u001b[39m (df \u001b[39m==\u001b[39m \u001b[39m0\u001b[39m))\u001b[39m.\u001b[39mall(axis\u001b[39m=\u001b[39m\u001b[39m1\u001b[39m)\n\u001b[1;32m    442\u001b[0m     df \u001b[39m=\u001b[39m df\u001b[39m.\u001b[39mdrop(mask_nan_or_zero\u001b[39m.\u001b[39mindex[mask_nan_or_zero])\n\u001b[0;32m--> 444\u001b[0m logger\u001b[39m.\u001b[39mdebug(\u001b[39mf\u001b[39m\u001b[39m'\u001b[39m\u001b[39m{\u001b[39;00m\u001b[39mself\u001b[39m\u001b[39m.\u001b[39mticker\u001b[39m}\u001b[39;00m\u001b[39m: yfinance returning OHLC: \u001b[39m\u001b[39m{\u001b[39;00mdf\u001b[39m.\u001b[39;49mindex[\u001b[39m0\u001b[39;49m]\u001b[39m}\u001b[39;00m\u001b[39m -> \u001b[39m\u001b[39m{\u001b[39;00mdf\u001b[39m.\u001b[39mindex[\u001b[39m-\u001b[39m\u001b[39m1\u001b[39m]\u001b[39m}\u001b[39;00m\u001b[39m'\u001b[39m)\n\u001b[1;32m    446\u001b[0m \u001b[39mif\u001b[39;00m \u001b[39mself\u001b[39m\u001b[39m.\u001b[39m_reconstruct_start_interval \u001b[39mis\u001b[39;00m \u001b[39mnot\u001b[39;00m \u001b[39mNone\u001b[39;00m \u001b[39mand\u001b[39;00m \u001b[39mself\u001b[39m\u001b[39m.\u001b[39m_reconstruct_start_interval \u001b[39m==\u001b[39m interval:\n\u001b[1;32m    447\u001b[0m     \u001b[39mself\u001b[39m\u001b[39m.\u001b[39m_reconstruct_start_interval \u001b[39m=\u001b[39m \u001b[39mNone\u001b[39;00m\n",
      "File \u001b[0;32m~/.local/lib/python3.10/site-packages/pandas/core/indexes/base.py:5320\u001b[0m, in \u001b[0;36mIndex.__getitem__\u001b[0;34m(self, key)\u001b[0m\n\u001b[1;32m   5317\u001b[0m \u001b[39mif\u001b[39;00m is_integer(key) \u001b[39mor\u001b[39;00m is_float(key):\n\u001b[1;32m   5318\u001b[0m     \u001b[39m# GH#44051 exclude bool, which would return a 2d ndarray\u001b[39;00m\n\u001b[1;32m   5319\u001b[0m     key \u001b[39m=\u001b[39m com\u001b[39m.\u001b[39mcast_scalar_indexer(key, warn_float\u001b[39m=\u001b[39m\u001b[39mTrue\u001b[39;00m)\n\u001b[0;32m-> 5320\u001b[0m     \u001b[39mreturn\u001b[39;00m getitem(key)\n\u001b[1;32m   5322\u001b[0m \u001b[39mif\u001b[39;00m \u001b[39misinstance\u001b[39m(key, \u001b[39mslice\u001b[39m):\n\u001b[1;32m   5323\u001b[0m     \u001b[39m# This case is separated from the conditional above to avoid\u001b[39;00m\n\u001b[1;32m   5324\u001b[0m     \u001b[39m# pessimization com.is_bool_indexer and ndim checks.\u001b[39;00m\n\u001b[1;32m   5325\u001b[0m     result \u001b[39m=\u001b[39m getitem(key)\n",
      "File \u001b[0;32m~/.local/lib/python3.10/site-packages/pandas/core/arrays/datetimelike.py:358\u001b[0m, in \u001b[0;36mDatetimeLikeArrayMixin.__getitem__\u001b[0;34m(self, key)\u001b[0m\n\u001b[1;32m    350\u001b[0m \u001b[39m\u001b[39m\u001b[39m\"\"\"\u001b[39;00m\n\u001b[1;32m    351\u001b[0m \u001b[39mThis getitem defers to the underlying array, which by-definition can\u001b[39;00m\n\u001b[1;32m    352\u001b[0m \u001b[39monly handle list-likes, slices, and integer scalars\u001b[39;00m\n\u001b[1;32m    353\u001b[0m \u001b[39m\"\"\"\u001b[39;00m\n\u001b[1;32m    354\u001b[0m \u001b[39m# Use cast as we know we will get back a DatetimeLikeArray or DTScalar,\u001b[39;00m\n\u001b[1;32m    355\u001b[0m \u001b[39m# but skip evaluating the Union at runtime for performance\u001b[39;00m\n\u001b[1;32m    356\u001b[0m \u001b[39m# (see https://github.com/pandas-dev/pandas/pull/44624)\u001b[39;00m\n\u001b[1;32m    357\u001b[0m result \u001b[39m=\u001b[39m cast(\n\u001b[0;32m--> 358\u001b[0m     \u001b[39m\"\u001b[39m\u001b[39mUnion[DatetimeLikeArrayT, DTScalarOrNaT]\u001b[39m\u001b[39m\"\u001b[39m, \u001b[39msuper\u001b[39;49m()\u001b[39m.\u001b[39;49m\u001b[39m__getitem__\u001b[39;49m(key)\n\u001b[1;32m    359\u001b[0m )\n\u001b[1;32m    360\u001b[0m \u001b[39mif\u001b[39;00m lib\u001b[39m.\u001b[39mis_scalar(result):\n\u001b[1;32m    361\u001b[0m     \u001b[39mreturn\u001b[39;00m result\n",
      "File \u001b[0;32m~/.local/lib/python3.10/site-packages/pandas/core/arrays/_mixins.py:289\u001b[0m, in \u001b[0;36mNDArrayBackedExtensionArray.__getitem__\u001b[0;34m(self, key)\u001b[0m\n\u001b[1;32m    283\u001b[0m \u001b[39mdef\u001b[39;00m \u001b[39m__getitem__\u001b[39m(\n\u001b[1;32m    284\u001b[0m     \u001b[39mself\u001b[39m: NDArrayBackedExtensionArrayT,\n\u001b[1;32m    285\u001b[0m     key: PositionalIndexer2D,\n\u001b[1;32m    286\u001b[0m ) \u001b[39m-\u001b[39m\u001b[39m>\u001b[39m NDArrayBackedExtensionArrayT \u001b[39m|\u001b[39m Any:\n\u001b[1;32m    287\u001b[0m     \u001b[39mif\u001b[39;00m lib\u001b[39m.\u001b[39mis_integer(key):\n\u001b[1;32m    288\u001b[0m         \u001b[39m# fast-path\u001b[39;00m\n\u001b[0;32m--> 289\u001b[0m         result \u001b[39m=\u001b[39m \u001b[39mself\u001b[39;49m\u001b[39m.\u001b[39;49m_ndarray[key]\n\u001b[1;32m    290\u001b[0m         \u001b[39mif\u001b[39;00m \u001b[39mself\u001b[39m\u001b[39m.\u001b[39mndim \u001b[39m==\u001b[39m \u001b[39m1\u001b[39m:\n\u001b[1;32m    291\u001b[0m             \u001b[39mreturn\u001b[39;00m \u001b[39mself\u001b[39m\u001b[39m.\u001b[39m_box_func(result)\n",
      "\u001b[0;31mIndexError\u001b[0m: index 0 is out of bounds for axis 0 with size 0"
     ]
    }
   ],
   "source": [
    "symbol = \"QWABS\"\n",
    "company = yf.Ticker(symbol + \".PA\")\n",
    "if len(company.dividends):\n",
    "    div_df = pd.DataFrame(company.dividends).reset_index()\n",
    "    tz = pytz.timezone(str(div_df[\"Date\"].iloc[0].tz))\n",
    "    div_df_10yrs = div_df[div_df[\"Date\"] >= datetime.datetime(2013, 1, 1, tzinfo=tz)]\n",
    "    div_df_10yrs_grouped = div_df_10yrs.groupby(div_df_10yrs[\"Date\"].dt.year).sum(numeric_only=True).reset_index()\n",
    "    div_df_10yrs_grouped[\"pct_change\"] = div_df_10yrs_grouped[\"Dividends\"].pct_change(periods=1)\n",
    "    div_df_10yrs_grouped[\"pct_change_10\"] = div_df_10yrs_grouped[\"Dividends\"].pct_change(periods=10)\n"
   ]
  },
  {
   "cell_type": "code",
   "execution_count": 25,
   "metadata": {},
   "outputs": [],
   "source": [
    "pd.DataFrame(company.dividends).reset_index()\n",
    "if len(company.dividends):\n",
    "    print(\"hello\")"
   ]
  },
  {
   "cell_type": "code",
   "execution_count": 32,
   "metadata": {},
   "outputs": [
    {
     "data": {
      "text/plain": [
       "{'growth_10': 0.6666666666666667,\n",
       " 'growth_yy_10': 0.05840007284126747,\n",
       " 'growth_yy_5': 0.008548252303932413,\n",
       " 'growth_yy_3': 0.06265856918261115,\n",
       " 'growth_yy_1': 0.14285714285714302}"
      ]
     },
     "execution_count": 32,
     "metadata": {},
     "output_type": "execute_result"
    }
   ],
   "source": [
    "year_10 = 10 if len(div_df_10yrs_grouped) > 10 else len(div_df_10yrs_grouped) - 1\n",
    "year_5 = 5 if len(div_df_10yrs_grouped) > 5 else len(div_df_10yrs_grouped) - 1\n",
    "res = {\n",
    "    \"growth_10\": div_df_10yrs_grouped[\"Dividends\"].pct_change(periods=year_10).iloc[-1],\n",
    "    \"growth_yy_10\": ((div_df_10yrs_grouped[\"Dividends\"].shift(-year_10) / div_df_10yrs_grouped[\"Dividends\"]) ** (1 / year_10) - 1).dropna().iloc[-1],\n",
    "    \"growth_yy_5\": ((div_df_10yrs_grouped[\"Dividends\"].shift(-year_5) / div_df_10yrs_grouped[\"Dividends\"]) ** (1 / year_5) - 1).dropna().iloc[-1],\n",
    "    \"growth_yy_3\": ((div_df_10yrs_grouped[\"Dividends\"].shift(-3) / div_df_10yrs_grouped[\"Dividends\"]) ** (1 / 3) - 1).dropna().iloc[-1],\n",
    "    \"growth_yy_1\": ((div_df_10yrs_grouped[\"Dividends\"].shift(-1) / div_df_10yrs_grouped[\"Dividends\"]) ** (1 / 1) - 1).dropna().iloc[-1],\n",
    "}\n",
    "res"
   ]
  },
  {
   "cell_type": "code",
   "execution_count": 48,
   "metadata": {},
   "outputs": [
    {
     "data": {
      "text/html": [
       "<div>\n",
       "<style scoped>\n",
       "    .dataframe tbody tr th:only-of-type {\n",
       "        vertical-align: middle;\n",
       "    }\n",
       "\n",
       "    .dataframe tbody tr th {\n",
       "        vertical-align: top;\n",
       "    }\n",
       "\n",
       "    .dataframe thead th {\n",
       "        text-align: right;\n",
       "    }\n",
       "</style>\n",
       "<table border=\"1\" class=\"dataframe\">\n",
       "  <thead>\n",
       "    <tr style=\"text-align: right;\">\n",
       "      <th></th>\n",
       "      <th>Date</th>\n",
       "      <th>Dividends</th>\n",
       "      <th>pct_change</th>\n",
       "      <th>pct_change_10</th>\n",
       "    </tr>\n",
       "  </thead>\n",
       "  <tbody>\n",
       "    <tr>\n",
       "      <th>9</th>\n",
       "      <td>2023</td>\n",
       "      <td>1.20</td>\n",
       "      <td>0.142857</td>\n",
       "      <td>NaN</td>\n",
       "    </tr>\n",
       "    <tr>\n",
       "      <th>8</th>\n",
       "      <td>2022</td>\n",
       "      <td>1.05</td>\n",
       "      <td>-0.045455</td>\n",
       "      <td>NaN</td>\n",
       "    </tr>\n",
       "    <tr>\n",
       "      <th>7</th>\n",
       "      <td>2020</td>\n",
       "      <td>1.10</td>\n",
       "      <td>0.100000</td>\n",
       "      <td>NaN</td>\n",
       "    </tr>\n",
       "    <tr>\n",
       "      <th>6</th>\n",
       "      <td>2019</td>\n",
       "      <td>1.00</td>\n",
       "      <td>0.428571</td>\n",
       "      <td>NaN</td>\n",
       "    </tr>\n",
       "    <tr>\n",
       "      <th>5</th>\n",
       "      <td>2018</td>\n",
       "      <td>0.70</td>\n",
       "      <td>-0.391304</td>\n",
       "      <td>NaN</td>\n",
       "    </tr>\n",
       "    <tr>\n",
       "      <th>4</th>\n",
       "      <td>2017</td>\n",
       "      <td>1.15</td>\n",
       "      <td>0.150000</td>\n",
       "      <td>NaN</td>\n",
       "    </tr>\n",
       "    <tr>\n",
       "      <th>3</th>\n",
       "      <td>2016</td>\n",
       "      <td>1.00</td>\n",
       "      <td>-0.090909</td>\n",
       "      <td>NaN</td>\n",
       "    </tr>\n",
       "    <tr>\n",
       "      <th>2</th>\n",
       "      <td>2015</td>\n",
       "      <td>1.10</td>\n",
       "      <td>0.100000</td>\n",
       "      <td>NaN</td>\n",
       "    </tr>\n",
       "    <tr>\n",
       "      <th>1</th>\n",
       "      <td>2014</td>\n",
       "      <td>1.00</td>\n",
       "      <td>0.388889</td>\n",
       "      <td>NaN</td>\n",
       "    </tr>\n",
       "    <tr>\n",
       "      <th>0</th>\n",
       "      <td>2013</td>\n",
       "      <td>0.72</td>\n",
       "      <td>NaN</td>\n",
       "      <td>NaN</td>\n",
       "    </tr>\n",
       "  </tbody>\n",
       "</table>\n",
       "</div>"
      ],
      "text/plain": [
       "   Date  Dividends  pct_change  pct_change_10\n",
       "9  2023       1.20    0.142857            NaN\n",
       "8  2022       1.05   -0.045455            NaN\n",
       "7  2020       1.10    0.100000            NaN\n",
       "6  2019       1.00    0.428571            NaN\n",
       "5  2018       0.70   -0.391304            NaN\n",
       "4  2017       1.15    0.150000            NaN\n",
       "3  2016       1.00   -0.090909            NaN\n",
       "2  2015       1.10    0.100000            NaN\n",
       "1  2014       1.00    0.388889            NaN\n",
       "0  2013       0.72         NaN            NaN"
      ]
     },
     "execution_count": 48,
     "metadata": {},
     "output_type": "execute_result"
    }
   ],
   "source": [
    "# pd.Series([div_df_10yrs_grouped[\"Date\"].min() + i for i in range(len(div_dfo_10yrs_grouped))]).diff(div_df_10yrs_grouped[\"Date\"])\n",
    "# div_df_10yrs_grouped[\"Date\"].min(), div_df_10yrs_grouped[\"Date\"].max()"
   ]
  },
  {
   "cell_type": "code",
   "execution_count": 145,
   "metadata": {},
   "outputs": [
    {
     "data": {
      "text/plain": [
       "0.36161003606346187"
      ]
     },
     "execution_count": 145,
     "metadata": {},
     "output_type": "execute_result"
    }
   ],
   "source": [
    "q_low = div_df_10yrs_grouped[\"pct_change\"].abs().quantile(0.1)\n",
    "q_high = div_df_10yrs_grouped[\"pct_change\"].quantile(0.9)\n",
    "div_df_10yrs_grouped[(div_df_10yrs_grouped[\"pct_change\"].abs() > q_low) & (div_df_10yrs_grouped[\"pct_change\"].abs() < q_high)][\"pct_change\"].mean()"
   ]
  },
  {
   "cell_type": "code",
   "execution_count": 10,
   "metadata": {},
   "outputs": [
    {
     "data": {
      "text/plain": [
       "<Axes: xlabel='Date'>"
      ]
     },
     "execution_count": 10,
     "metadata": {},
     "output_type": "execute_result"
    },
    {
     "data": {
      "image/png": "[encoded data removed]",
      "text/plain": [
       "<Figure size 640x480 with 1 Axes>"
      ]
     },
     "metadata": {},
     "output_type": "display_data"
    }
   ],
   "source": [
    "div_df_10yrs_grouped.plot(x=\"Date\", y=\"Dividends\")"
   ]
  },
  {
   "cell_type": "code",
   "execution_count": 141,
   "metadata": {},
   "outputs": [
    {
     "data": {
      "text/plain": [
       "0          NaN\n",
       "1          NaN\n",
       "2          NaN\n",
       "3          NaN\n",
       "4          NaN\n",
       "5          NaN\n",
       "6          NaN\n",
       "7          NaN\n",
       "8          NaN\n",
       "9          NaN\n",
       "10    2.171429\n",
       "Name: Dividends, dtype: float64"
      ]
     },
     "execution_count": 141,
     "metadata": {},
     "output_type": "execute_result"
    }
   ],
   "source": [
    "div_df_10yrs_grouped[\"Dividends\"].pct_change(periods=10)"
   ]
  },
  {
   "cell_type": "code",
   "execution_count": 25,
   "metadata": {},
   "outputs": [
    {
     "data": {
      "text/html": [
       "<div>\n",
       "<style scoped>\n",
       "    .dataframe tbody tr th:only-of-type {\n",
       "        vertical-align: middle;\n",
       "    }\n",
       "\n",
       "    .dataframe tbody tr th {\n",
       "        vertical-align: top;\n",
       "    }\n",
       "\n",
       "    .dataframe thead th {\n",
       "        text-align: right;\n",
       "    }\n",
       "</style>\n",
       "<table border=\"1\" class=\"dataframe\">\n",
       "  <thead>\n",
       "    <tr style=\"text-align: right;\">\n",
       "      <th></th>\n",
       "      <th>Dividends</th>\n",
       "      <th>Dividends</th>\n",
       "    </tr>\n",
       "  </thead>\n",
       "  <tbody>\n",
       "    <tr>\n",
       "      <th>0</th>\n",
       "      <td>0.2</td>\n",
       "      <td>0.002222</td>\n",
       "    </tr>\n",
       "    <tr>\n",
       "      <th>1</th>\n",
       "      <td>NaN</td>\n",
       "      <td>0.046667</td>\n",
       "    </tr>\n",
       "    <tr>\n",
       "      <th>2</th>\n",
       "      <td>NaN</td>\n",
       "      <td>0.150000</td>\n",
       "    </tr>\n",
       "    <tr>\n",
       "      <th>3</th>\n",
       "      <td>NaN</td>\n",
       "      <td>0.100000</td>\n",
       "    </tr>\n",
       "    <tr>\n",
       "      <th>4</th>\n",
       "      <td>NaN</td>\n",
       "      <td>0.566667</td>\n",
       "    </tr>\n",
       "    <tr>\n",
       "      <th>5</th>\n",
       "      <td>NaN</td>\n",
       "      <td>0.200000</td>\n",
       "    </tr>\n",
       "  </tbody>\n",
       "</table>\n",
       "</div>"
      ],
      "text/plain": [
       "   Dividends  Dividends\n",
       "0        0.2   0.002222\n",
       "1        NaN   0.046667\n",
       "2        NaN   0.150000\n",
       "3        NaN   0.100000\n",
       "4        NaN   0.566667\n",
       "5        NaN   0.200000"
      ]
     },
     "execution_count": 25,
     "metadata": {},
     "output_type": "execute_result"
    }
   ],
   "source": [
    "((div_df_10yrs_grouped[\"Dividends\"].shift(-5) / div_df_10yrs_grouped[\"Dividends\"]) ** (1 / 5) - 1)\n",
    "pd.concat([div_df_10yrs_grouped[\"Dividends\"].shift(-5), div_df_10yrs_grouped[\"Dividends\"]], axis=1)"
   ]
  },
  {
   "cell_type": "code",
   "execution_count": 38,
   "metadata": {},
   "outputs": [
    {
     "data": {
      "text/plain": [
       "[{'Date': 2020,\n",
       "  'Dividends': 1.6,\n",
       "  'pct_change': 1.1333333333333333,\n",
       "  'pct_change_10': nan}]"
      ]
     },
     "execution_count": 38,
     "metadata": {},
     "output_type": "execute_result"
    }
   ],
   "source": [
    "div_df_10yrs_grouped[(np.abs(stats.zscore(div_df_10yrs_grouped[\"Dividends\"])) > 2)].to_dict(orient=\"records\")\n"
   ]
  },
  {
   "cell_type": "markdown",
   "metadata": {},
   "source": [
    "### Search for low debt companies"
   ]
  },
  {
   "cell_type": "code",
   "execution_count": 4,
   "metadata": {},
   "outputs": [],
   "source": [
    "balance = company.balance_sheet\n",
    "income = company.income_stmt\n",
    "cash = company.cash_flow\n",
    "latest = balance.columns.sort_values()[-1]"
   ]
  },
  {
   "cell_type": "code",
   "execution_count": 23,
   "metadata": {},
   "outputs": [],
   "source": [
    "\n"
   ]
  },
  {
   "cell_type": "code",
   "execution_count": 59,
   "metadata": {},
   "outputs": [
    {
     "data": {
      "text/plain": [
       "2019-12-31    24657249.0\n",
       "2020-12-31    29585516.0\n",
       "2021-12-31    29653872.0\n",
       "2022-12-31    29617746.0\n",
       "Name: Diluted Average Shares, dtype: object"
      ]
     },
     "execution_count": 59,
     "metadata": {},
     "output_type": "execute_result"
    }
   ],
   "source": [
    "x.loc[\"Diluted Average Shares\"]"
   ]
  },
  {
   "cell_type": "code",
   "execution_count": 79,
   "metadata": {},
   "outputs": [
    {
     "data": {
      "text/plain": [
       "359063000.0"
      ]
     },
     "execution_count": 79,
     "metadata": {},
     "output_type": "execute_result"
    }
   ],
   "source": [
    "qlow = income.loc[\"Net Income\"].quantile(0.02)\n",
    "qhigh = income.loc[\"Net Income\"].quantile(0.98)\n",
    "\n",
    "income.loc[\"Net Income\"][(income.loc[\"Net Income\"] > qlow) & (income.loc[\"Net Income\"] < qhigh)].mean()"
   ]
  },
  {
   "cell_type": "code",
   "execution_count": 101,
   "metadata": {},
   "outputs": [
    {
     "data": {
      "text/plain": [
       "0.04322007980010193"
      ]
     },
     "execution_count": 101,
     "metadata": {},
     "output_type": "execute_result"
    }
   ],
   "source": [
    "x = income.loc[\"Net Income\"] / income.loc[\"Total Revenue\"]\n",
    "\n",
    "qlow = x.quantile(0.01)\n",
    "qhigh = x.quantile(0.99)\n",
    "x[(x > qlow) & (x < qhigh)].mean()"
   ]
  },
  {
   "cell_type": "code",
   "execution_count": 102,
   "metadata": {},
   "outputs": [
    {
     "data": {
      "text/plain": [
       "2022-12-31    0.056227\n",
       "2019-12-31    0.030213\n",
       "dtype: object"
      ]
     },
     "execution_count": 102,
     "metadata": {},
     "output_type": "execute_result"
    }
   ],
   "source": [
    "x[(x > qlow) & (x < qhigh)]"
   ]
  },
  {
   "cell_type": "code",
   "execution_count": 104,
   "metadata": {},
   "outputs": [
    {
     "data": {
      "text/plain": [
       "2020-12-31     0.00598\n",
       "2019-12-31    0.030213\n",
       "2022-12-31    0.056227\n",
       "2021-12-31    0.058757\n",
       "dtype: object"
      ]
     },
     "execution_count": 104,
     "metadata": {},
     "output_type": "execute_result"
    }
   ],
   "source": [
    "x.sort_values()"
   ]
  },
  {
   "cell_type": "code",
   "execution_count": 107,
   "metadata": {},
   "outputs": [
    {
     "data": {
      "text/plain": [
       "False"
      ]
     },
     "execution_count": 107,
     "metadata": {},
     "output_type": "execute_result"
    }
   ],
   "source": [
    "any(income.loc[\"Total Revenue\"] == 0)"
   ]
  },
  {
   "cell_type": "code",
   "execution_count": 109,
   "metadata": {},
   "outputs": [
    {
     "data": {
      "text/plain": [
       "0   NaN\n",
       "1   NaN\n",
       "2   NaN\n",
       "3   NaN\n",
       "4   NaN\n",
       "5   NaN\n",
       "6   NaN\n",
       "7   NaN\n",
       "8   NaN\n",
       "9   NaN\n",
       "Name: Dividends, dtype: float64"
      ]
     },
     "execution_count": 109,
     "metadata": {},
     "output_type": "execute_result"
    }
   ],
   "source": [
    "div_df_10yrs_grouped[\"Dividends\"].pct_change(periods=10)"
   ]
  },
  {
   "cell_type": "code",
   "execution_count": 16,
   "metadata": {},
   "outputs": [
    {
     "data": {
      "text/plain": [
       "0.00036299635558334487"
      ]
     },
     "execution_count": 16,
     "metadata": {},
     "output_type": "execute_result"
    }
   ],
   "source": [
    "((income.sort_index(axis=1).loc[\"Diluted Average Shares\"].shift(-2) / income.sort_index(axis=1).loc[\"Diluted Average Shares\"]) ** (1 / 3) - 1).dropna().iloc[-1]"
   ]
  },
  {
   "cell_type": "code",
   "execution_count": 18,
   "metadata": {},
   "outputs": [
    {
     "data": {
      "text/html": [
       "<div>\n",
       "<style scoped>\n",
       "    .dataframe tbody tr th:only-of-type {\n",
       "        vertical-align: middle;\n",
       "    }\n",
       "\n",
       "    .dataframe tbody tr th {\n",
       "        vertical-align: top;\n",
       "    }\n",
       "\n",
       "    .dataframe thead th {\n",
       "        text-align: right;\n",
       "    }\n",
       "</style>\n",
       "<table border=\"1\" class=\"dataframe\">\n",
       "  <thead>\n",
       "    <tr style=\"text-align: right;\">\n",
       "      <th></th>\n",
       "      <th>Diluted Average Shares</th>\n",
       "      <th>Diluted Average Shares</th>\n",
       "    </tr>\n",
       "  </thead>\n",
       "  <tbody>\n",
       "    <tr>\n",
       "      <th>2019-12-31</th>\n",
       "      <td>29653872.0</td>\n",
       "      <td>24657249.0</td>\n",
       "    </tr>\n",
       "    <tr>\n",
       "      <th>2020-12-31</th>\n",
       "      <td>29617746.0</td>\n",
       "      <td>29585516.0</td>\n",
       "    </tr>\n",
       "    <tr>\n",
       "      <th>2021-12-31</th>\n",
       "      <td>None</td>\n",
       "      <td>29653872.0</td>\n",
       "    </tr>\n",
       "    <tr>\n",
       "      <th>2022-12-31</th>\n",
       "      <td>None</td>\n",
       "      <td>29617746.0</td>\n",
       "    </tr>\n",
       "  </tbody>\n",
       "</table>\n",
       "</div>"
      ],
      "text/plain": [
       "           Diluted Average Shares Diluted Average Shares\n",
       "2019-12-31             29653872.0             24657249.0\n",
       "2020-12-31             29617746.0             29585516.0\n",
       "2021-12-31                   None             29653872.0\n",
       "2022-12-31                   None             29617746.0"
      ]
     },
     "execution_count": 18,
     "metadata": {},
     "output_type": "execute_result"
    }
   ],
   "source": [
    "pd.concat([income.sort_index(axis=1).loc[\"Diluted Average Shares\"].shift(-2), income.sort_index(axis=1).loc[\"Diluted Average Shares\"] ], axis=1)"
   ]
  },
  {
   "cell_type": "code",
   "execution_count": 25,
   "metadata": {},
   "outputs": [
    {
     "data": {
      "text/plain": [
       "1"
      ]
     },
     "execution_count": 25,
     "metadata": {},
     "output_type": "execute_result"
    }
   ],
   "source": [
    "\n",
    "all_years = pd.Series(range(div_df_10yrs_grouped[\"Date\"].min(), div_df_10yrs_grouped[\"Date\"].max() + 1))\n",
    "missing_dividend_years = all_years[all_years.isin(div_df_10yrs_grouped[\"Date\"]) == False]\n",
    "\n",
    "missing_dividend_years.count()"
   ]
  },
  {
   "cell_type": "code",
   "execution_count": 54,
   "metadata": {},
   "outputs": [
    {
     "data": {
      "text/plain": [
       "0.0630061924527705"
      ]
     },
     "execution_count": 54,
     "metadata": {},
     "output_type": "execute_result"
    }
   ],
   "source": [
    "xx = income.sort_index(axis=1)\n",
    "def get_growth_per_year(series, year):\n",
    "    x = ((series.shift(-year) / series) ** (1 / year)) - 1\n",
    "    return x.dropna().iloc[-1]\n",
    "\n",
    "get_growth_per_year(xx.loc[\"Diluted Average Shares\"], -3) if \"Diluted Average Shares\" in income.index and len(income.loc[\"Diluted Average Shares\"].dropna()) == 4 else np.NaN"
   ]
  },
  {
   "cell_type": "code",
   "execution_count": 53,
   "metadata": {},
   "outputs": [
    {
     "data": {
      "text/plain": [
       "2022-12-31    29617746.0\n",
       "2021-12-31    29653872.0\n",
       "2020-12-31    29585516.0\n",
       "2019-12-31    24657249.0\n",
       "Name: Diluted Average Shares, dtype: object"
      ]
     },
     "execution_count": 53,
     "metadata": {},
     "output_type": "execute_result"
    }
   ],
   "source": [
    "income.loc[\"Diluted Average Shares\"]"
   ]
  },
  {
   "cell_type": "code",
   "execution_count": 33,
   "metadata": {},
   "outputs": [
    {
     "data": {
      "text/plain": [
       "{'growth_10': 0.6666666666666667,\n",
       " 'growth_yy_10': 0.05840007284126747,\n",
       " 'growth_yy_5': 0.008548252303932413,\n",
       " 'growth_yy_3': 0.06265856918261115,\n",
       " 'growth_yy_1': 0.14285714285714302}"
      ]
     },
     "execution_count": 33,
     "metadata": {},
     "output_type": "execute_result"
    }
   ],
   "source": [
    "res"
   ]
  },
  {
   "cell_type": "code",
   "execution_count": 62,
   "metadata": {},
   "outputs": [
    {
     "data": {
      "text/html": [
       "<div>\n",
       "<style scoped>\n",
       "    .dataframe tbody tr th:only-of-type {\n",
       "        vertical-align: middle;\n",
       "    }\n",
       "\n",
       "    .dataframe tbody tr th {\n",
       "        vertical-align: top;\n",
       "    }\n",
       "\n",
       "    .dataframe thead th {\n",
       "        text-align: right;\n",
       "    }\n",
       "</style>\n",
       "<table border=\"1\" class=\"dataframe\">\n",
       "  <thead>\n",
       "    <tr style=\"text-align: right;\">\n",
       "      <th></th>\n",
       "      <th>Date</th>\n",
       "      <th>Dividends</th>\n",
       "    </tr>\n",
       "  </thead>\n",
       "  <tbody>\n",
       "    <tr>\n",
       "      <th>0</th>\n",
       "      <td>2004-09-27 00:00:00-04:00</td>\n",
       "      <td>0.075</td>\n",
       "    </tr>\n",
       "    <tr>\n",
       "      <th>1</th>\n",
       "      <td>2005-07-19 00:00:00-04:00</td>\n",
       "      <td>0.150</td>\n",
       "    </tr>\n",
       "    <tr>\n",
       "      <th>2</th>\n",
       "      <td>2006-07-18 00:00:00-04:00</td>\n",
       "      <td>0.300</td>\n",
       "    </tr>\n",
       "    <tr>\n",
       "      <th>3</th>\n",
       "      <td>2007-07-18 00:00:00-04:00</td>\n",
       "      <td>0.480</td>\n",
       "    </tr>\n",
       "    <tr>\n",
       "      <th>4</th>\n",
       "      <td>2008-07-14 00:00:00-04:00</td>\n",
       "      <td>0.580</td>\n",
       "    </tr>\n",
       "  </tbody>\n",
       "</table>\n",
       "</div>"
      ],
      "text/plain": [
       "                       Date  Dividends\n",
       "0 2004-09-27 00:00:00-04:00      0.075\n",
       "1 2005-07-19 00:00:00-04:00      0.150\n",
       "2 2006-07-18 00:00:00-04:00      0.300\n",
       "3 2007-07-18 00:00:00-04:00      0.480\n",
       "4 2008-07-14 00:00:00-04:00      0.580"
      ]
     },
     "execution_count": 62,
     "metadata": {},
     "output_type": "execute_result"
    }
   ],
   "source": [
    "div_df"
   ]
  },
  {
   "cell_type": "code",
   "execution_count": 66,
   "metadata": {},
   "outputs": [
    {
     "data": {
      "text/html": [
       "<style type=\"text/css\">\n",
       "#T_04fa8_row0_col0, #T_04fa8_row0_col1, #T_04fa8_row1_col0, #T_04fa8_row1_col1, #T_04fa8_row2_col0, #T_04fa8_row2_col1, #T_04fa8_row3_col0, #T_04fa8_row3_col1, #T_04fa8_row4_col0, #T_04fa8_row4_col1 {\n",
       "  color: white;\n",
       "}\n",
       "</style>\n",
       "<table id=\"T_04fa8\">\n",
       "  <thead>\n",
       "    <tr>\n",
       "      <th class=\"blank level0\" >&nbsp;</th>\n",
       "      <th id=\"T_04fa8_level0_col0\" class=\"col_heading level0 col0\" >Date</th>\n",
       "      <th id=\"T_04fa8_level0_col1\" class=\"col_heading level0 col1\" >Dividends</th>\n",
       "    </tr>\n",
       "  </thead>\n",
       "  <tbody>\n",
       "    <tr>\n",
       "      <th id=\"T_04fa8_level0_row0\" class=\"row_heading level0 row0\" >0</th>\n",
       "      <td id=\"T_04fa8_row0_col0\" class=\"data row0 col0\" >2004-09-27 00:00:00-04:00</td>\n",
       "      <td id=\"T_04fa8_row0_col1\" class=\"data row0 col1\" >0.075000</td>\n",
       "    </tr>\n",
       "    <tr>\n",
       "      <th id=\"T_04fa8_level0_row1\" class=\"row_heading level0 row1\" >1</th>\n",
       "      <td id=\"T_04fa8_row1_col0\" class=\"data row1 col0\" >2005-07-19 00:00:00-04:00</td>\n",
       "      <td id=\"T_04fa8_row1_col1\" class=\"data row1 col1\" >0.150000</td>\n",
       "    </tr>\n",
       "    <tr>\n",
       "      <th id=\"T_04fa8_level0_row2\" class=\"row_heading level0 row2\" >2</th>\n",
       "      <td id=\"T_04fa8_row2_col0\" class=\"data row2 col0\" >2006-07-18 00:00:00-04:00</td>\n",
       "      <td id=\"T_04fa8_row2_col1\" class=\"data row2 col1\" >0.300000</td>\n",
       "    </tr>\n",
       "    <tr>\n",
       "      <th id=\"T_04fa8_level0_row3\" class=\"row_heading level0 row3\" >3</th>\n",
       "      <td id=\"T_04fa8_row3_col0\" class=\"data row3 col0\" >2007-07-18 00:00:00-04:00</td>\n",
       "      <td id=\"T_04fa8_row3_col1\" class=\"data row3 col1\" >0.480000</td>\n",
       "    </tr>\n",
       "    <tr>\n",
       "      <th id=\"T_04fa8_level0_row4\" class=\"row_heading level0 row4\" >4</th>\n",
       "      <td id=\"T_04fa8_row4_col0\" class=\"data row4 col0\" >2008-07-14 00:00:00-04:00</td>\n",
       "      <td id=\"T_04fa8_row4_col1\" class=\"data row4 col1\" >0.580000</td>\n",
       "    </tr>\n",
       "  </tbody>\n",
       "</table>\n"
      ],
      "text/plain": [
       "<pandas.io.formats.style.Styler at 0x7f55351c6680>"
      ]
     },
     "execution_count": 66,
     "metadata": {},
     "output_type": "execute_result"
    }
   ],
   "source": [
    "div_df.style.applymap(lambda x: 'color: red' if x is int and x < 1 else 'color: white')"
   ]
  },
  {
   "cell_type": "code",
   "execution_count": 7,
   "metadata": {},
   "outputs": [
    {
     "data": {
      "text/plain": [
       "1.6598882791062331e-09"
      ]
     },
     "execution_count": 7,
     "metadata": {},
     "output_type": "execute_result"
    }
   ],
   "source": [
    "div_df[\"Dividends\"].mean() / income.loc[\"Net Income\"].mean()"
   ]
  },
  {
   "cell_type": "code",
   "execution_count": 8,
   "metadata": {},
   "outputs": [
    {
     "data": {
      "text/html": [
       "<div>\n",
       "<style scoped>\n",
       "    .dataframe tbody tr th:only-of-type {\n",
       "        vertical-align: middle;\n",
       "    }\n",
       "\n",
       "    .dataframe tbody tr th {\n",
       "        vertical-align: top;\n",
       "    }\n",
       "\n",
       "    .dataframe thead th {\n",
       "        text-align: right;\n",
       "    }\n",
       "</style>\n",
       "<table border=\"1\" class=\"dataframe\">\n",
       "  <thead>\n",
       "    <tr style=\"text-align: right;\">\n",
       "      <th></th>\n",
       "      <th>Date</th>\n",
       "      <th>Dividends</th>\n",
       "      <th>pct_change</th>\n",
       "      <th>pct_change_10</th>\n",
       "    </tr>\n",
       "  </thead>\n",
       "  <tbody>\n",
       "    <tr>\n",
       "      <th>0</th>\n",
       "      <td>2013</td>\n",
       "      <td>0.35</td>\n",
       "      <td>NaN</td>\n",
       "      <td>NaN</td>\n",
       "    </tr>\n",
       "    <tr>\n",
       "      <th>1</th>\n",
       "      <td>2014</td>\n",
       "      <td>0.41</td>\n",
       "      <td>0.171429</td>\n",
       "      <td>NaN</td>\n",
       "    </tr>\n",
       "    <tr>\n",
       "      <th>2</th>\n",
       "      <td>2015</td>\n",
       "      <td>0.46</td>\n",
       "      <td>0.121951</td>\n",
       "      <td>NaN</td>\n",
       "    </tr>\n",
       "    <tr>\n",
       "      <th>3</th>\n",
       "      <td>2016</td>\n",
       "      <td>0.52</td>\n",
       "      <td>0.130435</td>\n",
       "      <td>NaN</td>\n",
       "    </tr>\n",
       "    <tr>\n",
       "      <th>4</th>\n",
       "      <td>2017</td>\n",
       "      <td>0.58</td>\n",
       "      <td>0.115385</td>\n",
       "      <td>NaN</td>\n",
       "    </tr>\n",
       "    <tr>\n",
       "      <th>5</th>\n",
       "      <td>2018</td>\n",
       "      <td>0.65</td>\n",
       "      <td>0.120690</td>\n",
       "      <td>NaN</td>\n",
       "    </tr>\n",
       "    <tr>\n",
       "      <th>6</th>\n",
       "      <td>2019</td>\n",
       "      <td>0.75</td>\n",
       "      <td>0.153846</td>\n",
       "      <td>NaN</td>\n",
       "    </tr>\n",
       "    <tr>\n",
       "      <th>7</th>\n",
       "      <td>2020</td>\n",
       "      <td>1.60</td>\n",
       "      <td>1.133333</td>\n",
       "      <td>NaN</td>\n",
       "    </tr>\n",
       "    <tr>\n",
       "      <th>8</th>\n",
       "      <td>2021</td>\n",
       "      <td>0.60</td>\n",
       "      <td>-0.625000</td>\n",
       "      <td>NaN</td>\n",
       "    </tr>\n",
       "    <tr>\n",
       "      <th>9</th>\n",
       "      <td>2022</td>\n",
       "      <td>0.64</td>\n",
       "      <td>0.066667</td>\n",
       "      <td>NaN</td>\n",
       "    </tr>\n",
       "    <tr>\n",
       "      <th>10</th>\n",
       "      <td>2023</td>\n",
       "      <td>1.11</td>\n",
       "      <td>0.734375</td>\n",
       "      <td>2.171429</td>\n",
       "    </tr>\n",
       "  </tbody>\n",
       "</table>\n",
       "</div>"
      ],
      "text/plain": [
       "    Date  Dividends  pct_change  pct_change_10\n",
       "0   2013       0.35         NaN            NaN\n",
       "1   2014       0.41    0.171429            NaN\n",
       "2   2015       0.46    0.121951            NaN\n",
       "3   2016       0.52    0.130435            NaN\n",
       "4   2017       0.58    0.115385            NaN\n",
       "5   2018       0.65    0.120690            NaN\n",
       "6   2019       0.75    0.153846            NaN\n",
       "7   2020       1.60    1.133333            NaN\n",
       "8   2021       0.60   -0.625000            NaN\n",
       "9   2022       0.64    0.066667            NaN\n",
       "10  2023       1.11    0.734375       2.171429"
      ]
     },
     "execution_count": 8,
     "metadata": {},
     "output_type": "execute_result"
    }
   ],
   "source": [
    "div_df_10yrs_grouped[\"Dividends\"]"
   ]
  },
  {
   "cell_type": "code",
   "execution_count": 11,
   "metadata": {},
   "outputs": [
    {
     "data": {
      "text/plain": [
       "0.3031620553359684"
      ]
     },
     "execution_count": 11,
     "metadata": {},
     "output_type": "execute_result"
    }
   ],
   "source": [
    "div_df_10yrs_grouped[\"Dividends\"].mean() / income.loc[\"Diluted EPS\"].mean()"
   ]
  },
  {
   "cell_type": "code",
   "execution_count": null,
   "metadata": {},
   "outputs": [],
   "source": []
  }
 ],
 "metadata": {
  "kernelspec": {
   "display_name": "Python 3",
   "language": "python",
   "name": "python3"
  },
  "language_info": {
   "codemirror_mode": {
    "name": "ipython",
    "version": 3
   },
   "file_extension": ".py",
   "mimetype": "text/x-python",
   "name": "python",
   "nbconvert_exporter": "python",
   "pygments_lexer": "ipython3",
   "version": "3.10.12"
  }
 },
 "nbformat": 4,
 "nbformat_minor": 2
}
