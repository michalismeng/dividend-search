{
 "cells": [
  {
   "cell_type": "markdown",
   "metadata": {},
   "source": [
    "## Search for dividend growth companies\n",
    "\n",
    "### Update Oct 2023\n",
    "\n",
    "We will begin our search with in Netherlands, which currently seems to be a booming economy and has relatively low dividend tax 15% (https://taxsummaries.pwc.com/netherlands/corporate/withholding-taxes)."
   ]
  },
  {
   "cell_type": "code",
   "execution_count": 1,
   "metadata": {},
   "outputs": [],
   "source": [
    "import yfinance as yf\n",
    "import pandas as pd\n",
    "import numpy as np\n",
    "from scipy import stats\n",
    "import datetime\n",
    "import pytz\n"
   ]
  },
  {
   "cell_type": "code",
   "execution_count": 2,
   "metadata": {},
   "outputs": [
    {
     "ename": "FileNotFoundError",
     "evalue": "[Errno 2] No such file or directory: 'amsterdam_exch_2023-10-14.csv'",
     "output_type": "error",
     "traceback": [
      "\u001b[0;31m---------------------------------------------------------------------------\u001b[0m",
      "\u001b[0;31mFileNotFoundError\u001b[0m                         Traceback (most recent call last)",
      "\u001b[1;32m/home/mmeng/git/dividend-search/main.ipynb Cell 3\u001b[0m line \u001b[0;36m2\n\u001b[1;32m      <a href='vscode-notebook-cell:/home/mmeng/git/dividend-search/main.ipynb#W2sZmlsZQ%3D%3D?line=0'>1</a>\u001b[0m \u001b[39m# dfs = pd.read_html(\"https://www.dividendmax.com/stock-exchange-listings/netherlands/euronext-amsterdam\")\u001b[39;00m\n\u001b[0;32m----> <a href='vscode-notebook-cell:/home/mmeng/git/dividend-search/main.ipynb#W2sZmlsZQ%3D%3D?line=1'>2</a>\u001b[0m df \u001b[39m=\u001b[39m pd\u001b[39m.\u001b[39;49mread_csv(\u001b[39m\"\u001b[39;49m\u001b[39mamsterdam_exch_2023-10-14.csv\u001b[39;49m\u001b[39m\"\u001b[39;49m, sep\u001b[39m=\u001b[39;49m\u001b[39m\"\u001b[39;49m\u001b[39m;\u001b[39;49m\u001b[39m\"\u001b[39;49m)\n\u001b[1;32m      <a href='vscode-notebook-cell:/home/mmeng/git/dividend-search/main.ipynb#W2sZmlsZQ%3D%3D?line=2'>3</a>\u001b[0m \u001b[39mdef\u001b[39;00m \u001b[39mflatten\u001b[39m(l):\n\u001b[1;32m      <a href='vscode-notebook-cell:/home/mmeng/git/dividend-search/main.ipynb#W2sZmlsZQ%3D%3D?line=3'>4</a>\u001b[0m     \u001b[39mreturn\u001b[39;00m [item \u001b[39mfor\u001b[39;00m sublist \u001b[39min\u001b[39;00m l \u001b[39mfor\u001b[39;00m item \u001b[39min\u001b[39;00m sublist]\n",
      "File \u001b[0;32m~/.local/lib/python3.10/site-packages/pandas/util/_decorators.py:211\u001b[0m, in \u001b[0;36mdeprecate_kwarg.<locals>._deprecate_kwarg.<locals>.wrapper\u001b[0;34m(*args, **kwargs)\u001b[0m\n\u001b[1;32m    209\u001b[0m     \u001b[39melse\u001b[39;00m:\n\u001b[1;32m    210\u001b[0m         kwargs[new_arg_name] \u001b[39m=\u001b[39m new_arg_value\n\u001b[0;32m--> 211\u001b[0m \u001b[39mreturn\u001b[39;00m func(\u001b[39m*\u001b[39;49margs, \u001b[39m*\u001b[39;49m\u001b[39m*\u001b[39;49mkwargs)\n",
      "File \u001b[0;32m~/.local/lib/python3.10/site-packages/pandas/util/_decorators.py:331\u001b[0m, in \u001b[0;36mdeprecate_nonkeyword_arguments.<locals>.decorate.<locals>.wrapper\u001b[0;34m(*args, **kwargs)\u001b[0m\n\u001b[1;32m    325\u001b[0m \u001b[39mif\u001b[39;00m \u001b[39mlen\u001b[39m(args) \u001b[39m>\u001b[39m num_allow_args:\n\u001b[1;32m    326\u001b[0m     warnings\u001b[39m.\u001b[39mwarn(\n\u001b[1;32m    327\u001b[0m         msg\u001b[39m.\u001b[39mformat(arguments\u001b[39m=\u001b[39m_format_argument_list(allow_args)),\n\u001b[1;32m    328\u001b[0m         \u001b[39mFutureWarning\u001b[39;00m,\n\u001b[1;32m    329\u001b[0m         stacklevel\u001b[39m=\u001b[39mfind_stack_level(),\n\u001b[1;32m    330\u001b[0m     )\n\u001b[0;32m--> 331\u001b[0m \u001b[39mreturn\u001b[39;00m func(\u001b[39m*\u001b[39;49margs, \u001b[39m*\u001b[39;49m\u001b[39m*\u001b[39;49mkwargs)\n",
      "File \u001b[0;32m~/.local/lib/python3.10/site-packages/pandas/io/parsers/readers.py:950\u001b[0m, in \u001b[0;36mread_csv\u001b[0;34m(filepath_or_buffer, sep, delimiter, header, names, index_col, usecols, squeeze, prefix, mangle_dupe_cols, dtype, engine, converters, true_values, false_values, skipinitialspace, skiprows, skipfooter, nrows, na_values, keep_default_na, na_filter, verbose, skip_blank_lines, parse_dates, infer_datetime_format, keep_date_col, date_parser, dayfirst, cache_dates, iterator, chunksize, compression, thousands, decimal, lineterminator, quotechar, quoting, doublequote, escapechar, comment, encoding, encoding_errors, dialect, error_bad_lines, warn_bad_lines, on_bad_lines, delim_whitespace, low_memory, memory_map, float_precision, storage_options)\u001b[0m\n\u001b[1;32m    935\u001b[0m kwds_defaults \u001b[39m=\u001b[39m _refine_defaults_read(\n\u001b[1;32m    936\u001b[0m     dialect,\n\u001b[1;32m    937\u001b[0m     delimiter,\n\u001b[0;32m   (...)\u001b[0m\n\u001b[1;32m    946\u001b[0m     defaults\u001b[39m=\u001b[39m{\u001b[39m\"\u001b[39m\u001b[39mdelimiter\u001b[39m\u001b[39m\"\u001b[39m: \u001b[39m\"\u001b[39m\u001b[39m,\u001b[39m\u001b[39m\"\u001b[39m},\n\u001b[1;32m    947\u001b[0m )\n\u001b[1;32m    948\u001b[0m kwds\u001b[39m.\u001b[39mupdate(kwds_defaults)\n\u001b[0;32m--> 950\u001b[0m \u001b[39mreturn\u001b[39;00m _read(filepath_or_buffer, kwds)\n",
      "File \u001b[0;32m~/.local/lib/python3.10/site-packages/pandas/io/parsers/readers.py:605\u001b[0m, in \u001b[0;36m_read\u001b[0;34m(filepath_or_buffer, kwds)\u001b[0m\n\u001b[1;32m    602\u001b[0m _validate_names(kwds\u001b[39m.\u001b[39mget(\u001b[39m\"\u001b[39m\u001b[39mnames\u001b[39m\u001b[39m\"\u001b[39m, \u001b[39mNone\u001b[39;00m))\n\u001b[1;32m    604\u001b[0m \u001b[39m# Create the parser.\u001b[39;00m\n\u001b[0;32m--> 605\u001b[0m parser \u001b[39m=\u001b[39m TextFileReader(filepath_or_buffer, \u001b[39m*\u001b[39;49m\u001b[39m*\u001b[39;49mkwds)\n\u001b[1;32m    607\u001b[0m \u001b[39mif\u001b[39;00m chunksize \u001b[39mor\u001b[39;00m iterator:\n\u001b[1;32m    608\u001b[0m     \u001b[39mreturn\u001b[39;00m parser\n",
      "File \u001b[0;32m~/.local/lib/python3.10/site-packages/pandas/io/parsers/readers.py:1442\u001b[0m, in \u001b[0;36mTextFileReader.__init__\u001b[0;34m(self, f, engine, **kwds)\u001b[0m\n\u001b[1;32m   1439\u001b[0m     \u001b[39mself\u001b[39m\u001b[39m.\u001b[39moptions[\u001b[39m\"\u001b[39m\u001b[39mhas_index_names\u001b[39m\u001b[39m\"\u001b[39m] \u001b[39m=\u001b[39m kwds[\u001b[39m\"\u001b[39m\u001b[39mhas_index_names\u001b[39m\u001b[39m\"\u001b[39m]\n\u001b[1;32m   1441\u001b[0m \u001b[39mself\u001b[39m\u001b[39m.\u001b[39mhandles: IOHandles \u001b[39m|\u001b[39m \u001b[39mNone\u001b[39;00m \u001b[39m=\u001b[39m \u001b[39mNone\u001b[39;00m\n\u001b[0;32m-> 1442\u001b[0m \u001b[39mself\u001b[39m\u001b[39m.\u001b[39m_engine \u001b[39m=\u001b[39m \u001b[39mself\u001b[39;49m\u001b[39m.\u001b[39;49m_make_engine(f, \u001b[39mself\u001b[39;49m\u001b[39m.\u001b[39;49mengine)\n",
      "File \u001b[0;32m~/.local/lib/python3.10/site-packages/pandas/io/parsers/readers.py:1735\u001b[0m, in \u001b[0;36mTextFileReader._make_engine\u001b[0;34m(self, f, engine)\u001b[0m\n\u001b[1;32m   1733\u001b[0m     \u001b[39mif\u001b[39;00m \u001b[39m\"\u001b[39m\u001b[39mb\u001b[39m\u001b[39m\"\u001b[39m \u001b[39mnot\u001b[39;00m \u001b[39min\u001b[39;00m mode:\n\u001b[1;32m   1734\u001b[0m         mode \u001b[39m+\u001b[39m\u001b[39m=\u001b[39m \u001b[39m\"\u001b[39m\u001b[39mb\u001b[39m\u001b[39m\"\u001b[39m\n\u001b[0;32m-> 1735\u001b[0m \u001b[39mself\u001b[39m\u001b[39m.\u001b[39mhandles \u001b[39m=\u001b[39m get_handle(\n\u001b[1;32m   1736\u001b[0m     f,\n\u001b[1;32m   1737\u001b[0m     mode,\n\u001b[1;32m   1738\u001b[0m     encoding\u001b[39m=\u001b[39;49m\u001b[39mself\u001b[39;49m\u001b[39m.\u001b[39;49moptions\u001b[39m.\u001b[39;49mget(\u001b[39m\"\u001b[39;49m\u001b[39mencoding\u001b[39;49m\u001b[39m\"\u001b[39;49m, \u001b[39mNone\u001b[39;49;00m),\n\u001b[1;32m   1739\u001b[0m     compression\u001b[39m=\u001b[39;49m\u001b[39mself\u001b[39;49m\u001b[39m.\u001b[39;49moptions\u001b[39m.\u001b[39;49mget(\u001b[39m\"\u001b[39;49m\u001b[39mcompression\u001b[39;49m\u001b[39m\"\u001b[39;49m, \u001b[39mNone\u001b[39;49;00m),\n\u001b[1;32m   1740\u001b[0m     memory_map\u001b[39m=\u001b[39;49m\u001b[39mself\u001b[39;49m\u001b[39m.\u001b[39;49moptions\u001b[39m.\u001b[39;49mget(\u001b[39m\"\u001b[39;49m\u001b[39mmemory_map\u001b[39;49m\u001b[39m\"\u001b[39;49m, \u001b[39mFalse\u001b[39;49;00m),\n\u001b[1;32m   1741\u001b[0m     is_text\u001b[39m=\u001b[39;49mis_text,\n\u001b[1;32m   1742\u001b[0m     errors\u001b[39m=\u001b[39;49m\u001b[39mself\u001b[39;49m\u001b[39m.\u001b[39;49moptions\u001b[39m.\u001b[39;49mget(\u001b[39m\"\u001b[39;49m\u001b[39mencoding_errors\u001b[39;49m\u001b[39m\"\u001b[39;49m, \u001b[39m\"\u001b[39;49m\u001b[39mstrict\u001b[39;49m\u001b[39m\"\u001b[39;49m),\n\u001b[1;32m   1743\u001b[0m     storage_options\u001b[39m=\u001b[39;49m\u001b[39mself\u001b[39;49m\u001b[39m.\u001b[39;49moptions\u001b[39m.\u001b[39;49mget(\u001b[39m\"\u001b[39;49m\u001b[39mstorage_options\u001b[39;49m\u001b[39m\"\u001b[39;49m, \u001b[39mNone\u001b[39;49;00m),\n\u001b[1;32m   1744\u001b[0m )\n\u001b[1;32m   1745\u001b[0m \u001b[39massert\u001b[39;00m \u001b[39mself\u001b[39m\u001b[39m.\u001b[39mhandles \u001b[39mis\u001b[39;00m \u001b[39mnot\u001b[39;00m \u001b[39mNone\u001b[39;00m\n\u001b[1;32m   1746\u001b[0m f \u001b[39m=\u001b[39m \u001b[39mself\u001b[39m\u001b[39m.\u001b[39mhandles\u001b[39m.\u001b[39mhandle\n",
      "File \u001b[0;32m~/.local/lib/python3.10/site-packages/pandas/io/common.py:856\u001b[0m, in \u001b[0;36mget_handle\u001b[0;34m(path_or_buf, mode, encoding, compression, memory_map, is_text, errors, storage_options)\u001b[0m\n\u001b[1;32m    851\u001b[0m \u001b[39melif\u001b[39;00m \u001b[39misinstance\u001b[39m(handle, \u001b[39mstr\u001b[39m):\n\u001b[1;32m    852\u001b[0m     \u001b[39m# Check whether the filename is to be opened in binary mode.\u001b[39;00m\n\u001b[1;32m    853\u001b[0m     \u001b[39m# Binary mode does not support 'encoding' and 'newline'.\u001b[39;00m\n\u001b[1;32m    854\u001b[0m     \u001b[39mif\u001b[39;00m ioargs\u001b[39m.\u001b[39mencoding \u001b[39mand\u001b[39;00m \u001b[39m\"\u001b[39m\u001b[39mb\u001b[39m\u001b[39m\"\u001b[39m \u001b[39mnot\u001b[39;00m \u001b[39min\u001b[39;00m ioargs\u001b[39m.\u001b[39mmode:\n\u001b[1;32m    855\u001b[0m         \u001b[39m# Encoding\u001b[39;00m\n\u001b[0;32m--> 856\u001b[0m         handle \u001b[39m=\u001b[39m \u001b[39mopen\u001b[39;49m(\n\u001b[1;32m    857\u001b[0m             handle,\n\u001b[1;32m    858\u001b[0m             ioargs\u001b[39m.\u001b[39;49mmode,\n\u001b[1;32m    859\u001b[0m             encoding\u001b[39m=\u001b[39;49mioargs\u001b[39m.\u001b[39;49mencoding,\n\u001b[1;32m    860\u001b[0m             errors\u001b[39m=\u001b[39;49merrors,\n\u001b[1;32m    861\u001b[0m             newline\u001b[39m=\u001b[39;49m\u001b[39m\"\u001b[39;49m\u001b[39m\"\u001b[39;49m,\n\u001b[1;32m    862\u001b[0m         )\n\u001b[1;32m    863\u001b[0m     \u001b[39melse\u001b[39;00m:\n\u001b[1;32m    864\u001b[0m         \u001b[39m# Binary mode\u001b[39;00m\n\u001b[1;32m    865\u001b[0m         handle \u001b[39m=\u001b[39m \u001b[39mopen\u001b[39m(handle, ioargs\u001b[39m.\u001b[39mmode)\n",
      "\u001b[0;31mFileNotFoundError\u001b[0m: [Errno 2] No such file or directory: 'amsterdam_exch_2023-10-14.csv'"
     ]
    }
   ],
   "source": [
    "# dfs = pd.read_html(\"https://www.dividendmax.com/stock-exchange-listings/netherlands/euronext-amsterdam\")\n",
    "df = pd.read_csv(\"amsterdam_exch_2023-10-14.csv\", sep=\";\")\n",
    "def flatten(l):\n",
    "    return [item for sublist in l for item in sublist]\n",
    "pd.DataFrame(flatten(df[\"Market\"].str.split(\",\").to_list()))[0].unique()"
   ]
  },
  {
   "cell_type": "code",
   "execution_count": null,
   "metadata": {},
   "outputs": [
    {
     "data": {
      "text/plain": [
       "'AALB'"
      ]
     },
     "execution_count": 6,
     "metadata": {},
     "output_type": "execute_result"
    }
   ],
   "source": [
    "df.iloc[0][\"Symbol\"]"
   ]
  },
  {
   "cell_type": "code",
   "execution_count": null,
   "metadata": {},
   "outputs": [
    {
     "ename": "IndexError",
     "evalue": "index 0 is out of bounds for axis 0 with size 0",
     "output_type": "error",
     "traceback": [
      "\u001b[0;31m---------------------------------------------------------------------------\u001b[0m",
      "\u001b[0;31mIndexError\u001b[0m                                Traceback (most recent call last)",
      "\u001b[1;32m/home/mmeng/git/dividend-search/main.ipynb Cell 5\u001b[0m line \u001b[0;36m3\n\u001b[1;32m      <a href='vscode-notebook-cell:/home/mmeng/git/dividend-search/main.ipynb#W4sZmlsZQ%3D%3D?line=0'>1</a>\u001b[0m symbol \u001b[39m=\u001b[39m \u001b[39m\"\u001b[39m\u001b[39mQWABS\u001b[39m\u001b[39m\"\u001b[39m\n\u001b[1;32m      <a href='vscode-notebook-cell:/home/mmeng/git/dividend-search/main.ipynb#W4sZmlsZQ%3D%3D?line=1'>2</a>\u001b[0m company \u001b[39m=\u001b[39m yf\u001b[39m.\u001b[39mTicker(symbol \u001b[39m+\u001b[39m \u001b[39m\"\u001b[39m\u001b[39m.PA\u001b[39m\u001b[39m\"\u001b[39m)\n\u001b[0;32m----> <a href='vscode-notebook-cell:/home/mmeng/git/dividend-search/main.ipynb#W4sZmlsZQ%3D%3D?line=2'>3</a>\u001b[0m \u001b[39mif\u001b[39;00m \u001b[39mlen\u001b[39m(company\u001b[39m.\u001b[39;49mdividends):\n\u001b[1;32m      <a href='vscode-notebook-cell:/home/mmeng/git/dividend-search/main.ipynb#W4sZmlsZQ%3D%3D?line=3'>4</a>\u001b[0m     div_df \u001b[39m=\u001b[39m pd\u001b[39m.\u001b[39mDataFrame(company\u001b[39m.\u001b[39mdividends)\u001b[39m.\u001b[39mreset_index()\n\u001b[1;32m      <a href='vscode-notebook-cell:/home/mmeng/git/dividend-search/main.ipynb#W4sZmlsZQ%3D%3D?line=4'>5</a>\u001b[0m     tz \u001b[39m=\u001b[39m pytz\u001b[39m.\u001b[39mtimezone(\u001b[39mstr\u001b[39m(div_df[\u001b[39m\"\u001b[39m\u001b[39mDate\u001b[39m\u001b[39m\"\u001b[39m]\u001b[39m.\u001b[39miloc[\u001b[39m0\u001b[39m]\u001b[39m.\u001b[39mtz))\n",
      "File \u001b[0;32m~/.local/lib/python3.10/site-packages/yfinance/ticker.py:122\u001b[0m, in \u001b[0;36mTicker.dividends\u001b[0;34m(self)\u001b[0m\n\u001b[1;32m    120\u001b[0m \u001b[39m@property\u001b[39m\n\u001b[1;32m    121\u001b[0m \u001b[39mdef\u001b[39;00m \u001b[39mdividends\u001b[39m(\u001b[39mself\u001b[39m) \u001b[39m-\u001b[39m\u001b[39m>\u001b[39m _pd\u001b[39m.\u001b[39mSeries:\n\u001b[0;32m--> 122\u001b[0m     \u001b[39mreturn\u001b[39;00m \u001b[39mself\u001b[39;49m\u001b[39m.\u001b[39;49mget_dividends()\n",
      "File \u001b[0;32m~/.local/lib/python3.10/site-packages/yfinance/base.py:1915\u001b[0m, in \u001b[0;36mTickerBase.get_dividends\u001b[0;34m(self, proxy)\u001b[0m\n\u001b[1;32m   1913\u001b[0m \u001b[39mdef\u001b[39;00m \u001b[39mget_dividends\u001b[39m(\u001b[39mself\u001b[39m, proxy\u001b[39m=\u001b[39m\u001b[39mNone\u001b[39;00m):\n\u001b[1;32m   1914\u001b[0m     \u001b[39mif\u001b[39;00m \u001b[39mself\u001b[39m\u001b[39m.\u001b[39m_history \u001b[39mis\u001b[39;00m \u001b[39mNone\u001b[39;00m:\n\u001b[0;32m-> 1915\u001b[0m         \u001b[39mself\u001b[39;49m\u001b[39m.\u001b[39;49mhistory(period\u001b[39m=\u001b[39;49m\u001b[39m\"\u001b[39;49m\u001b[39mmax\u001b[39;49m\u001b[39m\"\u001b[39;49m, proxy\u001b[39m=\u001b[39;49mproxy)\n\u001b[1;32m   1916\u001b[0m     \u001b[39mif\u001b[39;00m \u001b[39mself\u001b[39m\u001b[39m.\u001b[39m_history \u001b[39mis\u001b[39;00m \u001b[39mnot\u001b[39;00m \u001b[39mNone\u001b[39;00m \u001b[39mand\u001b[39;00m \u001b[39m\"\u001b[39m\u001b[39mDividends\u001b[39m\u001b[39m\"\u001b[39m \u001b[39min\u001b[39;00m \u001b[39mself\u001b[39m\u001b[39m.\u001b[39m_history:\n\u001b[1;32m   1917\u001b[0m         dividends \u001b[39m=\u001b[39m \u001b[39mself\u001b[39m\u001b[39m.\u001b[39m_history[\u001b[39m\"\u001b[39m\u001b[39mDividends\u001b[39m\u001b[39m\"\u001b[39m]\n",
      "File \u001b[0;32m~/.local/lib/python3.10/site-packages/yfinance/utils.py:114\u001b[0m, in \u001b[0;36mlog_indent_decorator.<locals>.wrapper\u001b[0;34m(*args, **kwargs)\u001b[0m\n\u001b[1;32m    111\u001b[0m logger\u001b[39m.\u001b[39mdebug(\u001b[39mf\u001b[39m\u001b[39m'\u001b[39m\u001b[39mEntering \u001b[39m\u001b[39m{\u001b[39;00mfunc\u001b[39m.\u001b[39m\u001b[39m__name__\u001b[39m\u001b[39m}\u001b[39;00m\u001b[39m()\u001b[39m\u001b[39m'\u001b[39m)\n\u001b[1;32m    113\u001b[0m \u001b[39mwith\u001b[39;00m IndentationContext():\n\u001b[0;32m--> 114\u001b[0m     result \u001b[39m=\u001b[39m func(\u001b[39m*\u001b[39;49margs, \u001b[39m*\u001b[39;49m\u001b[39m*\u001b[39;49mkwargs)\n\u001b[1;32m    116\u001b[0m logger\u001b[39m.\u001b[39mdebug(\u001b[39mf\u001b[39m\u001b[39m'\u001b[39m\u001b[39mExiting \u001b[39m\u001b[39m{\u001b[39;00mfunc\u001b[39m.\u001b[39m\u001b[39m__name__\u001b[39m\u001b[39m}\u001b[39;00m\u001b[39m()\u001b[39m\u001b[39m'\u001b[39m)\n\u001b[1;32m    117\u001b[0m \u001b[39mreturn\u001b[39;00m result\n",
      "File \u001b[0;32m~/.local/lib/python3.10/site-packages/yfinance/base.py:444\u001b[0m, in \u001b[0;36mTickerBase.history\u001b[0;34m(self, period, interval, start, end, prepost, actions, auto_adjust, back_adjust, repair, keepna, proxy, rounding, timeout, debug, raise_errors)\u001b[0m\n\u001b[1;32m    441\u001b[0m     mask_nan_or_zero \u001b[39m=\u001b[39m (df\u001b[39m.\u001b[39misna() \u001b[39m|\u001b[39m (df \u001b[39m==\u001b[39m \u001b[39m0\u001b[39m))\u001b[39m.\u001b[39mall(axis\u001b[39m=\u001b[39m\u001b[39m1\u001b[39m)\n\u001b[1;32m    442\u001b[0m     df \u001b[39m=\u001b[39m df\u001b[39m.\u001b[39mdrop(mask_nan_or_zero\u001b[39m.\u001b[39mindex[mask_nan_or_zero])\n\u001b[0;32m--> 444\u001b[0m logger\u001b[39m.\u001b[39mdebug(\u001b[39mf\u001b[39m\u001b[39m'\u001b[39m\u001b[39m{\u001b[39;00m\u001b[39mself\u001b[39m\u001b[39m.\u001b[39mticker\u001b[39m}\u001b[39;00m\u001b[39m: yfinance returning OHLC: \u001b[39m\u001b[39m{\u001b[39;00mdf\u001b[39m.\u001b[39;49mindex[\u001b[39m0\u001b[39;49m]\u001b[39m}\u001b[39;00m\u001b[39m -> \u001b[39m\u001b[39m{\u001b[39;00mdf\u001b[39m.\u001b[39mindex[\u001b[39m-\u001b[39m\u001b[39m1\u001b[39m]\u001b[39m}\u001b[39;00m\u001b[39m'\u001b[39m)\n\u001b[1;32m    446\u001b[0m \u001b[39mif\u001b[39;00m \u001b[39mself\u001b[39m\u001b[39m.\u001b[39m_reconstruct_start_interval \u001b[39mis\u001b[39;00m \u001b[39mnot\u001b[39;00m \u001b[39mNone\u001b[39;00m \u001b[39mand\u001b[39;00m \u001b[39mself\u001b[39m\u001b[39m.\u001b[39m_reconstruct_start_interval \u001b[39m==\u001b[39m interval:\n\u001b[1;32m    447\u001b[0m     \u001b[39mself\u001b[39m\u001b[39m.\u001b[39m_reconstruct_start_interval \u001b[39m=\u001b[39m \u001b[39mNone\u001b[39;00m\n",
      "File \u001b[0;32m~/.local/lib/python3.10/site-packages/pandas/core/indexes/base.py:5320\u001b[0m, in \u001b[0;36mIndex.__getitem__\u001b[0;34m(self, key)\u001b[0m\n\u001b[1;32m   5317\u001b[0m \u001b[39mif\u001b[39;00m is_integer(key) \u001b[39mor\u001b[39;00m is_float(key):\n\u001b[1;32m   5318\u001b[0m     \u001b[39m# GH#44051 exclude bool, which would return a 2d ndarray\u001b[39;00m\n\u001b[1;32m   5319\u001b[0m     key \u001b[39m=\u001b[39m com\u001b[39m.\u001b[39mcast_scalar_indexer(key, warn_float\u001b[39m=\u001b[39m\u001b[39mTrue\u001b[39;00m)\n\u001b[0;32m-> 5320\u001b[0m     \u001b[39mreturn\u001b[39;00m getitem(key)\n\u001b[1;32m   5322\u001b[0m \u001b[39mif\u001b[39;00m \u001b[39misinstance\u001b[39m(key, \u001b[39mslice\u001b[39m):\n\u001b[1;32m   5323\u001b[0m     \u001b[39m# This case is separated from the conditional above to avoid\u001b[39;00m\n\u001b[1;32m   5324\u001b[0m     \u001b[39m# pessimization com.is_bool_indexer and ndim checks.\u001b[39;00m\n\u001b[1;32m   5325\u001b[0m     result \u001b[39m=\u001b[39m getitem(key)\n",
      "File \u001b[0;32m~/.local/lib/python3.10/site-packages/pandas/core/arrays/datetimelike.py:358\u001b[0m, in \u001b[0;36mDatetimeLikeArrayMixin.__getitem__\u001b[0;34m(self, key)\u001b[0m\n\u001b[1;32m    350\u001b[0m \u001b[39m\u001b[39m\u001b[39m\"\"\"\u001b[39;00m\n\u001b[1;32m    351\u001b[0m \u001b[39mThis getitem defers to the underlying array, which by-definition can\u001b[39;00m\n\u001b[1;32m    352\u001b[0m \u001b[39monly handle list-likes, slices, and integer scalars\u001b[39;00m\n\u001b[1;32m    353\u001b[0m \u001b[39m\"\"\"\u001b[39;00m\n\u001b[1;32m    354\u001b[0m \u001b[39m# Use cast as we know we will get back a DatetimeLikeArray or DTScalar,\u001b[39;00m\n\u001b[1;32m    355\u001b[0m \u001b[39m# but skip evaluating the Union at runtime for performance\u001b[39;00m\n\u001b[1;32m    356\u001b[0m \u001b[39m# (see https://github.com/pandas-dev/pandas/pull/44624)\u001b[39;00m\n\u001b[1;32m    357\u001b[0m result \u001b[39m=\u001b[39m cast(\n\u001b[0;32m--> 358\u001b[0m     \u001b[39m\"\u001b[39m\u001b[39mUnion[DatetimeLikeArrayT, DTScalarOrNaT]\u001b[39m\u001b[39m\"\u001b[39m, \u001b[39msuper\u001b[39;49m()\u001b[39m.\u001b[39;49m\u001b[39m__getitem__\u001b[39;49m(key)\n\u001b[1;32m    359\u001b[0m )\n\u001b[1;32m    360\u001b[0m \u001b[39mif\u001b[39;00m lib\u001b[39m.\u001b[39mis_scalar(result):\n\u001b[1;32m    361\u001b[0m     \u001b[39mreturn\u001b[39;00m result\n",
      "File \u001b[0;32m~/.local/lib/python3.10/site-packages/pandas/core/arrays/_mixins.py:289\u001b[0m, in \u001b[0;36mNDArrayBackedExtensionArray.__getitem__\u001b[0;34m(self, key)\u001b[0m\n\u001b[1;32m    283\u001b[0m \u001b[39mdef\u001b[39;00m \u001b[39m__getitem__\u001b[39m(\n\u001b[1;32m    284\u001b[0m     \u001b[39mself\u001b[39m: NDArrayBackedExtensionArrayT,\n\u001b[1;32m    285\u001b[0m     key: PositionalIndexer2D,\n\u001b[1;32m    286\u001b[0m ) \u001b[39m-\u001b[39m\u001b[39m>\u001b[39m NDArrayBackedExtensionArrayT \u001b[39m|\u001b[39m Any:\n\u001b[1;32m    287\u001b[0m     \u001b[39mif\u001b[39;00m lib\u001b[39m.\u001b[39mis_integer(key):\n\u001b[1;32m    288\u001b[0m         \u001b[39m# fast-path\u001b[39;00m\n\u001b[0;32m--> 289\u001b[0m         result \u001b[39m=\u001b[39m \u001b[39mself\u001b[39;49m\u001b[39m.\u001b[39;49m_ndarray[key]\n\u001b[1;32m    290\u001b[0m         \u001b[39mif\u001b[39;00m \u001b[39mself\u001b[39m\u001b[39m.\u001b[39mndim \u001b[39m==\u001b[39m \u001b[39m1\u001b[39m:\n\u001b[1;32m    291\u001b[0m             \u001b[39mreturn\u001b[39;00m \u001b[39mself\u001b[39m\u001b[39m.\u001b[39m_box_func(result)\n",
      "\u001b[0;31mIndexError\u001b[0m: index 0 is out of bounds for axis 0 with size 0"
     ]
    }
   ],
   "source": [
    "symbol = \"QWABS\"\n",
    "company = yf.Ticker(symbol + \".PA\")\n",
    "if len(company.dividends):\n",
    "    div_df = pd.DataFrame(company.dividends).reset_index()\n",
    "    tz = pytz.timezone(str(div_df[\"Date\"].iloc[0].tz))\n",
    "    div_df_10yrs = div_df[div_df[\"Date\"] >= datetime.datetime(2013, 1, 1, tzinfo=tz)]\n",
    "    div_df_10yrs_grouped = div_df_10yrs.groupby(div_df_10yrs[\"Date\"].dt.year).sum(numeric_only=True).reset_index()\n",
    "    div_df_10yrs_grouped[\"pct_change\"] = div_df_10yrs_grouped[\"Dividends\"].pct_change(periods=1)\n",
    "    div_df_10yrs_grouped[\"pct_change_10\"] = div_df_10yrs_grouped[\"Dividends\"].pct_change(periods=10)\n"
   ]
  },
  {
   "cell_type": "code",
   "execution_count": null,
   "metadata": {},
   "outputs": [],
   "source": [
    "pd.DataFrame(company.dividends).reset_index()\n",
    "if len(company.dividends):\n",
    "    print(\"hello\")"
   ]
  },
  {
   "cell_type": "code",
   "execution_count": null,
   "metadata": {},
   "outputs": [
    {
     "data": {
      "text/plain": [
       "{'growth_10': 0.6666666666666667,\n",
       " 'growth_yy_10': 0.05840007284126747,\n",
       " 'growth_yy_5': 0.008548252303932413,\n",
       " 'growth_yy_3': 0.06265856918261115,\n",
       " 'growth_yy_1': 0.14285714285714302}"
      ]
     },
     "execution_count": 32,
     "metadata": {},
     "output_type": "execute_result"
    }
   ],
   "source": [
    "year_10 = 10 if len(div_df_10yrs_grouped) > 10 else len(div_df_10yrs_grouped) - 1\n",
    "year_5 = 5 if len(div_df_10yrs_grouped) > 5 else len(div_df_10yrs_grouped) - 1\n",
    "res = {\n",
    "    \"growth_10\": div_df_10yrs_grouped[\"Dividends\"].pct_change(periods=year_10).iloc[-1],\n",
    "    \"growth_yy_10\": ((div_df_10yrs_grouped[\"Dividends\"].shift(-year_10) / div_df_10yrs_grouped[\"Dividends\"]) ** (1 / year_10) - 1).dropna().iloc[-1],\n",
    "    \"growth_yy_5\": ((div_df_10yrs_grouped[\"Dividends\"].shift(-year_5) / div_df_10yrs_grouped[\"Dividends\"]) ** (1 / year_5) - 1).dropna().iloc[-1],\n",
    "    \"growth_yy_3\": ((div_df_10yrs_grouped[\"Dividends\"].shift(-3) / div_df_10yrs_grouped[\"Dividends\"]) ** (1 / 3) - 1).dropna().iloc[-1],\n",
    "    \"growth_yy_1\": ((div_df_10yrs_grouped[\"Dividends\"].shift(-1) / div_df_10yrs_grouped[\"Dividends\"]) ** (1 / 1) - 1).dropna().iloc[-1],\n",
    "}\n",
    "res"
   ]
  },
  {
   "cell_type": "code",
   "execution_count": null,
   "metadata": {},
   "outputs": [
    {
     "data": {
      "text/html": [
       "<div>\n",
       "<style scoped>\n",
       "    .dataframe tbody tr th:only-of-type {\n",
       "        vertical-align: middle;\n",
       "    }\n",
       "\n",
       "    .dataframe tbody tr th {\n",
       "        vertical-align: top;\n",
       "    }\n",
       "\n",
       "    .dataframe thead th {\n",
       "        text-align: right;\n",
       "    }\n",
       "</style>\n",
       "<table border=\"1\" class=\"dataframe\">\n",
       "  <thead>\n",
       "    <tr style=\"text-align: right;\">\n",
       "      <th></th>\n",
       "      <th>Date</th>\n",
       "      <th>Dividends</th>\n",
       "      <th>pct_change</th>\n",
       "      <th>pct_change_10</th>\n",
       "    </tr>\n",
       "  </thead>\n",
       "  <tbody>\n",
       "    <tr>\n",
       "      <th>9</th>\n",
       "      <td>2023</td>\n",
       "      <td>1.20</td>\n",
       "      <td>0.142857</td>\n",
       "      <td>NaN</td>\n",
       "    </tr>\n",
       "    <tr>\n",
       "      <th>8</th>\n",
       "      <td>2022</td>\n",
       "      <td>1.05</td>\n",
       "      <td>-0.045455</td>\n",
       "      <td>NaN</td>\n",
       "    </tr>\n",
       "    <tr>\n",
       "      <th>7</th>\n",
       "      <td>2020</td>\n",
       "      <td>1.10</td>\n",
       "      <td>0.100000</td>\n",
       "      <td>NaN</td>\n",
       "    </tr>\n",
       "    <tr>\n",
       "      <th>6</th>\n",
       "      <td>2019</td>\n",
       "      <td>1.00</td>\n",
       "      <td>0.428571</td>\n",
       "      <td>NaN</td>\n",
       "    </tr>\n",
       "    <tr>\n",
       "      <th>5</th>\n",
       "      <td>2018</td>\n",
       "      <td>0.70</td>\n",
       "      <td>-0.391304</td>\n",
       "      <td>NaN</td>\n",
       "    </tr>\n",
       "    <tr>\n",
       "      <th>4</th>\n",
       "      <td>2017</td>\n",
       "      <td>1.15</td>\n",
       "      <td>0.150000</td>\n",
       "      <td>NaN</td>\n",
       "    </tr>\n",
       "    <tr>\n",
       "      <th>3</th>\n",
       "      <td>2016</td>\n",
       "      <td>1.00</td>\n",
       "      <td>-0.090909</td>\n",
       "      <td>NaN</td>\n",
       "    </tr>\n",
       "    <tr>\n",
       "      <th>2</th>\n",
       "      <td>2015</td>\n",
       "      <td>1.10</td>\n",
       "      <td>0.100000</td>\n",
       "      <td>NaN</td>\n",
       "    </tr>\n",
       "    <tr>\n",
       "      <th>1</th>\n",
       "      <td>2014</td>\n",
       "      <td>1.00</td>\n",
       "      <td>0.388889</td>\n",
       "      <td>NaN</td>\n",
       "    </tr>\n",
       "    <tr>\n",
       "      <th>0</th>\n",
       "      <td>2013</td>\n",
       "      <td>0.72</td>\n",
       "      <td>NaN</td>\n",
       "      <td>NaN</td>\n",
       "    </tr>\n",
       "  </tbody>\n",
       "</table>\n",
       "</div>"
      ],
      "text/plain": [
       "   Date  Dividends  pct_change  pct_change_10\n",
       "9  2023       1.20    0.142857            NaN\n",
       "8  2022       1.05   -0.045455            NaN\n",
       "7  2020       1.10    0.100000            NaN\n",
       "6  2019       1.00    0.428571            NaN\n",
       "5  2018       0.70   -0.391304            NaN\n",
       "4  2017       1.15    0.150000            NaN\n",
       "3  2016       1.00   -0.090909            NaN\n",
       "2  2015       1.10    0.100000            NaN\n",
       "1  2014       1.00    0.388889            NaN\n",
       "0  2013       0.72         NaN            NaN"
      ]
     },
     "execution_count": 48,
     "metadata": {},
     "output_type": "execute_result"
    }
   ],
   "source": [
    "# pd.Series([div_df_10yrs_grouped[\"Date\"].min() + i for i in range(len(div_dfo_10yrs_grouped))]).diff(div_df_10yrs_grouped[\"Date\"])\n",
    "# div_df_10yrs_grouped[\"Date\"].min(), div_df_10yrs_grouped[\"Date\"].max()"
   ]
  },
  {
   "cell_type": "code",
   "execution_count": null,
   "metadata": {},
   "outputs": [
    {
     "data": {
      "text/plain": [
       "0.36161003606346187"
      ]
     },
     "execution_count": 145,
     "metadata": {},
     "output_type": "execute_result"
    }
   ],
   "source": [
    "q_low = div_df_10yrs_grouped[\"pct_change\"].abs().quantile(0.1)\n",
    "q_high = div_df_10yrs_grouped[\"pct_change\"].quantile(0.9)\n",
    "div_df_10yrs_grouped[(div_df_10yrs_grouped[\"pct_change\"].abs() > q_low) & (div_df_10yrs_grouped[\"pct_change\"].abs() < q_high)][\"pct_change\"].mean()"
   ]
  },
  {
   "cell_type": "code",
   "execution_count": null,
   "metadata": {},
   "outputs": [
    {
     "data": {
      "text/plain": [
       "<Axes: xlabel='Date'>"
      ]
     },
     "execution_count": 10,
     "metadata": {},
     "output_type": "execute_result"
    },
    {
     "data": {
      "image/png": "[encoded data removed]",
      "text/plain": [
       "<Figure size 640x480 with 1 Axes>"
      ]
     },
     "metadata": {},
     "output_type": "display_data"
    }
   ],
   "source": [
    "div_df_10yrs_grouped.plot(x=\"Date\", y=\"Dividends\")"
   ]
  },
  {
   "cell_type": "code",
   "execution_count": null,
   "metadata": {},
   "outputs": [
    {
     "data": {
      "text/plain": [
       "0          NaN\n",
       "1          NaN\n",
       "2          NaN\n",
       "3          NaN\n",
       "4          NaN\n",
       "5          NaN\n",
       "6          NaN\n",
       "7          NaN\n",
       "8          NaN\n",
       "9          NaN\n",
       "10    2.171429\n",
       "Name: Dividends, dtype: float64"
      ]
     },
     "execution_count": 141,
     "metadata": {},
     "output_type": "execute_result"
    }
   ],
   "source": [
    "div_df_10yrs_grouped[\"Dividends\"].pct_change(periods=10)"
   ]
  },
  {
   "cell_type": "code",
   "execution_count": null,
   "metadata": {},
   "outputs": [
    {
     "data": {
      "text/html": [
       "<div>\n",
       "<style scoped>\n",
       "    .dataframe tbody tr th:only-of-type {\n",
       "        vertical-align: middle;\n",
       "    }\n",
       "\n",
       "    .dataframe tbody tr th {\n",
       "        vertical-align: top;\n",
       "    }\n",
       "\n",
       "    .dataframe thead th {\n",
       "        text-align: right;\n",
       "    }\n",
       "</style>\n",
       "<table border=\"1\" class=\"dataframe\">\n",
       "  <thead>\n",
       "    <tr style=\"text-align: right;\">\n",
       "      <th></th>\n",
       "      <th>Dividends</th>\n",
       "      <th>Dividends</th>\n",
       "    </tr>\n",
       "  </thead>\n",
       "  <tbody>\n",
       "    <tr>\n",
       "      <th>0</th>\n",
       "      <td>0.2</td>\n",
       "      <td>0.002222</td>\n",
       "    </tr>\n",
       "    <tr>\n",
       "      <th>1</th>\n",
       "      <td>NaN</td>\n",
       "      <td>0.046667</td>\n",
       "    </tr>\n",
       "    <tr>\n",
       "      <th>2</th>\n",
       "      <td>NaN</td>\n",
       "      <td>0.150000</td>\n",
       "    </tr>\n",
       "    <tr>\n",
       "      <th>3</th>\n",
       "      <td>NaN</td>\n",
       "      <td>0.100000</td>\n",
       "    </tr>\n",
       "    <tr>\n",
       "      <th>4</th>\n",
       "      <td>NaN</td>\n",
       "      <td>0.566667</td>\n",
       "    </tr>\n",
       "    <tr>\n",
       "      <th>5</th>\n",
       "      <td>NaN</td>\n",
       "      <td>0.200000</td>\n",
       "    </tr>\n",
       "  </tbody>\n",
       "</table>\n",
       "</div>"
      ],
      "text/plain": [
       "   Dividends  Dividends\n",
       "0        0.2   0.002222\n",
       "1        NaN   0.046667\n",
       "2        NaN   0.150000\n",
       "3        NaN   0.100000\n",
       "4        NaN   0.566667\n",
       "5        NaN   0.200000"
      ]
     },
     "execution_count": 25,
     "metadata": {},
     "output_type": "execute_result"
    }
   ],
   "source": [
    "((div_df_10yrs_grouped[\"Dividends\"].shift(-5) / div_df_10yrs_grouped[\"Dividends\"]) ** (1 / 5) - 1)\n",
    "pd.concat([div_df_10yrs_grouped[\"Dividends\"].shift(-5), div_df_10yrs_grouped[\"Dividends\"]], axis=1)"
   ]
  },
  {
   "cell_type": "code",
   "execution_count": null,
   "metadata": {},
   "outputs": [
    {
     "data": {
      "text/plain": [
       "[{'Date': 2020,\n",
       "  'Dividends': 1.6,\n",
       "  'pct_change': 1.1333333333333333,\n",
       "  'pct_change_10': nan}]"
      ]
     },
     "execution_count": 38,
     "metadata": {},
     "output_type": "execute_result"
    }
   ],
   "source": [
    "div_df_10yrs_grouped[(np.abs(stats.zscore(div_df_10yrs_grouped[\"Dividends\"])) > 2)].to_dict(orient=\"records\")\n"
   ]
  },
  {
   "cell_type": "markdown",
   "metadata": {},
   "source": [
    "### Search for low debt companies"
   ]
  },
  {
   "cell_type": "code",
   "execution_count": null,
   "metadata": {},
   "outputs": [],
   "source": [
    "balance = company.balance_sheet\n",
    "income = company.income_stmt\n",
    "cash = company.cash_flow\n",
    "latest = balance.columns.sort_values()[-1]"
   ]
  },
  {
   "cell_type": "code",
   "execution_count": null,
   "metadata": {},
   "outputs": [],
   "source": [
    "\n"
   ]
  },
  {
   "cell_type": "code",
   "execution_count": null,
   "metadata": {},
   "outputs": [
    {
     "data": {
      "text/plain": [
       "2019-12-31    24657249.0\n",
       "2020-12-31    29585516.0\n",
       "2021-12-31    29653872.0\n",
       "2022-12-31    29617746.0\n",
       "Name: Diluted Average Shares, dtype: object"
      ]
     },
     "execution_count": 59,
     "metadata": {},
     "output_type": "execute_result"
    }
   ],
   "source": [
    "x.loc[\"Diluted Average Shares\"]"
   ]
  },
  {
   "cell_type": "code",
   "execution_count": null,
   "metadata": {},
   "outputs": [
    {
     "data": {
      "text/plain": [
       "359063000.0"
      ]
     },
     "execution_count": 79,
     "metadata": {},
     "output_type": "execute_result"
    }
   ],
   "source": [
    "qlow = income.loc[\"Net Income\"].quantile(0.02)\n",
    "qhigh = income.loc[\"Net Income\"].quantile(0.98)\n",
    "\n",
    "income.loc[\"Net Income\"][(income.loc[\"Net Income\"] > qlow) & (income.loc[\"Net Income\"] < qhigh)].mean()"
   ]
  },
  {
   "cell_type": "code",
   "execution_count": null,
   "metadata": {},
   "outputs": [
    {
     "data": {
      "text/plain": [
       "0.04322007980010193"
      ]
     },
     "execution_count": 101,
     "metadata": {},
     "output_type": "execute_result"
    }
   ],
   "source": [
    "x = income.loc[\"Net Income\"] / income.loc[\"Total Revenue\"]\n",
    "\n",
    "qlow = x.quantile(0.01)\n",
    "qhigh = x.quantile(0.99)\n",
    "x[(x > qlow) & (x < qhigh)].mean()"
   ]
  },
  {
   "cell_type": "code",
   "execution_count": null,
   "metadata": {},
   "outputs": [
    {
     "data": {
      "text/plain": [
       "2022-12-31    0.056227\n",
       "2019-12-31    0.030213\n",
       "dtype: object"
      ]
     },
     "execution_count": 102,
     "metadata": {},
     "output_type": "execute_result"
    }
   ],
   "source": [
    "x[(x > qlow) & (x < qhigh)]"
   ]
  },
  {
   "cell_type": "code",
   "execution_count": null,
   "metadata": {},
   "outputs": [
    {
     "data": {
      "text/plain": [
       "2020-12-31     0.00598\n",
       "2019-12-31    0.030213\n",
       "2022-12-31    0.056227\n",
       "2021-12-31    0.058757\n",
       "dtype: object"
      ]
     },
     "execution_count": 104,
     "metadata": {},
     "output_type": "execute_result"
    }
   ],
   "source": [
    "x.sort_values()"
   ]
  },
  {
   "cell_type": "code",
   "execution_count": null,
   "metadata": {},
   "outputs": [
    {
     "data": {
      "text/plain": [
       "False"
      ]
     },
     "execution_count": 107,
     "metadata": {},
     "output_type": "execute_result"
    }
   ],
   "source": [
    "any(income.loc[\"Total Revenue\"] == 0)"
   ]
  },
  {
   "cell_type": "code",
   "execution_count": null,
   "metadata": {},
   "outputs": [
    {
     "data": {
      "text/plain": [
       "0   NaN\n",
       "1   NaN\n",
       "2   NaN\n",
       "3   NaN\n",
       "4   NaN\n",
       "5   NaN\n",
       "6   NaN\n",
       "7   NaN\n",
       "8   NaN\n",
       "9   NaN\n",
       "Name: Dividends, dtype: float64"
      ]
     },
     "execution_count": 109,
     "metadata": {},
     "output_type": "execute_result"
    }
   ],
   "source": [
    "div_df_10yrs_grouped[\"Dividends\"].pct_change(periods=10)"
   ]
  },
  {
   "cell_type": "code",
   "execution_count": null,
   "metadata": {},
   "outputs": [
    {
     "data": {
      "text/plain": [
       "0.00036299635558334487"
      ]
     },
     "execution_count": 16,
     "metadata": {},
     "output_type": "execute_result"
    }
   ],
   "source": [
    "((income.sort_index(axis=1).loc[\"Diluted Average Shares\"].shift(-2) / income.sort_index(axis=1).loc[\"Diluted Average Shares\"]) ** (1 / 3) - 1).dropna().iloc[-1]"
   ]
  },
  {
   "cell_type": "code",
   "execution_count": null,
   "metadata": {},
   "outputs": [
    {
     "data": {
      "text/html": [
       "<div>\n",
       "<style scoped>\n",
       "    .dataframe tbody tr th:only-of-type {\n",
       "        vertical-align: middle;\n",
       "    }\n",
       "\n",
       "    .dataframe tbody tr th {\n",
       "        vertical-align: top;\n",
       "    }\n",
       "\n",
       "    .dataframe thead th {\n",
       "        text-align: right;\n",
       "    }\n",
       "</style>\n",
       "<table border=\"1\" class=\"dataframe\">\n",
       "  <thead>\n",
       "    <tr style=\"text-align: right;\">\n",
       "      <th></th>\n",
       "      <th>Diluted Average Shares</th>\n",
       "      <th>Diluted Average Shares</th>\n",
       "    </tr>\n",
       "  </thead>\n",
       "  <tbody>\n",
       "    <tr>\n",
       "      <th>2019-12-31</th>\n",
       "      <td>29653872.0</td>\n",
       "      <td>24657249.0</td>\n",
       "    </tr>\n",
       "    <tr>\n",
       "      <th>2020-12-31</th>\n",
       "      <td>29617746.0</td>\n",
       "      <td>29585516.0</td>\n",
       "    </tr>\n",
       "    <tr>\n",
       "      <th>2021-12-31</th>\n",
       "      <td>None</td>\n",
       "      <td>29653872.0</td>\n",
       "    </tr>\n",
       "    <tr>\n",
       "      <th>2022-12-31</th>\n",
       "      <td>None</td>\n",
       "      <td>29617746.0</td>\n",
       "    </tr>\n",
       "  </tbody>\n",
       "</table>\n",
       "</div>"
      ],
      "text/plain": [
       "           Diluted Average Shares Diluted Average Shares\n",
       "2019-12-31             29653872.0             24657249.0\n",
       "2020-12-31             29617746.0             29585516.0\n",
       "2021-12-31                   None             29653872.0\n",
       "2022-12-31                   None             29617746.0"
      ]
     },
     "execution_count": 18,
     "metadata": {},
     "output_type": "execute_result"
    }
   ],
   "source": [
    "pd.concat([income.sort_index(axis=1).loc[\"Diluted Average Shares\"].shift(-2), income.sort_index(axis=1).loc[\"Diluted Average Shares\"] ], axis=1)"
   ]
  },
  {
   "cell_type": "code",
   "execution_count": null,
   "metadata": {},
   "outputs": [
    {
     "data": {
      "text/plain": [
       "1"
      ]
     },
     "execution_count": 25,
     "metadata": {},
     "output_type": "execute_result"
    }
   ],
   "source": [
    "\n",
    "all_years = pd.Series(range(div_df_10yrs_grouped[\"Date\"].min(), div_df_10yrs_grouped[\"Date\"].max() + 1))\n",
    "missing_dividend_years = all_years[all_years.isin(div_df_10yrs_grouped[\"Date\"]) == False]\n",
    "\n",
    "missing_dividend_years.count()"
   ]
  },
  {
   "cell_type": "code",
   "execution_count": null,
   "metadata": {},
   "outputs": [
    {
     "data": {
      "text/plain": [
       "0.0630061924527705"
      ]
     },
     "execution_count": 54,
     "metadata": {},
     "output_type": "execute_result"
    }
   ],
   "source": [
    "xx = income.sort_index(axis=1)\n",
    "def get_growth_per_year(series, year):\n",
    "    x = ((series.shift(-year) / series) ** (1 / year)) - 1\n",
    "    return x.dropna().iloc[-1]\n",
    "\n",
    "get_growth_per_year(xx.loc[\"Diluted Average Shares\"], -3) if \"Diluted Average Shares\" in income.index and len(income.loc[\"Diluted Average Shares\"].dropna()) == 4 else np.NaN"
   ]
  },
  {
   "cell_type": "code",
   "execution_count": null,
   "metadata": {},
   "outputs": [
    {
     "data": {
      "text/plain": [
       "2022-12-31    29617746.0\n",
       "2021-12-31    29653872.0\n",
       "2020-12-31    29585516.0\n",
       "2019-12-31    24657249.0\n",
       "Name: Diluted Average Shares, dtype: object"
      ]
     },
     "execution_count": 53,
     "metadata": {},
     "output_type": "execute_result"
    }
   ],
   "source": [
    "income.loc[\"Diluted Average Shares\"]"
   ]
  },
  {
   "cell_type": "code",
   "execution_count": null,
   "metadata": {},
   "outputs": [
    {
     "data": {
      "text/plain": [
       "{'growth_10': 0.6666666666666667,\n",
       " 'growth_yy_10': 0.05840007284126747,\n",
       " 'growth_yy_5': 0.008548252303932413,\n",
       " 'growth_yy_3': 0.06265856918261115,\n",
       " 'growth_yy_1': 0.14285714285714302}"
      ]
     },
     "execution_count": 33,
     "metadata": {},
     "output_type": "execute_result"
    }
   ],
   "source": [
    "res"
   ]
  },
  {
   "cell_type": "code",
   "execution_count": null,
   "metadata": {},
   "outputs": [
    {
     "data": {
      "text/html": [
       "<div>\n",
       "<style scoped>\n",
       "    .dataframe tbody tr th:only-of-type {\n",
       "        vertical-align: middle;\n",
       "    }\n",
       "\n",
       "    .dataframe tbody tr th {\n",
       "        vertical-align: top;\n",
       "    }\n",
       "\n",
       "    .dataframe thead th {\n",
       "        text-align: right;\n",
       "    }\n",
       "</style>\n",
       "<table border=\"1\" class=\"dataframe\">\n",
       "  <thead>\n",
       "    <tr style=\"text-align: right;\">\n",
       "      <th></th>\n",
       "      <th>Date</th>\n",
       "      <th>Dividends</th>\n",
       "    </tr>\n",
       "  </thead>\n",
       "  <tbody>\n",
       "    <tr>\n",
       "      <th>0</th>\n",
       "      <td>2004-09-27 00:00:00-04:00</td>\n",
       "      <td>0.075</td>\n",
       "    </tr>\n",
       "    <tr>\n",
       "      <th>1</th>\n",
       "      <td>2005-07-19 00:00:00-04:00</td>\n",
       "      <td>0.150</td>\n",
       "    </tr>\n",
       "    <tr>\n",
       "      <th>2</th>\n",
       "      <td>2006-07-18 00:00:00-04:00</td>\n",
       "      <td>0.300</td>\n",
       "    </tr>\n",
       "    <tr>\n",
       "      <th>3</th>\n",
       "      <td>2007-07-18 00:00:00-04:00</td>\n",
       "      <td>0.480</td>\n",
       "    </tr>\n",
       "    <tr>\n",
       "      <th>4</th>\n",
       "      <td>2008-07-14 00:00:00-04:00</td>\n",
       "      <td>0.580</td>\n",
       "    </tr>\n",
       "  </tbody>\n",
       "</table>\n",
       "</div>"
      ],
      "text/plain": [
       "                       Date  Dividends\n",
       "0 2004-09-27 00:00:00-04:00      0.075\n",
       "1 2005-07-19 00:00:00-04:00      0.150\n",
       "2 2006-07-18 00:00:00-04:00      0.300\n",
       "3 2007-07-18 00:00:00-04:00      0.480\n",
       "4 2008-07-14 00:00:00-04:00      0.580"
      ]
     },
     "execution_count": 62,
     "metadata": {},
     "output_type": "execute_result"
    }
   ],
   "source": [
    "div_df"
   ]
  },
  {
   "cell_type": "code",
   "execution_count": null,
   "metadata": {},
   "outputs": [
    {
     "data": {
      "text/html": [
       "<style type=\"text/css\">\n",
       "#T_04fa8_row0_col0, #T_04fa8_row0_col1, #T_04fa8_row1_col0, #T_04fa8_row1_col1, #T_04fa8_row2_col0, #T_04fa8_row2_col1, #T_04fa8_row3_col0, #T_04fa8_row3_col1, #T_04fa8_row4_col0, #T_04fa8_row4_col1 {\n",
       "  color: white;\n",
       "}\n",
       "</style>\n",
       "<table id=\"T_04fa8\">\n",
       "  <thead>\n",
       "    <tr>\n",
       "      <th class=\"blank level0\" >&nbsp;</th>\n",
       "      <th id=\"T_04fa8_level0_col0\" class=\"col_heading level0 col0\" >Date</th>\n",
       "      <th id=\"T_04fa8_level0_col1\" class=\"col_heading level0 col1\" >Dividends</th>\n",
       "    </tr>\n",
       "  </thead>\n",
       "  <tbody>\n",
       "    <tr>\n",
       "      <th id=\"T_04fa8_level0_row0\" class=\"row_heading level0 row0\" >0</th>\n",
       "      <td id=\"T_04fa8_row0_col0\" class=\"data row0 col0\" >2004-09-27 00:00:00-04:00</td>\n",
       "      <td id=\"T_04fa8_row0_col1\" class=\"data row0 col1\" >0.075000</td>\n",
       "    </tr>\n",
       "    <tr>\n",
       "      <th id=\"T_04fa8_level0_row1\" class=\"row_heading level0 row1\" >1</th>\n",
       "      <td id=\"T_04fa8_row1_col0\" class=\"data row1 col0\" >2005-07-19 00:00:00-04:00</td>\n",
       "      <td id=\"T_04fa8_row1_col1\" class=\"data row1 col1\" >0.150000</td>\n",
       "    </tr>\n",
       "    <tr>\n",
       "      <th id=\"T_04fa8_level0_row2\" class=\"row_heading level0 row2\" >2</th>\n",
       "      <td id=\"T_04fa8_row2_col0\" class=\"data row2 col0\" >2006-07-18 00:00:00-04:00</td>\n",
       "      <td id=\"T_04fa8_row2_col1\" class=\"data row2 col1\" >0.300000</td>\n",
       "    </tr>\n",
       "    <tr>\n",
       "      <th id=\"T_04fa8_level0_row3\" class=\"row_heading level0 row3\" >3</th>\n",
       "      <td id=\"T_04fa8_row3_col0\" class=\"data row3 col0\" >2007-07-18 00:00:00-04:00</td>\n",
       "      <td id=\"T_04fa8_row3_col1\" class=\"data row3 col1\" >0.480000</td>\n",
       "    </tr>\n",
       "    <tr>\n",
       "      <th id=\"T_04fa8_level0_row4\" class=\"row_heading level0 row4\" >4</th>\n",
       "      <td id=\"T_04fa8_row4_col0\" class=\"data row4 col0\" >2008-07-14 00:00:00-04:00</td>\n",
       "      <td id=\"T_04fa8_row4_col1\" class=\"data row4 col1\" >0.580000</td>\n",
       "    </tr>\n",
       "  </tbody>\n",
       "</table>\n"
      ],
      "text/plain": [
       "<pandas.io.formats.style.Styler at 0x7f55351c6680>"
      ]
     },
     "execution_count": 66,
     "metadata": {},
     "output_type": "execute_result"
    }
   ],
   "source": [
    "div_df.style.applymap(lambda x: 'color: red' if x is int and x < 1 else 'color: white')"
   ]
  },
  {
   "cell_type": "code",
   "execution_count": null,
   "metadata": {},
   "outputs": [
    {
     "data": {
      "text/plain": [
       "1.6598882791062331e-09"
      ]
     },
     "execution_count": 7,
     "metadata": {},
     "output_type": "execute_result"
    }
   ],
   "source": [
    "div_df[\"Dividends\"].mean() / income.loc[\"Net Income\"].mean()"
   ]
  },
  {
   "cell_type": "code",
   "execution_count": null,
   "metadata": {},
   "outputs": [
    {
     "data": {
      "text/html": [
       "<div>\n",
       "<style scoped>\n",
       "    .dataframe tbody tr th:only-of-type {\n",
       "        vertical-align: middle;\n",
       "    }\n",
       "\n",
       "    .dataframe tbody tr th {\n",
       "        vertical-align: top;\n",
       "    }\n",
       "\n",
       "    .dataframe thead th {\n",
       "        text-align: right;\n",
       "    }\n",
       "</style>\n",
       "<table border=\"1\" class=\"dataframe\">\n",
       "  <thead>\n",
       "    <tr style=\"text-align: right;\">\n",
       "      <th></th>\n",
       "      <th>Date</th>\n",
       "      <th>Dividends</th>\n",
       "      <th>pct_change</th>\n",
       "      <th>pct_change_10</th>\n",
       "    </tr>\n",
       "  </thead>\n",
       "  <tbody>\n",
       "    <tr>\n",
       "      <th>0</th>\n",
       "      <td>2013</td>\n",
       "      <td>0.35</td>\n",
       "      <td>NaN</td>\n",
       "      <td>NaN</td>\n",
       "    </tr>\n",
       "    <tr>\n",
       "      <th>1</th>\n",
       "      <td>2014</td>\n",
       "      <td>0.41</td>\n",
       "      <td>0.171429</td>\n",
       "      <td>NaN</td>\n",
       "    </tr>\n",
       "    <tr>\n",
       "      <th>2</th>\n",
       "      <td>2015</td>\n",
       "      <td>0.46</td>\n",
       "      <td>0.121951</td>\n",
       "      <td>NaN</td>\n",
       "    </tr>\n",
       "    <tr>\n",
       "      <th>3</th>\n",
       "      <td>2016</td>\n",
       "      <td>0.52</td>\n",
       "      <td>0.130435</td>\n",
       "      <td>NaN</td>\n",
       "    </tr>\n",
       "    <tr>\n",
       "      <th>4</th>\n",
       "      <td>2017</td>\n",
       "      <td>0.58</td>\n",
       "      <td>0.115385</td>\n",
       "      <td>NaN</td>\n",
       "    </tr>\n",
       "    <tr>\n",
       "      <th>5</th>\n",
       "      <td>2018</td>\n",
       "      <td>0.65</td>\n",
       "      <td>0.120690</td>\n",
       "      <td>NaN</td>\n",
       "    </tr>\n",
       "    <tr>\n",
       "      <th>6</th>\n",
       "      <td>2019</td>\n",
       "      <td>0.75</td>\n",
       "      <td>0.153846</td>\n",
       "      <td>NaN</td>\n",
       "    </tr>\n",
       "    <tr>\n",
       "      <th>7</th>\n",
       "      <td>2020</td>\n",
       "      <td>1.60</td>\n",
       "      <td>1.133333</td>\n",
       "      <td>NaN</td>\n",
       "    </tr>\n",
       "    <tr>\n",
       "      <th>8</th>\n",
       "      <td>2021</td>\n",
       "      <td>0.60</td>\n",
       "      <td>-0.625000</td>\n",
       "      <td>NaN</td>\n",
       "    </tr>\n",
       "    <tr>\n",
       "      <th>9</th>\n",
       "      <td>2022</td>\n",
       "      <td>0.64</td>\n",
       "      <td>0.066667</td>\n",
       "      <td>NaN</td>\n",
       "    </tr>\n",
       "    <tr>\n",
       "      <th>10</th>\n",
       "      <td>2023</td>\n",
       "      <td>1.11</td>\n",
       "      <td>0.734375</td>\n",
       "      <td>2.171429</td>\n",
       "    </tr>\n",
       "  </tbody>\n",
       "</table>\n",
       "</div>"
      ],
      "text/plain": [
       "    Date  Dividends  pct_change  pct_change_10\n",
       "0   2013       0.35         NaN            NaN\n",
       "1   2014       0.41    0.171429            NaN\n",
       "2   2015       0.46    0.121951            NaN\n",
       "3   2016       0.52    0.130435            NaN\n",
       "4   2017       0.58    0.115385            NaN\n",
       "5   2018       0.65    0.120690            NaN\n",
       "6   2019       0.75    0.153846            NaN\n",
       "7   2020       1.60    1.133333            NaN\n",
       "8   2021       0.60   -0.625000            NaN\n",
       "9   2022       0.64    0.066667            NaN\n",
       "10  2023       1.11    0.734375       2.171429"
      ]
     },
     "execution_count": 8,
     "metadata": {},
     "output_type": "execute_result"
    }
   ],
   "source": [
    "div_df_10yrs_grouped[\"Dividends\"]"
   ]
  },
  {
   "cell_type": "code",
   "execution_count": null,
   "metadata": {},
   "outputs": [
    {
     "data": {
      "text/plain": [
       "0.3031620553359684"
      ]
     },
     "execution_count": 11,
     "metadata": {},
     "output_type": "execute_result"
    }
   ],
   "source": [
    "div_df_10yrs_grouped[\"Dividends\"].mean() / income.loc[\"Diluted EPS\"].mean()"
   ]
  },
  {
   "cell_type": "markdown",
   "metadata": {},
   "source": [
    "## Parse TIKR tables"
   ]
  },
  {
   "cell_type": "code",
   "execution_count": 2,
   "metadata": {},
   "outputs": [
    {
     "data": {
      "text/plain": [
       "4"
      ]
     },
     "execution_count": 2,
     "metadata": {},
     "output_type": "execute_result"
    }
   ],
   "source": [
    "dfs = pd.read_html(\"data/tikr/Texas Roadhouse, Inc. (TXRH).html\")\n",
    "len(dfs)"
   ]
  },
  {
   "cell_type": "code",
   "execution_count": 3,
   "metadata": {},
   "outputs": [
    {
     "data": {
      "text/html": [
       "<div>\n",
       "<style scoped>\n",
       "    .dataframe tbody tr th:only-of-type {\n",
       "        vertical-align: middle;\n",
       "    }\n",
       "\n",
       "    .dataframe tbody tr th {\n",
       "        vertical-align: top;\n",
       "    }\n",
       "\n",
       "    .dataframe thead th {\n",
       "        text-align: right;\n",
       "    }\n",
       "</style>\n",
       "<table border=\"1\" class=\"dataframe\">\n",
       "  <thead>\n",
       "    <tr style=\"text-align: right;\">\n",
       "      <th></th>\n",
       "      <th>2018-12</th>\n",
       "      <th>2019-12</th>\n",
       "      <th>2020-12</th>\n",
       "      <th>2021-12</th>\n",
       "      <th>2022-12</th>\n",
       "      <th>LTM</th>\n",
       "    </tr>\n",
       "    <tr>\n",
       "      <th>Income Statement | TIKR.com</th>\n",
       "      <th></th>\n",
       "      <th></th>\n",
       "      <th></th>\n",
       "      <th></th>\n",
       "      <th></th>\n",
       "      <th></th>\n",
       "    </tr>\n",
       "  </thead>\n",
       "  <tbody>\n",
       "    <tr>\n",
       "      <th>Revenues</th>\n",
       "      <td>2457.450</td>\n",
       "      <td>2756.160</td>\n",
       "      <td>2398.120</td>\n",
       "      <td>3463.950</td>\n",
       "      <td>4014.920</td>\n",
       "      <td>4348.390</td>\n",
       "    </tr>\n",
       "    <tr>\n",
       "      <th>Total Revenues</th>\n",
       "      <td>2457.450</td>\n",
       "      <td>2756.160</td>\n",
       "      <td>2398.120</td>\n",
       "      <td>3463.950</td>\n",
       "      <td>4014.920</td>\n",
       "      <td>4348.390</td>\n",
       "    </tr>\n",
       "    <tr>\n",
       "      <th>Cost of Goods Sold</th>\n",
       "      <td>-1995.850</td>\n",
       "      <td>-2241.650</td>\n",
       "      <td>-2100.740</td>\n",
       "      <td>-2836.340</td>\n",
       "      <td>-3336.290</td>\n",
       "      <td>-3630.700</td>\n",
       "    </tr>\n",
       "    <tr>\n",
       "      <th>Gross Profit</th>\n",
       "      <td>461.600</td>\n",
       "      <td>514.510</td>\n",
       "      <td>297.390</td>\n",
       "      <td>627.600</td>\n",
       "      <td>678.630</td>\n",
       "      <td>717.690</td>\n",
       "    </tr>\n",
       "    <tr>\n",
       "      <th>% Gross Margins</th>\n",
       "      <td>0.188</td>\n",
       "      <td>0.187</td>\n",
       "      <td>0.124</td>\n",
       "      <td>0.181</td>\n",
       "      <td>0.169</td>\n",
       "      <td>0.165</td>\n",
       "    </tr>\n",
       "  </tbody>\n",
       "</table>\n",
       "</div>"
      ],
      "text/plain": [
       "                              2018-12   2019-12   2020-12   2021-12   2022-12  \\\n",
       "Income Statement | TIKR.com                                                     \n",
       "Revenues                     2457.450  2756.160  2398.120  3463.950  4014.920   \n",
       "Total Revenues               2457.450  2756.160  2398.120  3463.950  4014.920   \n",
       "Cost of Goods Sold          -1995.850 -2241.650 -2100.740 -2836.340 -3336.290   \n",
       "Gross Profit                  461.600   514.510   297.390   627.600   678.630   \n",
       "% Gross Margins                 0.188     0.187     0.124     0.181     0.169   \n",
       "\n",
       "                                  LTM  \n",
       "Income Statement | TIKR.com            \n",
       "Revenues                     4348.390  \n",
       "Total Revenues               4348.390  \n",
       "Cost of Goods Sold          -3630.700  \n",
       "Gross Profit                  717.690  \n",
       "% Gross Margins                 0.165  "
      ]
     },
     "execution_count": 3,
     "metadata": {},
     "output_type": "execute_result"
    }
   ],
   "source": [
    "def parse_date(x):\n",
    "    if x != \"LTM\":\n",
    "        date = datetime.datetime.strptime(x, \"%m/%d/%y\")\n",
    "        return str(date.year) + \"-\" + str(date.month)\n",
    "    return x\n",
    "\n",
    "def replacetonumbeR(s):\n",
    "    if type(s).__name__ == \"str\":\n",
    "        s = s.strip()\n",
    "        if s == \"-\":\n",
    "            s = 0\n",
    "        else:\n",
    "            s = s.replace(\",\",\"\")\n",
    "            if s.find(\"(\") >= 0 and s.find(\")\") >= 0:\n",
    "                s = s.replace(\"(\",\"-\").replace(\")\",\"\")\n",
    "            if s.find(\"%\") >= 0:\n",
    "                s = s.replace(\"%\", \"\")\n",
    "                s = float(s) / 100\n",
    "    return s\n",
    "\n",
    "def parse_table(t):\n",
    "    t = t.set_index(t.columns[0])\n",
    "    t = t.dropna(how='all').dropna(how='all', axis=1)\n",
    "    t = t.drop([c for c in t.index if \"YoY\" in c])\n",
    "    t = t.rename(columns=parse_date)\n",
    "    t = t.applymap(lambda x:replacetonumbeR(x))\n",
    "    t = t.astype(float)\n",
    "    return t\n",
    "\n",
    "income = parse_table(dfs[0])\n",
    "income.head()"
   ]
  },
  {
   "cell_type": "code",
   "execution_count": 4,
   "metadata": {},
   "outputs": [
    {
     "data": {
      "text/plain": [
       "3239.831666666667"
      ]
     },
     "execution_count": 4,
     "metadata": {},
     "output_type": "execute_result"
    }
   ],
   "source": [
    "income.loc[\"Revenues\"].mean()"
   ]
  },
  {
   "cell_type": "code",
   "execution_count": 5,
   "metadata": {},
   "outputs": [
    {
     "data": {
      "text/html": [
       "<div>\n",
       "<style scoped>\n",
       "    .dataframe tbody tr th:only-of-type {\n",
       "        vertical-align: middle;\n",
       "    }\n",
       "\n",
       "    .dataframe tbody tr th {\n",
       "        vertical-align: top;\n",
       "    }\n",
       "\n",
       "    .dataframe thead th {\n",
       "        text-align: right;\n",
       "    }\n",
       "</style>\n",
       "<table border=\"1\" class=\"dataframe\">\n",
       "  <thead>\n",
       "    <tr style=\"text-align: right;\">\n",
       "      <th></th>\n",
       "      <th>2018-12</th>\n",
       "      <th>2019-12</th>\n",
       "      <th>2020-12</th>\n",
       "      <th>2021-12</th>\n",
       "      <th>2022-12</th>\n",
       "      <th>LTM</th>\n",
       "    </tr>\n",
       "    <tr>\n",
       "      <th>Balance Sheet | TIKR.com</th>\n",
       "      <th></th>\n",
       "      <th></th>\n",
       "      <th></th>\n",
       "      <th></th>\n",
       "      <th></th>\n",
       "      <th></th>\n",
       "    </tr>\n",
       "  </thead>\n",
       "  <tbody>\n",
       "    <tr>\n",
       "      <th>Cash And Equivalents</th>\n",
       "      <td>210.13</td>\n",
       "      <td>107.88</td>\n",
       "      <td>363.16</td>\n",
       "      <td>335.65</td>\n",
       "      <td>173.86</td>\n",
       "      <td>107.32</td>\n",
       "    </tr>\n",
       "    <tr>\n",
       "      <th>Total Cash And Short Term Investments</th>\n",
       "      <td>210.13</td>\n",
       "      <td>107.88</td>\n",
       "      <td>363.16</td>\n",
       "      <td>335.65</td>\n",
       "      <td>173.86</td>\n",
       "      <td>107.32</td>\n",
       "    </tr>\n",
       "    <tr>\n",
       "      <th>Accounts Receivable</th>\n",
       "      <td>92.11</td>\n",
       "      <td>99.31</td>\n",
       "      <td>98.42</td>\n",
       "      <td>161.36</td>\n",
       "      <td>150.26</td>\n",
       "      <td>60.54</td>\n",
       "    </tr>\n",
       "    <tr>\n",
       "      <th>Total Receivables</th>\n",
       "      <td>92.11</td>\n",
       "      <td>99.31</td>\n",
       "      <td>98.42</td>\n",
       "      <td>161.36</td>\n",
       "      <td>150.26</td>\n",
       "      <td>60.54</td>\n",
       "    </tr>\n",
       "    <tr>\n",
       "      <th>Inventory</th>\n",
       "      <td>18.83</td>\n",
       "      <td>20.27</td>\n",
       "      <td>22.36</td>\n",
       "      <td>31.60</td>\n",
       "      <td>38.02</td>\n",
       "      <td>38.12</td>\n",
       "    </tr>\n",
       "  </tbody>\n",
       "</table>\n",
       "</div>"
      ],
      "text/plain": [
       "                                       2018-12  2019-12  2020-12  2021-12  \\\n",
       "Balance Sheet | TIKR.com                                                    \n",
       "Cash And Equivalents                    210.13   107.88   363.16   335.65   \n",
       "Total Cash And Short Term Investments   210.13   107.88   363.16   335.65   \n",
       "Accounts Receivable                      92.11    99.31    98.42   161.36   \n",
       "Total Receivables                        92.11    99.31    98.42   161.36   \n",
       "Inventory                                18.83    20.27    22.36    31.60   \n",
       "\n",
       "                                       2022-12     LTM  \n",
       "Balance Sheet | TIKR.com                                \n",
       "Cash And Equivalents                    173.86  107.32  \n",
       "Total Cash And Short Term Investments   173.86  107.32  \n",
       "Accounts Receivable                     150.26   60.54  \n",
       "Total Receivables                       150.26   60.54  \n",
       "Inventory                                38.02   38.12  "
      ]
     },
     "execution_count": 5,
     "metadata": {},
     "output_type": "execute_result"
    }
   ],
   "source": [
    "balance = parse_table(dfs[1])\n",
    "balance.head()"
   ]
  },
  {
   "cell_type": "code",
   "execution_count": 6,
   "metadata": {},
   "outputs": [
    {
     "data": {
      "text/html": [
       "<div>\n",
       "<style scoped>\n",
       "    .dataframe tbody tr th:only-of-type {\n",
       "        vertical-align: middle;\n",
       "    }\n",
       "\n",
       "    .dataframe tbody tr th {\n",
       "        vertical-align: top;\n",
       "    }\n",
       "\n",
       "    .dataframe thead th {\n",
       "        text-align: right;\n",
       "    }\n",
       "</style>\n",
       "<table border=\"1\" class=\"dataframe\">\n",
       "  <thead>\n",
       "    <tr style=\"text-align: right;\">\n",
       "      <th></th>\n",
       "      <th>Net Debt</th>\n",
       "      <th>Operating Income</th>\n",
       "      <th>Depreciation &amp; Amortization</th>\n",
       "    </tr>\n",
       "  </thead>\n",
       "  <tbody>\n",
       "    <tr>\n",
       "      <th>2018-12</th>\n",
       "      <td>-210.13</td>\n",
       "      <td>188.07</td>\n",
       "      <td>-101.22</td>\n",
       "    </tr>\n",
       "    <tr>\n",
       "      <th>2019-12</th>\n",
       "      <td>448.09</td>\n",
       "      <td>211.12</td>\n",
       "      <td>-115.54</td>\n",
       "    </tr>\n",
       "    <tr>\n",
       "      <th>2020-12</th>\n",
       "      <td>468.29</td>\n",
       "      <td>26.11</td>\n",
       "      <td>-117.88</td>\n",
       "    </tr>\n",
       "    <tr>\n",
       "      <th>2021-12</th>\n",
       "      <td>411.90</td>\n",
       "      <td>297.93</td>\n",
       "      <td>-126.76</td>\n",
       "    </tr>\n",
       "    <tr>\n",
       "      <th>2022-12</th>\n",
       "      <td>582.25</td>\n",
       "      <td>321.80</td>\n",
       "      <td>-137.24</td>\n",
       "    </tr>\n",
       "    <tr>\n",
       "      <th>LTM</th>\n",
       "      <td>632.49</td>\n",
       "      <td>342.47</td>\n",
       "      <td>-142.84</td>\n",
       "    </tr>\n",
       "  </tbody>\n",
       "</table>\n",
       "</div>"
      ],
      "text/plain": [
       "         Net Debt  Operating Income  Depreciation & Amortization\n",
       "2018-12   -210.13            188.07                      -101.22\n",
       "2019-12    448.09            211.12                      -115.54\n",
       "2020-12    468.29             26.11                      -117.88\n",
       "2021-12    411.90            297.93                      -126.76\n",
       "2022-12    582.25            321.80                      -137.24\n",
       "LTM        632.49            342.47                      -142.84"
      ]
     },
     "execution_count": 6,
     "metadata": {},
     "output_type": "execute_result"
    }
   ],
   "source": [
    "pd.concat([balance.loc[\"Net Debt\"], income.loc[\"Operating Income\"], income.loc[\"Depreciation & Amortization\"]], axis=1)"
   ]
  },
  {
   "cell_type": "code",
   "execution_count": 7,
   "metadata": {},
   "outputs": [
    {
     "data": {
      "text/plain": [
       "2018-12         NaN\n",
       "2019-12    1.701984\n",
       "2020-12    5.774290\n",
       "2021-12    1.760202\n",
       "2022-12    1.647155\n",
       "LTM        1.524428\n",
       "dtype: float64"
      ]
     },
     "execution_count": 7,
     "metadata": {},
     "output_type": "execute_result"
    }
   ],
   "source": [
    "balance.loc[\"Total Debt\"] / (income.loc[\"Operating Income\"] - income.loc[\"Depreciation & Amortization\"])"
   ]
  },
  {
   "cell_type": "code",
   "execution_count": 8,
   "metadata": {},
   "outputs": [
    {
     "data": {
      "text/html": [
       "<div>\n",
       "<style scoped>\n",
       "    .dataframe tbody tr th:only-of-type {\n",
       "        vertical-align: middle;\n",
       "    }\n",
       "\n",
       "    .dataframe tbody tr th {\n",
       "        vertical-align: top;\n",
       "    }\n",
       "\n",
       "    .dataframe thead th {\n",
       "        text-align: right;\n",
       "    }\n",
       "</style>\n",
       "<table border=\"1\" class=\"dataframe\">\n",
       "  <thead>\n",
       "    <tr style=\"text-align: right;\">\n",
       "      <th></th>\n",
       "      <th>2018-12</th>\n",
       "      <th>2019-12</th>\n",
       "      <th>2020-12</th>\n",
       "      <th>2021-12</th>\n",
       "      <th>2022-12</th>\n",
       "      <th>LTM</th>\n",
       "    </tr>\n",
       "    <tr>\n",
       "      <th>Cash Flow Statement | TIKR.com</th>\n",
       "      <th></th>\n",
       "      <th></th>\n",
       "      <th></th>\n",
       "      <th></th>\n",
       "      <th></th>\n",
       "      <th></th>\n",
       "    </tr>\n",
       "  </thead>\n",
       "  <tbody>\n",
       "    <tr>\n",
       "      <th>Net Income</th>\n",
       "      <td>158.23</td>\n",
       "      <td>174.45</td>\n",
       "      <td>31.26</td>\n",
       "      <td>245.29</td>\n",
       "      <td>269.82</td>\n",
       "      <td>290.86</td>\n",
       "    </tr>\n",
       "    <tr>\n",
       "      <th>Depreciation &amp; Amortization</th>\n",
       "      <td>101.22</td>\n",
       "      <td>115.54</td>\n",
       "      <td>117.88</td>\n",
       "      <td>126.01</td>\n",
       "      <td>134.42</td>\n",
       "      <td>140.02</td>\n",
       "    </tr>\n",
       "    <tr>\n",
       "      <th>Amortization of Goodwill and Intangible Assets</th>\n",
       "      <td>NaN</td>\n",
       "      <td>NaN</td>\n",
       "      <td>NaN</td>\n",
       "      <td>0.75</td>\n",
       "      <td>2.81</td>\n",
       "      <td>2.81</td>\n",
       "    </tr>\n",
       "    <tr>\n",
       "      <th>Total Depreciation &amp; Amortization</th>\n",
       "      <td>101.22</td>\n",
       "      <td>115.54</td>\n",
       "      <td>117.88</td>\n",
       "      <td>126.76</td>\n",
       "      <td>137.24</td>\n",
       "      <td>142.84</td>\n",
       "    </tr>\n",
       "    <tr>\n",
       "      <th>(Gain) Loss From Sale Of Asset</th>\n",
       "      <td>6.01</td>\n",
       "      <td>5.89</td>\n",
       "      <td>3.14</td>\n",
       "      <td>3.17</td>\n",
       "      <td>4.51</td>\n",
       "      <td>5.99</td>\n",
       "    </tr>\n",
       "  </tbody>\n",
       "</table>\n",
       "</div>"
      ],
      "text/plain": [
       "                                                2018-12  2019-12  2020-12  \\\n",
       "Cash Flow Statement | TIKR.com                                              \n",
       "Net Income                                       158.23   174.45    31.26   \n",
       "Depreciation & Amortization                      101.22   115.54   117.88   \n",
       "Amortization of Goodwill and Intangible Assets      NaN      NaN      NaN   \n",
       "Total Depreciation & Amortization                101.22   115.54   117.88   \n",
       "(Gain) Loss From Sale Of Asset                     6.01     5.89     3.14   \n",
       "\n",
       "                                                2021-12  2022-12     LTM  \n",
       "Cash Flow Statement | TIKR.com                                            \n",
       "Net Income                                       245.29   269.82  290.86  \n",
       "Depreciation & Amortization                      126.01   134.42  140.02  \n",
       "Amortization of Goodwill and Intangible Assets     0.75     2.81    2.81  \n",
       "Total Depreciation & Amortization                126.76   137.24  142.84  \n",
       "(Gain) Loss From Sale Of Asset                     3.17     4.51    5.99  "
      ]
     },
     "execution_count": 8,
     "metadata": {},
     "output_type": "execute_result"
    }
   ],
   "source": [
    "cash = parse_table(dfs[2])\n",
    "cash.head()"
   ]
  },
  {
   "cell_type": "code",
   "execution_count": 9,
   "metadata": {},
   "outputs": [
    {
     "data": {
      "text/html": [
       "<div>\n",
       "<style scoped>\n",
       "    .dataframe tbody tr th:only-of-type {\n",
       "        vertical-align: middle;\n",
       "    }\n",
       "\n",
       "    .dataframe tbody tr th {\n",
       "        vertical-align: top;\n",
       "    }\n",
       "\n",
       "    .dataframe thead th {\n",
       "        text-align: right;\n",
       "    }\n",
       "</style>\n",
       "<table border=\"1\" class=\"dataframe\">\n",
       "  <thead>\n",
       "    <tr style=\"text-align: right;\">\n",
       "      <th></th>\n",
       "      <th>Cash from Operations</th>\n",
       "      <th>Capital Expenditure</th>\n",
       "      <th>0</th>\n",
       "      <th>Free Cash Flow</th>\n",
       "    </tr>\n",
       "  </thead>\n",
       "  <tbody>\n",
       "    <tr>\n",
       "      <th>2018-12</th>\n",
       "      <td>352.87</td>\n",
       "      <td>-155.98</td>\n",
       "      <td>196.89</td>\n",
       "      <td>196.89</td>\n",
       "    </tr>\n",
       "    <tr>\n",
       "      <th>2019-12</th>\n",
       "      <td>374.30</td>\n",
       "      <td>-214.34</td>\n",
       "      <td>159.96</td>\n",
       "      <td>159.96</td>\n",
       "    </tr>\n",
       "    <tr>\n",
       "      <th>2020-12</th>\n",
       "      <td>230.44</td>\n",
       "      <td>-154.40</td>\n",
       "      <td>76.04</td>\n",
       "      <td>76.04</td>\n",
       "    </tr>\n",
       "    <tr>\n",
       "      <th>2021-12</th>\n",
       "      <td>468.83</td>\n",
       "      <td>-200.69</td>\n",
       "      <td>268.14</td>\n",
       "      <td>268.13</td>\n",
       "    </tr>\n",
       "    <tr>\n",
       "      <th>2022-12</th>\n",
       "      <td>511.73</td>\n",
       "      <td>-246.12</td>\n",
       "      <td>265.61</td>\n",
       "      <td>265.60</td>\n",
       "    </tr>\n",
       "    <tr>\n",
       "      <th>LTM</th>\n",
       "      <td>501.26</td>\n",
       "      <td>-292.13</td>\n",
       "      <td>209.13</td>\n",
       "      <td>209.12</td>\n",
       "    </tr>\n",
       "  </tbody>\n",
       "</table>\n",
       "</div>"
      ],
      "text/plain": [
       "         Cash from Operations  Capital Expenditure       0  Free Cash Flow\n",
       "2018-12                352.87              -155.98  196.89          196.89\n",
       "2019-12                374.30              -214.34  159.96          159.96\n",
       "2020-12                230.44              -154.40   76.04           76.04\n",
       "2021-12                468.83              -200.69  268.14          268.13\n",
       "2022-12                511.73              -246.12  265.61          265.60\n",
       "LTM                    501.26              -292.13  209.13          209.12"
      ]
     },
     "execution_count": 9,
     "metadata": {},
     "output_type": "execute_result"
    }
   ],
   "source": [
    "pd.concat([cash.loc[\"Cash from Operations\"], cash.loc[\"Capital Expenditure\"], cash.loc[\"Cash from Operations\"] + cash.loc[\"Capital Expenditure\"], cash.loc[\"Free Cash Flow\"]], axis=1)"
   ]
  },
  {
   "cell_type": "code",
   "execution_count": 10,
   "metadata": {},
   "outputs": [
    {
     "data": {
      "text/html": [
       "<div>\n",
       "<style scoped>\n",
       "    .dataframe tbody tr th:only-of-type {\n",
       "        vertical-align: middle;\n",
       "    }\n",
       "\n",
       "    .dataframe tbody tr th {\n",
       "        vertical-align: top;\n",
       "    }\n",
       "\n",
       "    .dataframe thead th {\n",
       "        text-align: right;\n",
       "    }\n",
       "</style>\n",
       "<table border=\"1\" class=\"dataframe\">\n",
       "  <thead>\n",
       "    <tr style=\"text-align: right;\">\n",
       "      <th></th>\n",
       "      <th>2018-12</th>\n",
       "      <th>2019-12</th>\n",
       "      <th>2020-12</th>\n",
       "      <th>2021-12</th>\n",
       "      <th>2022-12</th>\n",
       "      <th>LTM</th>\n",
       "    </tr>\n",
       "    <tr>\n",
       "      <th>Income Statement | TIKR.com</th>\n",
       "      <th></th>\n",
       "      <th></th>\n",
       "      <th></th>\n",
       "      <th></th>\n",
       "      <th></th>\n",
       "      <th></th>\n",
       "    </tr>\n",
       "  </thead>\n",
       "  <tbody>\n",
       "    <tr>\n",
       "      <th>Revenues</th>\n",
       "      <td>2457.450</td>\n",
       "      <td>2756.160</td>\n",
       "      <td>2398.120</td>\n",
       "      <td>3463.950</td>\n",
       "      <td>4014.920</td>\n",
       "      <td>4348.390</td>\n",
       "    </tr>\n",
       "    <tr>\n",
       "      <th>Total Revenues</th>\n",
       "      <td>2457.450</td>\n",
       "      <td>2756.160</td>\n",
       "      <td>2398.120</td>\n",
       "      <td>3463.950</td>\n",
       "      <td>4014.920</td>\n",
       "      <td>4348.390</td>\n",
       "    </tr>\n",
       "    <tr>\n",
       "      <th>Cost of Goods Sold</th>\n",
       "      <td>-1995.850</td>\n",
       "      <td>-2241.650</td>\n",
       "      <td>-2100.740</td>\n",
       "      <td>-2836.340</td>\n",
       "      <td>-3336.290</td>\n",
       "      <td>-3630.700</td>\n",
       "    </tr>\n",
       "    <tr>\n",
       "      <th>Gross Profit</th>\n",
       "      <td>461.600</td>\n",
       "      <td>514.510</td>\n",
       "      <td>297.390</td>\n",
       "      <td>627.600</td>\n",
       "      <td>678.630</td>\n",
       "      <td>717.690</td>\n",
       "    </tr>\n",
       "    <tr>\n",
       "      <th>% Gross Margins</th>\n",
       "      <td>0.188</td>\n",
       "      <td>0.187</td>\n",
       "      <td>0.124</td>\n",
       "      <td>0.181</td>\n",
       "      <td>0.169</td>\n",
       "      <td>0.165</td>\n",
       "    </tr>\n",
       "    <tr>\n",
       "      <th>Selling General &amp; Admin Expenses</th>\n",
       "      <td>-153.260</td>\n",
       "      <td>-167.690</td>\n",
       "      <td>-133.300</td>\n",
       "      <td>-178.580</td>\n",
       "      <td>-197.710</td>\n",
       "      <td>-209.070</td>\n",
       "    </tr>\n",
       "    <tr>\n",
       "      <th>Pre-Opening Costs</th>\n",
       "      <td>-19.050</td>\n",
       "      <td>-20.160</td>\n",
       "      <td>-20.100</td>\n",
       "      <td>-24.340</td>\n",
       "      <td>-21.880</td>\n",
       "      <td>-23.320</td>\n",
       "    </tr>\n",
       "    <tr>\n",
       "      <th>Depreciation &amp; Amortization</th>\n",
       "      <td>-101.220</td>\n",
       "      <td>-115.540</td>\n",
       "      <td>-117.880</td>\n",
       "      <td>-126.760</td>\n",
       "      <td>-137.240</td>\n",
       "      <td>-142.840</td>\n",
       "    </tr>\n",
       "    <tr>\n",
       "      <th>Total Operating Expenses</th>\n",
       "      <td>-273.530</td>\n",
       "      <td>-303.390</td>\n",
       "      <td>-271.280</td>\n",
       "      <td>-329.680</td>\n",
       "      <td>-356.830</td>\n",
       "      <td>-375.220</td>\n",
       "    </tr>\n",
       "    <tr>\n",
       "      <th>Operating Income</th>\n",
       "      <td>188.070</td>\n",
       "      <td>211.120</td>\n",
       "      <td>26.110</td>\n",
       "      <td>297.930</td>\n",
       "      <td>321.800</td>\n",
       "      <td>342.470</td>\n",
       "    </tr>\n",
       "    <tr>\n",
       "      <th>% Operating Margins</th>\n",
       "      <td>0.077</td>\n",
       "      <td>0.077</td>\n",
       "      <td>0.011</td>\n",
       "      <td>0.086</td>\n",
       "      <td>0.080</td>\n",
       "      <td>0.079</td>\n",
       "    </tr>\n",
       "    <tr>\n",
       "      <th>Interest Expense</th>\n",
       "      <td>-0.590</td>\n",
       "      <td>NaN</td>\n",
       "      <td>-4.090</td>\n",
       "      <td>-3.660</td>\n",
       "      <td>-0.120</td>\n",
       "      <td>NaN</td>\n",
       "    </tr>\n",
       "    <tr>\n",
       "      <th>Interest And Investment Income</th>\n",
       "      <td>NaN</td>\n",
       "      <td>1.510</td>\n",
       "      <td>NaN</td>\n",
       "      <td>NaN</td>\n",
       "      <td>NaN</td>\n",
       "      <td>2.900</td>\n",
       "    </tr>\n",
       "    <tr>\n",
       "      <th>Income (Loss) On Equity Invest.</th>\n",
       "      <td>1.350</td>\n",
       "      <td>0.380</td>\n",
       "      <td>-0.500</td>\n",
       "      <td>-0.640</td>\n",
       "      <td>1.240</td>\n",
       "      <td>1.400</td>\n",
       "    </tr>\n",
       "    <tr>\n",
       "      <th>Other Non Operating Income (Expenses)</th>\n",
       "      <td>NaN</td>\n",
       "      <td>2.000</td>\n",
       "      <td>NaN</td>\n",
       "      <td>NaN</td>\n",
       "      <td>NaN</td>\n",
       "      <td>NaN</td>\n",
       "    </tr>\n",
       "    <tr>\n",
       "      <th>EBT Excl. Unusual Items</th>\n",
       "      <td>188.830</td>\n",
       "      <td>215.020</td>\n",
       "      <td>21.520</td>\n",
       "      <td>293.630</td>\n",
       "      <td>322.910</td>\n",
       "      <td>346.770</td>\n",
       "    </tr>\n",
       "    <tr>\n",
       "      <th>Merger &amp; Restructuring Charges</th>\n",
       "      <td>NaN</td>\n",
       "      <td>NaN</td>\n",
       "      <td>NaN</td>\n",
       "      <td>NaN</td>\n",
       "      <td>-0.600</td>\n",
       "      <td>-0.600</td>\n",
       "    </tr>\n",
       "    <tr>\n",
       "      <th>Impairment of Goodwill</th>\n",
       "      <td>NaN</td>\n",
       "      <td>NaN</td>\n",
       "      <td>-1.100</td>\n",
       "      <td>NaN</td>\n",
       "      <td>NaN</td>\n",
       "      <td>NaN</td>\n",
       "    </tr>\n",
       "    <tr>\n",
       "      <th>Gain (Loss) On Sale Of Assets</th>\n",
       "      <td>NaN</td>\n",
       "      <td>NaN</td>\n",
       "      <td>NaN</td>\n",
       "      <td>NaN</td>\n",
       "      <td>0.700</td>\n",
       "      <td>0.700</td>\n",
       "    </tr>\n",
       "    <tr>\n",
       "      <th>Asset Writedown</th>\n",
       "      <td>-0.280</td>\n",
       "      <td>-1.100</td>\n",
       "      <td>-1.160</td>\n",
       "      <td>-0.730</td>\n",
       "      <td>-1.700</td>\n",
       "      <td>-2.070</td>\n",
       "    </tr>\n",
       "    <tr>\n",
       "      <th>EBT Incl. Unusual Items</th>\n",
       "      <td>188.550</td>\n",
       "      <td>213.920</td>\n",
       "      <td>19.250</td>\n",
       "      <td>292.890</td>\n",
       "      <td>321.310</td>\n",
       "      <td>344.800</td>\n",
       "    </tr>\n",
       "    <tr>\n",
       "      <th>Income Tax Expense</th>\n",
       "      <td>-24.260</td>\n",
       "      <td>-32.400</td>\n",
       "      <td>15.670</td>\n",
       "      <td>-39.580</td>\n",
       "      <td>-43.720</td>\n",
       "      <td>-46.040</td>\n",
       "    </tr>\n",
       "    <tr>\n",
       "      <th>Earnings From Continuing Operations</th>\n",
       "      <td>164.290</td>\n",
       "      <td>181.520</td>\n",
       "      <td>34.930</td>\n",
       "      <td>253.310</td>\n",
       "      <td>277.600</td>\n",
       "      <td>298.760</td>\n",
       "    </tr>\n",
       "    <tr>\n",
       "      <th>Net Income to Company</th>\n",
       "      <td>164.290</td>\n",
       "      <td>181.520</td>\n",
       "      <td>34.930</td>\n",
       "      <td>253.310</td>\n",
       "      <td>277.600</td>\n",
       "      <td>298.760</td>\n",
       "    </tr>\n",
       "    <tr>\n",
       "      <th>Minority Interest</th>\n",
       "      <td>-6.070</td>\n",
       "      <td>-7.070</td>\n",
       "      <td>-3.670</td>\n",
       "      <td>-8.020</td>\n",
       "      <td>-7.780</td>\n",
       "      <td>-7.910</td>\n",
       "    </tr>\n",
       "    <tr>\n",
       "      <th>Net Income</th>\n",
       "      <td>158.230</td>\n",
       "      <td>174.450</td>\n",
       "      <td>31.260</td>\n",
       "      <td>245.290</td>\n",
       "      <td>269.820</td>\n",
       "      <td>290.860</td>\n",
       "    </tr>\n",
       "    <tr>\n",
       "      <th>Net Income to Common Incl Extra Items</th>\n",
       "      <td>158.230</td>\n",
       "      <td>174.450</td>\n",
       "      <td>31.260</td>\n",
       "      <td>245.290</td>\n",
       "      <td>269.820</td>\n",
       "      <td>290.860</td>\n",
       "    </tr>\n",
       "    <tr>\n",
       "      <th>% Net Income to Common Incl Extra Items Margins</th>\n",
       "      <td>0.064</td>\n",
       "      <td>0.063</td>\n",
       "      <td>0.013</td>\n",
       "      <td>0.071</td>\n",
       "      <td>0.067</td>\n",
       "      <td>0.067</td>\n",
       "    </tr>\n",
       "    <tr>\n",
       "      <th>Net Income to Common Excl. Extra Items</th>\n",
       "      <td>158.230</td>\n",
       "      <td>174.450</td>\n",
       "      <td>31.260</td>\n",
       "      <td>245.290</td>\n",
       "      <td>269.820</td>\n",
       "      <td>290.860</td>\n",
       "    </tr>\n",
       "    <tr>\n",
       "      <th>% Net Income to Common Excl. Extra Items Margins</th>\n",
       "      <td>0.064</td>\n",
       "      <td>0.063</td>\n",
       "      <td>0.013</td>\n",
       "      <td>0.071</td>\n",
       "      <td>0.067</td>\n",
       "      <td>0.067</td>\n",
       "    </tr>\n",
       "    <tr>\n",
       "      <th>Diluted EPS Excl Extra Items</th>\n",
       "      <td>2.200</td>\n",
       "      <td>2.460</td>\n",
       "      <td>0.450</td>\n",
       "      <td>3.500</td>\n",
       "      <td>3.970</td>\n",
       "      <td>4.330</td>\n",
       "    </tr>\n",
       "    <tr>\n",
       "      <th>Weighted Average Diluted Shares Outstanding</th>\n",
       "      <td>71.960</td>\n",
       "      <td>70.920</td>\n",
       "      <td>69.890</td>\n",
       "      <td>70.100</td>\n",
       "      <td>67.920</td>\n",
       "      <td>67.240</td>\n",
       "    </tr>\n",
       "    <tr>\n",
       "      <th>Weighted Average Basic Shares Outstanding</th>\n",
       "      <td>71.470</td>\n",
       "      <td>70.510</td>\n",
       "      <td>69.440</td>\n",
       "      <td>69.710</td>\n",
       "      <td>67.640</td>\n",
       "      <td>66.960</td>\n",
       "    </tr>\n",
       "    <tr>\n",
       "      <th>Dividends Per Share</th>\n",
       "      <td>1.000</td>\n",
       "      <td>1.200</td>\n",
       "      <td>0.360</td>\n",
       "      <td>1.200</td>\n",
       "      <td>1.840</td>\n",
       "      <td>2.020</td>\n",
       "    </tr>\n",
       "    <tr>\n",
       "      <th>Payout Ratio %</th>\n",
       "      <td>0.433</td>\n",
       "      <td>0.587</td>\n",
       "      <td>0.800</td>\n",
       "      <td>0.341</td>\n",
       "      <td>0.460</td>\n",
       "      <td>0.465</td>\n",
       "    </tr>\n",
       "    <tr>\n",
       "      <th>Basic EPS</th>\n",
       "      <td>2.210</td>\n",
       "      <td>2.470</td>\n",
       "      <td>0.450</td>\n",
       "      <td>3.520</td>\n",
       "      <td>3.990</td>\n",
       "      <td>4.340</td>\n",
       "    </tr>\n",
       "    <tr>\n",
       "      <th>EBITDA</th>\n",
       "      <td>289.280</td>\n",
       "      <td>326.670</td>\n",
       "      <td>143.980</td>\n",
       "      <td>424.690</td>\n",
       "      <td>459.030</td>\n",
       "      <td>485.300</td>\n",
       "    </tr>\n",
       "    <tr>\n",
       "      <th>EBITDAR</th>\n",
       "      <td>344.250</td>\n",
       "      <td>379.200</td>\n",
       "      <td>198.390</td>\n",
       "      <td>490.880</td>\n",
       "      <td>532.170</td>\n",
       "      <td>NaN</td>\n",
       "    </tr>\n",
       "    <tr>\n",
       "      <th>Selling and Marketing Expense</th>\n",
       "      <td>17.100</td>\n",
       "      <td>18.300</td>\n",
       "      <td>13.800</td>\n",
       "      <td>21.100</td>\n",
       "      <td>25.000</td>\n",
       "      <td>25.000</td>\n",
       "    </tr>\n",
       "    <tr>\n",
       "      <th>General and Administrative Expense</th>\n",
       "      <td>136.160</td>\n",
       "      <td>149.390</td>\n",
       "      <td>119.500</td>\n",
       "      <td>157.480</td>\n",
       "      <td>172.710</td>\n",
       "      <td>184.070</td>\n",
       "    </tr>\n",
       "    <tr>\n",
       "      <th>Effective Tax Rate %</th>\n",
       "      <td>0.129</td>\n",
       "      <td>0.151</td>\n",
       "      <td>-0.814</td>\n",
       "      <td>0.135</td>\n",
       "      <td>0.136</td>\n",
       "      <td>0.134</td>\n",
       "    </tr>\n",
       "  </tbody>\n",
       "</table>\n",
       "</div>"
      ],
      "text/plain": [
       "                                                   2018-12   2019-12  \\\n",
       "Income Statement | TIKR.com                                            \n",
       "Revenues                                          2457.450  2756.160   \n",
       "Total Revenues                                    2457.450  2756.160   \n",
       "Cost of Goods Sold                               -1995.850 -2241.650   \n",
       "Gross Profit                                       461.600   514.510   \n",
       "% Gross Margins                                      0.188     0.187   \n",
       "Selling General & Admin Expenses                  -153.260  -167.690   \n",
       "Pre-Opening Costs                                  -19.050   -20.160   \n",
       "Depreciation & Amortization                       -101.220  -115.540   \n",
       "Total Operating Expenses                          -273.530  -303.390   \n",
       "Operating Income                                   188.070   211.120   \n",
       "% Operating Margins                                  0.077     0.077   \n",
       "Interest Expense                                    -0.590       NaN   \n",
       "Interest And Investment Income                         NaN     1.510   \n",
       "Income (Loss) On Equity Invest.                      1.350     0.380   \n",
       "Other Non Operating Income (Expenses)                  NaN     2.000   \n",
       "EBT Excl. Unusual Items                            188.830   215.020   \n",
       "Merger & Restructuring Charges                         NaN       NaN   \n",
       "Impairment of Goodwill                                 NaN       NaN   \n",
       "Gain (Loss) On Sale Of Assets                          NaN       NaN   \n",
       "Asset Writedown                                     -0.280    -1.100   \n",
       "EBT Incl. Unusual Items                            188.550   213.920   \n",
       "Income Tax Expense                                 -24.260   -32.400   \n",
       "Earnings From Continuing Operations                164.290   181.520   \n",
       "Net Income to Company                              164.290   181.520   \n",
       "Minority Interest                                   -6.070    -7.070   \n",
       "Net Income                                         158.230   174.450   \n",
       "Net Income to Common Incl Extra Items              158.230   174.450   \n",
       "% Net Income to Common Incl Extra Items Margins      0.064     0.063   \n",
       "Net Income to Common Excl. Extra Items             158.230   174.450   \n",
       "% Net Income to Common Excl. Extra Items Margins     0.064     0.063   \n",
       "Diluted EPS Excl Extra Items                         2.200     2.460   \n",
       "Weighted Average Diluted Shares Outstanding         71.960    70.920   \n",
       "Weighted Average Basic Shares Outstanding           71.470    70.510   \n",
       "Dividends Per Share                                  1.000     1.200   \n",
       "Payout Ratio %                                       0.433     0.587   \n",
       "Basic EPS                                            2.210     2.470   \n",
       "EBITDA                                             289.280   326.670   \n",
       "EBITDAR                                            344.250   379.200   \n",
       "Selling and Marketing Expense                       17.100    18.300   \n",
       "General and Administrative Expense                 136.160   149.390   \n",
       "Effective Tax Rate %                                 0.129     0.151   \n",
       "\n",
       "                                                   2020-12   2021-12  \\\n",
       "Income Statement | TIKR.com                                            \n",
       "Revenues                                          2398.120  3463.950   \n",
       "Total Revenues                                    2398.120  3463.950   \n",
       "Cost of Goods Sold                               -2100.740 -2836.340   \n",
       "Gross Profit                                       297.390   627.600   \n",
       "% Gross Margins                                      0.124     0.181   \n",
       "Selling General & Admin Expenses                  -133.300  -178.580   \n",
       "Pre-Opening Costs                                  -20.100   -24.340   \n",
       "Depreciation & Amortization                       -117.880  -126.760   \n",
       "Total Operating Expenses                          -271.280  -329.680   \n",
       "Operating Income                                    26.110   297.930   \n",
       "% Operating Margins                                  0.011     0.086   \n",
       "Interest Expense                                    -4.090    -3.660   \n",
       "Interest And Investment Income                         NaN       NaN   \n",
       "Income (Loss) On Equity Invest.                     -0.500    -0.640   \n",
       "Other Non Operating Income (Expenses)                  NaN       NaN   \n",
       "EBT Excl. Unusual Items                             21.520   293.630   \n",
       "Merger & Restructuring Charges                         NaN       NaN   \n",
       "Impairment of Goodwill                              -1.100       NaN   \n",
       "Gain (Loss) On Sale Of Assets                          NaN       NaN   \n",
       "Asset Writedown                                     -1.160    -0.730   \n",
       "EBT Incl. Unusual Items                             19.250   292.890   \n",
       "Income Tax Expense                                  15.670   -39.580   \n",
       "Earnings From Continuing Operations                 34.930   253.310   \n",
       "Net Income to Company                               34.930   253.310   \n",
       "Minority Interest                                   -3.670    -8.020   \n",
       "Net Income                                          31.260   245.290   \n",
       "Net Income to Common Incl Extra Items               31.260   245.290   \n",
       "% Net Income to Common Incl Extra Items Margins      0.013     0.071   \n",
       "Net Income to Common Excl. Extra Items              31.260   245.290   \n",
       "% Net Income to Common Excl. Extra Items Margins     0.013     0.071   \n",
       "Diluted EPS Excl Extra Items                         0.450     3.500   \n",
       "Weighted Average Diluted Shares Outstanding         69.890    70.100   \n",
       "Weighted Average Basic Shares Outstanding           69.440    69.710   \n",
       "Dividends Per Share                                  0.360     1.200   \n",
       "Payout Ratio %                                       0.800     0.341   \n",
       "Basic EPS                                            0.450     3.520   \n",
       "EBITDA                                             143.980   424.690   \n",
       "EBITDAR                                            198.390   490.880   \n",
       "Selling and Marketing Expense                       13.800    21.100   \n",
       "General and Administrative Expense                 119.500   157.480   \n",
       "Effective Tax Rate %                                -0.814     0.135   \n",
       "\n",
       "                                                   2022-12       LTM  \n",
       "Income Statement | TIKR.com                                           \n",
       "Revenues                                          4014.920  4348.390  \n",
       "Total Revenues                                    4014.920  4348.390  \n",
       "Cost of Goods Sold                               -3336.290 -3630.700  \n",
       "Gross Profit                                       678.630   717.690  \n",
       "% Gross Margins                                      0.169     0.165  \n",
       "Selling General & Admin Expenses                  -197.710  -209.070  \n",
       "Pre-Opening Costs                                  -21.880   -23.320  \n",
       "Depreciation & Amortization                       -137.240  -142.840  \n",
       "Total Operating Expenses                          -356.830  -375.220  \n",
       "Operating Income                                   321.800   342.470  \n",
       "% Operating Margins                                  0.080     0.079  \n",
       "Interest Expense                                    -0.120       NaN  \n",
       "Interest And Investment Income                         NaN     2.900  \n",
       "Income (Loss) On Equity Invest.                      1.240     1.400  \n",
       "Other Non Operating Income (Expenses)                  NaN       NaN  \n",
       "EBT Excl. Unusual Items                            322.910   346.770  \n",
       "Merger & Restructuring Charges                      -0.600    -0.600  \n",
       "Impairment of Goodwill                                 NaN       NaN  \n",
       "Gain (Loss) On Sale Of Assets                        0.700     0.700  \n",
       "Asset Writedown                                     -1.700    -2.070  \n",
       "EBT Incl. Unusual Items                            321.310   344.800  \n",
       "Income Tax Expense                                 -43.720   -46.040  \n",
       "Earnings From Continuing Operations                277.600   298.760  \n",
       "Net Income to Company                              277.600   298.760  \n",
       "Minority Interest                                   -7.780    -7.910  \n",
       "Net Income                                         269.820   290.860  \n",
       "Net Income to Common Incl Extra Items              269.820   290.860  \n",
       "% Net Income to Common Incl Extra Items Margins      0.067     0.067  \n",
       "Net Income to Common Excl. Extra Items             269.820   290.860  \n",
       "% Net Income to Common Excl. Extra Items Margins     0.067     0.067  \n",
       "Diluted EPS Excl Extra Items                         3.970     4.330  \n",
       "Weighted Average Diluted Shares Outstanding         67.920    67.240  \n",
       "Weighted Average Basic Shares Outstanding           67.640    66.960  \n",
       "Dividends Per Share                                  1.840     2.020  \n",
       "Payout Ratio %                                       0.460     0.465  \n",
       "Basic EPS                                            3.990     4.340  \n",
       "EBITDA                                             459.030   485.300  \n",
       "EBITDAR                                            532.170       NaN  \n",
       "Selling and Marketing Expense                       25.000    25.000  \n",
       "General and Administrative Expense                 172.710   184.070  \n",
       "Effective Tax Rate %                                 0.136     0.134  "
      ]
     },
     "execution_count": 10,
     "metadata": {},
     "output_type": "execute_result"
    }
   ],
   "source": [
    "income"
   ]
  },
  {
   "cell_type": "code",
   "execution_count": 11,
   "metadata": {},
   "outputs": [],
   "source": [
    "def get_growth_per_year(series, year):\n",
    "    x = ((series.shift(-year) / series) ** (1 / year)) - 1\n",
    "    x = x.dropna()\n",
    "    return x.iloc[-1] if len(x) > 0 else np.NaN\n"
   ]
  },
  {
   "cell_type": "code",
   "execution_count": 12,
   "metadata": {},
   "outputs": [
    {
     "data": {
      "text/plain": [
       "{'yy_growth': [0.120904879169911,\n",
       "  0.12074295017301617,\n",
       "  0.21941778756598107,\n",
       "  0.12041376779794,\n",
       "  0.08305769479840208],\n",
       " 'tot': 0.7694724205985883}"
      ]
     },
     "execution_count": 12,
     "metadata": {},
     "output_type": "execute_result"
    }
   ],
   "source": [
    "{ \n",
    "    \"yy_growth\": [get_growth_per_year(income.loc[\"Revenues\"], i) for i in range(5, 0, -1)],\n",
    "    \"tot\": income.loc[\"Revenues\"].pct_change(periods=5).iloc[-1]\n",
    "}"
   ]
  },
  {
   "cell_type": "code",
   "execution_count": 13,
   "metadata": {},
   "outputs": [
    {
     "data": {
      "text/plain": [
       "{'yy_growt': [0.09228059686314483,\n",
       "  0.08676531403529553,\n",
       "  0.34133372671949624,\n",
       "  0.06936749769397932,\n",
       "  0.05755713717342292],\n",
       " 'tot': 0.5547876949740036}"
      ]
     },
     "execution_count": 13,
     "metadata": {},
     "output_type": "execute_result"
    }
   ],
   "source": [
    "{ \"yy_growt\": [get_growth_per_year(income.loc[\"Gross Profit\"], i) for i in range(5, 0, -1)],\n",
    "  \"tot\": income.loc[\"Gross Profit\"].pct_change(periods=5).iloc[-1] }"
   ]
  },
  {
   "cell_type": "code",
   "execution_count": 14,
   "metadata": {},
   "outputs": [
    {
     "data": {
      "text/plain": [
       "[0.12712606585434783,\n",
       " 0.1281208866232384,\n",
       " 0.20006845521628813,\n",
       " 0.13139964397603876,\n",
       " 0.08824472692721552]"
      ]
     },
     "execution_count": 14,
     "metadata": {},
     "output_type": "execute_result"
    }
   ],
   "source": [
    "[get_growth_per_year(income.loc[\"Cost of Goods Sold\"], i) for i in range(5, 0, -1)]"
   ]
  },
  {
   "cell_type": "code",
   "execution_count": 15,
   "metadata": {},
   "outputs": [
    {
     "data": {
      "text/plain": [
       "2018-12    0.187837\n",
       "2019-12    0.186676\n",
       "2020-12    0.124010\n",
       "2021-12    0.181180\n",
       "2022-12    0.169027\n",
       "LTM        0.165047\n",
       "dtype: float64"
      ]
     },
     "execution_count": 15,
     "metadata": {},
     "output_type": "execute_result"
    }
   ],
   "source": [
    "gross_margin = income.loc[\"Gross Profit\"] / income.loc[\"Revenues\"]\n",
    "gross_margin"
   ]
  },
  {
   "cell_type": "code",
   "execution_count": 16,
   "metadata": {},
   "outputs": [
    {
     "data": {
      "text/plain": [
       "{'yy_growth': [-0.025536763055187928,\n",
       "  -0.030317064347783917,\n",
       "  0.09997880988505625,\n",
       "  -0.045560195323453456,\n",
       "  -0.023544966946313584],\n",
       " 'tot': -0.12132696905892426,\n",
       " 'std': 0.02389727526137343,\n",
       " 'std_z2': 0.010373491718175039}"
      ]
     },
     "execution_count": 16,
     "metadata": {},
     "output_type": "execute_result"
    }
   ],
   "source": [
    "{ \"yy_growth\": [get_growth_per_year(gross_margin, i) for i in range(5, 0, -1)],\n",
    "  \"tot\": gross_margin.pct_change(periods=5).iloc[-1],\n",
    "  \"std\": gross_margin.std(),\n",
    "  \"std_z2\": gross_margin[(np.abs(stats.zscore(gross_margin)) <= 2)].std()\n",
    "}"
   ]
  },
  {
   "cell_type": "code",
   "execution_count": 17,
   "metadata": {},
   "outputs": [
    {
     "data": {
      "text/plain": [
       "{'series': [0.18783698549309247,\n",
       "  0.18667639034018346,\n",
       "  0.12400964088536019,\n",
       "  0.18118044429047764,\n",
       "  0.16902702918115428,\n",
       "  0.16504729336605042],\n",
       " 'yy_growth': [-0.025536763055187928,\n",
       "  -0.030317064347783917,\n",
       "  0.09997880988505625,\n",
       "  -0.045560195323453456,\n",
       "  -0.023544966946313584],\n",
       " 'yy_growth_5': -0.025536763055187928,\n",
       " 'yy_growth_3': 0.09997880988505625,\n",
       " 'yy_growth_1': -0.023544966946313584,\n",
       " 'growth_tot': -0.12132696905892426,\n",
       " 'ltm': 0.16504729336605042,\n",
       " 'mean': 0.16896296392605306,\n",
       " 'std': 0.02389727526137343,\n",
       " 'mean_z2': 0.17795362853419167,\n",
       " 'std_z2': 0.010373491718175039}"
      ]
     },
     "execution_count": 17,
     "metadata": {},
     "output_type": "execute_result"
    }
   ],
   "source": [
    "def get_series_stats(series, years=5, dispersion_metrics=True):\n",
    "    metrics = { \n",
    "        \"series\": list(series),\n",
    "        \"yy_growth\": [get_growth_per_year(series, i) for i in range(years, 0, -1)],\n",
    "        \"yy_growth_5\": get_growth_per_year(series, 5),\n",
    "        \"yy_growth_3\": get_growth_per_year(series, 3),\n",
    "        \"yy_growth_1\": get_growth_per_year(series, 1),\n",
    "        \"growth_tot\": series.pct_change(periods=years).iloc[-1],\n",
    "        \"ltm\": series[\"LTM\"],\n",
    "    }\n",
    "    if dispersion_metrics:\n",
    "        metrics.update({\n",
    "        \"mean\": series.mean(),\n",
    "        \"std\": series.std(),\n",
    "        \"mean_z2\": series[(np.abs(stats.zscore(series)) <= 2)].mean(),\n",
    "        \"std_z2\": series[(np.abs(stats.zscore(series)) <= 2)].std()\n",
    "    })\n",
    "    return metrics\n",
    "\n",
    "get_series_stats(gross_margin)"
   ]
  },
  {
   "cell_type": "code",
   "execution_count": 18,
   "metadata": {},
   "outputs": [
    {
     "data": {
      "text/plain": [
       "{'series': [0.3320190641247833,\n",
       "  0.3259217507920157,\n",
       "  0.4482329600860823,\n",
       "  0.2845442957297642,\n",
       "  0.2913369582836008,\n",
       "  0.29130961835890146],\n",
       " 'yy_growth': [-0.025821903495483967,\n",
       "  -0.027677423292561953,\n",
       "  -0.13380232854140095,\n",
       "  0.011818161060519028,\n",
       "  -9.384296747105836e-05],\n",
       " 'yy_growth_5': -0.025821903495483967,\n",
       " 'yy_growth_3': -0.13380232854140095,\n",
       " 'yy_growth_1': -9.384296747105836e-05,\n",
       " 'growth_tot': -0.1226117719269938,\n",
       " 'ltm': 0.29130961835890146,\n",
       " 'mean': 0.32889410789585793,\n",
       " 'std': 0.06172584722818236,\n",
       " 'mean_z2': 0.3050263374578131,\n",
       " 'std_z2': 0.022137564848511898}"
      ]
     },
     "execution_count": 18,
     "metadata": {},
     "output_type": "execute_result"
    }
   ],
   "source": [
    "get_series_stats(-income.loc[\"Selling General & Admin Expenses\"] / income.loc[\"Gross Profit\"])"
   ]
  },
  {
   "cell_type": "code",
   "execution_count": 19,
   "metadata": {},
   "outputs": [
    {
     "data": {
      "text/plain": [
       "{'series': [0.21928076256499132,\n",
       "  0.22456317661464306,\n",
       "  0.3963818554759743,\n",
       "  0.20197578075207137,\n",
       "  0.20223096532720336,\n",
       "  0.19902743524362884],\n",
       " 'yy_growth': [-0.019195425499968,\n",
       "  -0.029727771852442464,\n",
       "  -0.20518438002825612,\n",
       "  -0.007325592173613615,\n",
       "  -0.01584094739592079],\n",
       " 'yy_growth_5': -0.019195425499968,\n",
       " 'yy_growth_3': -0.20518438002825612,\n",
       " 'yy_growth_1': -0.01584094739592079,\n",
       " 'growth_tot': -0.09236253597649591,\n",
       " 'ltm': 0.19902743524362884,\n",
       " 'mean': 0.2405766626630854,\n",
       " 'std': 0.07703501034141554,\n",
       " 'mean_z2': 0.20941562410050757,\n",
       " 'std_z2': 0.011636734535042426}"
      ]
     },
     "execution_count": 19,
     "metadata": {},
     "output_type": "execute_result"
    }
   ],
   "source": [
    "get_series_stats(-(income.loc[\"Depreciation & Amortization\"] / income.loc[\"Gross Profit\"]))"
   ]
  },
  {
   "cell_type": "code",
   "execution_count": 20,
   "metadata": {},
   "outputs": [
    {
     "data": {
      "text/plain": [
       "{'series': [0.0031371297920986868,\n",
       "  nan,\n",
       "  0.156644963615473,\n",
       "  0.012284764877655825,\n",
       "  0.0003729024238657551,\n",
       "  nan],\n",
       " 'yy_growth': [nan,\n",
       "  -0.4128275372719078,\n",
       "  0.5762004744646536,\n",
       "  -0.951209037553924,\n",
       "  -0.9696451313818786],\n",
       " 'yy_growth_5': nan,\n",
       " 'yy_growth_3': 0.5762004744646536,\n",
       " 'yy_growth_1': -0.9696451313818786,\n",
       " 'growth_tot': -0.8811326121077414,\n",
       " 'ltm': nan,\n",
       " 'mean': 0.04310994017727331,\n",
       " 'std': 0.07586099776431016,\n",
       " 'mean_z2': nan,\n",
       " 'std_z2': nan}"
      ]
     },
     "execution_count": 20,
     "metadata": {},
     "output_type": "execute_result"
    }
   ],
   "source": [
    "get_series_stats(-income.loc[\"Interest Expense\"] / income.loc[\"Operating Income\"])"
   ]
  },
  {
   "cell_type": "code",
   "execution_count": 21,
   "metadata": {},
   "outputs": [
    {
     "data": {
      "text/plain": [
       "2018-12    0.003137\n",
       "2019-12         NaN\n",
       "2021-12    0.012285\n",
       "2022-12    0.000373\n",
       "LTM             NaN\n",
       "dtype: float64"
      ]
     },
     "execution_count": 21,
     "metadata": {},
     "output_type": "execute_result"
    }
   ],
   "source": [
    "-income.loc[\"Interest Expense\", income.columns != '2020-12'] / income.loc[\"Operating Income\", income.columns != '2020-12']"
   ]
  },
  {
   "cell_type": "code",
   "execution_count": 22,
   "metadata": {},
   "outputs": [
    {
     "data": {
      "text/plain": [
       "2018-12    158.23\n",
       "2019-12    174.45\n",
       "2020-12     31.26\n",
       "2021-12    245.29\n",
       "2022-12    269.82\n",
       "LTM        290.86\n",
       "Name: Net Income, dtype: float64"
      ]
     },
     "execution_count": 22,
     "metadata": {},
     "output_type": "execute_result"
    }
   ],
   "source": [
    "income.loc[\"Net Income\"]"
   ]
  },
  {
   "cell_type": "code",
   "execution_count": 23,
   "metadata": {},
   "outputs": [
    {
     "data": {
      "text/plain": [
       "{'series': [461.6, 514.51, 297.39, 627.6, 678.63, 717.69],\n",
       " 'yy_growth': [0.09228059686314483,\n",
       "  0.08676531403529553,\n",
       "  0.34133372671949624,\n",
       "  0.06936749769397932,\n",
       "  0.05755713717342292],\n",
       " 'yy_growth_5': 0.09228059686314483,\n",
       " 'yy_growth_3': 0.34133372671949624,\n",
       " 'yy_growth_1': 0.05755713717342292,\n",
       " 'growth_tot': 0.5547876949740036,\n",
       " 'ltm': 717.69,\n",
       " 'mean': 549.57,\n",
       " 'std': 157.20825410900028,\n",
       " 'mean_z2': 549.57,\n",
       " 'std_z2': 157.20825410900028}"
      ]
     },
     "execution_count": 23,
     "metadata": {},
     "output_type": "execute_result"
    }
   ],
   "source": [
    "get_series_stats(income.loc[\"Gross Profit\"])"
   ]
  },
  {
   "cell_type": "code",
   "execution_count": 24,
   "metadata": {},
   "outputs": [
    {
     "data": {
      "text/plain": [
       "{'series': [188.07, 211.12, 26.11, 297.93, 321.8, 342.47],\n",
       " 'yy_growth': [0.1273547572960756,\n",
       "  0.12855645499929258,\n",
       "  1.3583335026070027,\n",
       "  0.07214654048603464,\n",
       "  0.06423244251087645],\n",
       " 'yy_growth_5': 0.1273547572960756,\n",
       " 'yy_growth_3': 1.3583335026070027,\n",
       " 'yy_growth_1': 0.06423244251087645,\n",
       " 'growth_tot': 0.820970915084809,\n",
       " 'ltm': 342.47,\n",
       " 'mean': 231.25,\n",
       " 'std': 117.78587538410538,\n",
       " 'mean_z2': 231.25,\n",
       " 'std_z2': 117.78587538410538}"
      ]
     },
     "execution_count": 24,
     "metadata": {},
     "output_type": "execute_result"
    }
   ],
   "source": [
    "get_series_stats(income.loc[\"Operating Income\"])"
   ]
  },
  {
   "cell_type": "code",
   "execution_count": 25,
   "metadata": {},
   "outputs": [
    {
     "data": {
      "text/plain": [
       "2018-12    0.064388\n",
       "2019-12    0.063295\n",
       "2020-12    0.013035\n",
       "2021-12    0.070812\n",
       "2022-12    0.067204\n",
       "LTM        0.066889\n",
       "dtype: float64"
      ]
     },
     "execution_count": 25,
     "metadata": {},
     "output_type": "execute_result"
    }
   ],
   "source": [
    "income.loc[\"Net Income\"] / income.loc[\"Revenues\"]"
   ]
  },
  {
   "cell_type": "code",
   "execution_count": 26,
   "metadata": {},
   "outputs": [
    {
     "data": {
      "text/plain": [
       "{'series': [0.06438788174733973,\n",
       "  0.0632945837687217,\n",
       "  0.013035210915216922,\n",
       "  0.0708122230401709,\n",
       "  0.06720432785709304,\n",
       "  0.06688912448055487],\n",
       " 'yy_growth': [0.007651312095269924,\n",
       "  0.013904944087869353,\n",
       "  0.7248280897262906,\n",
       "  -0.02809539151274265,\n",
       "  -0.004690224373770091],\n",
       " 'yy_growth_5': 0.007651312095269924,\n",
       " 'yy_growth_3': 0.7248280897262906,\n",
       " 'yy_growth_1': -0.004690224373770091,\n",
       " 'growth_tot': 0.038846482681789585,\n",
       " 'ltm': 0.06688912448055487,\n",
       " 'mean': 0.057603891968182865,\n",
       " 'std': 0.021989168893191753,\n",
       " 'mean_z2': 0.06651762817877604,\n",
       " 'std_z2': 0.0029144873522350986}"
      ]
     },
     "execution_count": 26,
     "metadata": {},
     "output_type": "execute_result"
    }
   ],
   "source": [
    "get_series_stats(income.loc[\"Net Income\"] / income.loc[\"Revenues\"])"
   ]
  },
  {
   "cell_type": "code",
   "execution_count": 27,
   "metadata": {},
   "outputs": [
    {
     "data": {
      "text/plain": [
       "{'series': [158.23, 174.45, 31.26, 245.29, 269.82, 290.86],\n",
       " 'yy_growth': [0.12948127222955086,\n",
       "  0.13632681823204584,\n",
       "  1.1032860531056912,\n",
       "  0.08893530433538976,\n",
       "  0.07797791120005937],\n",
       " 'yy_growth_5': 0.12948127222955086,\n",
       " 'yy_growth_3': 1.1032860531056912,\n",
       " 'yy_growth_1': 0.07797791120005937,\n",
       " 'growth_tot': 0.8382102003412755,\n",
       " 'ltm': 290.86}"
      ]
     },
     "execution_count": 27,
     "metadata": {},
     "output_type": "execute_result"
    }
   ],
   "source": [
    "get_series_stats(income.loc[\"Net Income\"], dispersion_metrics=False)"
   ]
  },
  {
   "cell_type": "code",
   "execution_count": 28,
   "metadata": {},
   "outputs": [],
   "source": [
    "def get_income_stats(income: pd.DataFrame, years=5):\n",
    "    result = {\n",
    "        \"revenues\": get_series_stats(income.loc[\"Revenues\"], dispersion_metrics=False, years=years),\n",
    "        \"gross\": get_series_stats(income.loc[\"Gross Profit\"], dispersion_metrics=False, years=years),\n",
    "        \"gross_margin\": get_series_stats(income.loc[\"Gross Profit\"] / income.loc[\"Revenues\"], years=years),\n",
    "        \"sga_margin\": get_series_stats(-income.loc[\"Selling General & Admin Expenses\"] / income.loc[\"Gross Profit\"], years=years),\n",
    "        \"depreciation_margin\": get_series_stats(-income.loc[\"Depreciation & Amortization\"] / income.loc[\"Gross Profit\"], years=years),\n",
    "        \"operating_income\": get_series_stats(income.loc[\"Operating Income\"], years=years, dispersion_metrics=False),\n",
    "        \"interest_expense_margin\": get_series_stats(-income.loc[\"Interest Expense\"] / income.loc[\"Operating Income\"], years=years),\n",
    "        \"net_income\": get_series_stats(income.loc[\"Net Income\"], dispersion_metrics=False, years=years),\n",
    "        \"net_income_margin\": get_series_stats(income.loc[\"Net Income\"] / income.loc[\"Revenues\"], years=years),\n",
    "    }\n",
    "\n",
    "    return result\n",
    "\n"
   ]
  },
  {
   "cell_type": "code",
   "execution_count": 29,
   "metadata": {},
   "outputs": [
    {
     "data": {
      "text/html": [
       "<div>\n",
       "<style scoped>\n",
       "    .dataframe tbody tr th:only-of-type {\n",
       "        vertical-align: middle;\n",
       "    }\n",
       "\n",
       "    .dataframe tbody tr th {\n",
       "        vertical-align: top;\n",
       "    }\n",
       "\n",
       "    .dataframe thead th {\n",
       "        text-align: right;\n",
       "    }\n",
       "</style>\n",
       "<table border=\"1\" class=\"dataframe\">\n",
       "  <thead>\n",
       "    <tr style=\"text-align: right;\">\n",
       "      <th></th>\n",
       "      <th>revenues</th>\n",
       "      <th>gross</th>\n",
       "      <th>gross_margin</th>\n",
       "      <th>sga_margin</th>\n",
       "      <th>depreciation_margin</th>\n",
       "      <th>operating_income</th>\n",
       "      <th>interest_expense_margin</th>\n",
       "      <th>net_income</th>\n",
       "      <th>net_income_margin</th>\n",
       "    </tr>\n",
       "  </thead>\n",
       "  <tbody>\n",
       "    <tr>\n",
       "      <th>TXRH</th>\n",
       "      <td>{'series': [2457.45, 2756.16, 2398.12, 3463.95...</td>\n",
       "      <td>{'series': [461.6, 514.51, 297.39, 627.6, 678....</td>\n",
       "      <td>{'series': [0.18783698549309247, 0.18667639034...</td>\n",
       "      <td>{'series': [0.3320190641247833, 0.325921750792...</td>\n",
       "      <td>{'series': [0.21928076256499132, 0.22456317661...</td>\n",
       "      <td>{'series': [188.07, 211.12, 26.11, 297.93, 321...</td>\n",
       "      <td>{'series': [0.0031371297920986868, nan, 0.1566...</td>\n",
       "      <td>{'series': [158.23, 174.45, 31.26, 245.29, 269...</td>\n",
       "      <td>{'series': [0.06438788174733973, 0.06329458376...</td>\n",
       "    </tr>\n",
       "  </tbody>\n",
       "</table>\n",
       "</div>"
      ],
      "text/plain": [
       "                                               revenues  \\\n",
       "TXRH  {'series': [2457.45, 2756.16, 2398.12, 3463.95...   \n",
       "\n",
       "                                                  gross  \\\n",
       "TXRH  {'series': [461.6, 514.51, 297.39, 627.6, 678....   \n",
       "\n",
       "                                           gross_margin  \\\n",
       "TXRH  {'series': [0.18783698549309247, 0.18667639034...   \n",
       "\n",
       "                                             sga_margin  \\\n",
       "TXRH  {'series': [0.3320190641247833, 0.325921750792...   \n",
       "\n",
       "                                    depreciation_margin  \\\n",
       "TXRH  {'series': [0.21928076256499132, 0.22456317661...   \n",
       "\n",
       "                                       operating_income  \\\n",
       "TXRH  {'series': [188.07, 211.12, 26.11, 297.93, 321...   \n",
       "\n",
       "                                interest_expense_margin  \\\n",
       "TXRH  {'series': [0.0031371297920986868, nan, 0.1566...   \n",
       "\n",
       "                                             net_income  \\\n",
       "TXRH  {'series': [158.23, 174.45, 31.26, 245.29, 269...   \n",
       "\n",
       "                                      net_income_margin  \n",
       "TXRH  {'series': [0.06438788174733973, 0.06329458376...  "
      ]
     },
     "execution_count": 29,
     "metadata": {},
     "output_type": "execute_result"
    }
   ],
   "source": [
    "pd.DataFrame.from_dict({'TXRH': get_income_stats(income)}, 'index')\n"
   ]
  },
  {
   "cell_type": "code",
   "execution_count": 30,
   "metadata": {},
   "outputs": [
    {
     "data": {
      "text/plain": [
       "{'series': [158.23, 174.45, 31.26, 245.29, 269.82, 290.86],\n",
       " 'yy_growth': [0.12948127222955086,\n",
       "  0.13632681823204584,\n",
       "  1.1032860531056912,\n",
       "  0.08893530433538976,\n",
       "  0.07797791120005937],\n",
       " 'yy_growth_5': 0.12948127222955086,\n",
       " 'yy_growth_3': 1.1032860531056912,\n",
       " 'yy_growth_1': 0.07797791120005937,\n",
       " 'growth_tot': 0.8382102003412755,\n",
       " 'ltm': 290.86}"
      ]
     },
     "execution_count": 30,
     "metadata": {},
     "output_type": "execute_result"
    }
   ],
   "source": [
    "get_series_stats(income.loc[\"Net Income\"], dispersion_metrics=False)"
   ]
  },
  {
   "cell_type": "code",
   "execution_count": 31,
   "metadata": {},
   "outputs": [
    {
     "data": {
      "text/plain": [
       "2018-12    0.064388\n",
       "2019-12    0.063295\n",
       "2020-12    0.013035\n",
       "2021-12    0.070812\n",
       "2022-12    0.067204\n",
       "LTM        0.066889\n",
       "dtype: float64"
      ]
     },
     "execution_count": 31,
     "metadata": {},
     "output_type": "execute_result"
    }
   ],
   "source": [
    "\n",
    "(income.loc[\"Net Income\"] / income.loc[\"Revenues\"])"
   ]
  },
  {
   "cell_type": "code",
   "execution_count": 32,
   "metadata": {},
   "outputs": [
    {
     "data": {
      "text/plain": [
       "{'series': [2457.45, 2756.16, 2398.12, 3463.95, 4014.92, 4348.39],\n",
       " 'yy_growth': [0.120904879169911,\n",
       "  0.12074295017301617,\n",
       "  0.21941778756598107,\n",
       "  0.12041376779794,\n",
       "  0.08305769479840208],\n",
       " 'yy_growth_5': 0.120904879169911,\n",
       " 'yy_growth_3': 0.21941778756598107,\n",
       " 'yy_growth_1': 0.08305769479840208,\n",
       " 'growth_tot': 0.7694724205985883,\n",
       " 'ltm': 4348.39,\n",
       " 'mean': 3239.831666666667,\n",
       " 'std': 828.7859088429695,\n",
       " 'mean_z2': 3239.831666666667,\n",
       " 'std_z2': 828.7859088429695}"
      ]
     },
     "execution_count": 32,
     "metadata": {},
     "output_type": "execute_result"
    }
   ],
   "source": [
    "get_series_stats(income.loc[\"Revenues\"])"
   ]
  },
  {
   "cell_type": "code",
   "execution_count": 33,
   "metadata": {},
   "outputs": [
    {
     "data": {
      "text/plain": [
       "{'yy_growth': None,\n",
       " 'yy_growth_5': <function str.format>,\n",
       " 'yy_growth_3': <function str.format>,\n",
       " 'yy_growth_1': <function str.format>,\n",
       " 'growth_tot': <function str.format>}"
      ]
     },
     "execution_count": 33,
     "metadata": {},
     "output_type": "execute_result"
    }
   ],
   "source": [
    "table = pd.DataFrame(get_income_stats(income)).T\n",
    "formatters = { 'yy_growth': None }\n",
    "formatters.update({ k: '{:,.2%}'.format for k in table.columns if 'growth_' in k })\n",
    "formatters"
   ]
  },
  {
   "cell_type": "code",
   "execution_count": 34,
   "metadata": {},
   "outputs": [
    {
     "data": {
      "text/plain": [
       "'                                                                                                                                                 series                                                                                                           yy_growth yy_growth_5 yy_growth_3 yy_growth_1 growth_tot       ltm      mean       std   mean_z2    std_z2\\nrevenues                                                                                         [2457.45, 2756.16, 2398.12, 3463.95, 4014.92, 4348.39]                [0.120904879169911, 0.12074295017301617, 0.21941778756598107, 0.12041376779794, 0.08305769479840208]    0.120905    0.219418    0.083058   0.769472   4348.39       NaN       NaN       NaN       NaN\\ngross                                                                                                    [461.6, 514.51, 297.39, 627.6, 678.63, 717.69]           [0.09228059686314483, 0.08676531403529553, 0.34133372671949624, 0.06936749769397932, 0.05755713717342292]    0.092281    0.341334    0.057557   0.554788    717.69       NaN       NaN       NaN       NaN\\ngross_margin             [0.18783698549309247, 0.18667639034018346, 0.12400964088536019, 0.18118044429047764, 0.16902702918115428, 0.16504729336605042]   [-0.025536763055187928, -0.030317064347783917, 0.09997880988505625, -0.045560195323453456, -0.023544966946313584]   -0.025537    0.099979   -0.023545  -0.121327  0.165047  0.168963  0.023897  0.177954  0.010373\\nsga_margin                    [0.3320190641247833, 0.3259217507920157, 0.4482329600860823, 0.2845442957297642, 0.2913369582836008, 0.29130961835890146]  [-0.025821903495483967, -0.027677423292561953, -0.13380232854140095, 0.011818161060519028, -9.384296747105836e-05]   -0.025822   -0.133802   -0.000094  -0.122612   0.29131  0.328894  0.061726  0.305026  0.022138\\ndepreciation_margin       [0.21928076256499132, 0.22456317661464306, 0.3963818554759743, 0.20197578075207137, 0.20223096532720336, 0.19902743524362884]      [-0.019195425499968, -0.029727771852442464, -0.20518438002825612, -0.007325592173613615, -0.01584094739592079]   -0.019195   -0.205184   -0.015841  -0.092363  0.199027  0.240577  0.077035  0.209416  0.011637\\noperating_income                                                                                         [188.07, 211.12, 26.11, 297.93, 321.8, 342.47]             [0.1273547572960756, 0.12855645499929258, 1.3583335026070027, 0.07214654048603464, 0.06423244251087645]    0.127355    1.358334    0.064232   0.820971    342.47       NaN       NaN       NaN       NaN\\ninterest_expense_margin                               [0.0031371297920986868, nan, 0.156644963615473, 0.012284764877655825, 0.0003729024238657551, nan]                             [nan, -0.4128275372719078, 0.5762004744646536, -0.951209037553924, -0.9696451313818786]         NaN      0.5762   -0.969645  -0.881133       NaN   0.04311  0.075861       NaN       NaN\\nnet_income                                                                                              [158.23, 174.45, 31.26, 245.29, 269.82, 290.86]            [0.12948127222955086, 0.13632681823204584, 1.1032860531056912, 0.08893530433538976, 0.07797791120005937]    0.129481    1.103286    0.077978    0.83821    290.86       NaN       NaN       NaN       NaN\\nnet_income_margin         [0.06438788174733973, 0.0632945837687217, 0.013035210915216922, 0.0708122230401709, 0.06720432785709304, 0.06688912448055487]       [0.007651312095269924, 0.013904944087869353, 0.7248280897262906, -0.02809539151274265, -0.004690224373770091]    0.007651    0.724828    -0.00469   0.038846  0.066889  0.057604  0.021989  0.066518  0.002914'"
      ]
     },
     "execution_count": 34,
     "metadata": {},
     "output_type": "execute_result"
    }
   ],
   "source": [
    "table.to_string(formatters=formatters)"
   ]
  },
  {
   "cell_type": "code",
   "execution_count": 35,
   "metadata": {},
   "outputs": [
    {
     "data": {
      "text/html": [
       "<div>\n",
       "<style scoped>\n",
       "    .dataframe tbody tr th:only-of-type {\n",
       "        vertical-align: middle;\n",
       "    }\n",
       "\n",
       "    .dataframe tbody tr th {\n",
       "        vertical-align: top;\n",
       "    }\n",
       "\n",
       "    .dataframe thead th {\n",
       "        text-align: right;\n",
       "    }\n",
       "</style>\n",
       "<table border=\"1\" class=\"dataframe\">\n",
       "  <thead>\n",
       "    <tr style=\"text-align: right;\">\n",
       "      <th></th>\n",
       "      <th>2018-12</th>\n",
       "      <th>2019-12</th>\n",
       "      <th>2020-12</th>\n",
       "      <th>2021-12</th>\n",
       "      <th>2022-12</th>\n",
       "      <th>LTM</th>\n",
       "    </tr>\n",
       "    <tr>\n",
       "      <th>Balance Sheet | TIKR.com</th>\n",
       "      <th></th>\n",
       "      <th></th>\n",
       "      <th></th>\n",
       "      <th></th>\n",
       "      <th></th>\n",
       "      <th></th>\n",
       "    </tr>\n",
       "  </thead>\n",
       "  <tbody>\n",
       "    <tr>\n",
       "      <th>Cash And Equivalents</th>\n",
       "      <td>210.13</td>\n",
       "      <td>107.88</td>\n",
       "      <td>363.16</td>\n",
       "      <td>335.65</td>\n",
       "      <td>173.86</td>\n",
       "      <td>107.32</td>\n",
       "    </tr>\n",
       "    <tr>\n",
       "      <th>Total Cash And Short Term Investments</th>\n",
       "      <td>210.13</td>\n",
       "      <td>107.88</td>\n",
       "      <td>363.16</td>\n",
       "      <td>335.65</td>\n",
       "      <td>173.86</td>\n",
       "      <td>107.32</td>\n",
       "    </tr>\n",
       "    <tr>\n",
       "      <th>Accounts Receivable</th>\n",
       "      <td>92.11</td>\n",
       "      <td>99.31</td>\n",
       "      <td>98.42</td>\n",
       "      <td>161.36</td>\n",
       "      <td>150.26</td>\n",
       "      <td>60.54</td>\n",
       "    </tr>\n",
       "    <tr>\n",
       "      <th>Total Receivables</th>\n",
       "      <td>92.11</td>\n",
       "      <td>99.31</td>\n",
       "      <td>98.42</td>\n",
       "      <td>161.36</td>\n",
       "      <td>150.26</td>\n",
       "      <td>60.54</td>\n",
       "    </tr>\n",
       "    <tr>\n",
       "      <th>Inventory</th>\n",
       "      <td>18.83</td>\n",
       "      <td>20.27</td>\n",
       "      <td>22.36</td>\n",
       "      <td>31.60</td>\n",
       "      <td>38.02</td>\n",
       "      <td>38.12</td>\n",
       "    </tr>\n",
       "    <tr>\n",
       "      <th>Prepaid Expenses</th>\n",
       "      <td>16.38</td>\n",
       "      <td>18.43</td>\n",
       "      <td>20.57</td>\n",
       "      <td>23.05</td>\n",
       "      <td>29.60</td>\n",
       "      <td>25.90</td>\n",
       "    </tr>\n",
       "    <tr>\n",
       "      <th>Other Current Assets</th>\n",
       "      <td>7.57</td>\n",
       "      <td>2.02</td>\n",
       "      <td>6.15</td>\n",
       "      <td>11.88</td>\n",
       "      <td>5.10</td>\n",
       "      <td>1.40</td>\n",
       "    </tr>\n",
       "    <tr>\n",
       "      <th>Total Current Assets</th>\n",
       "      <td>345.02</td>\n",
       "      <td>247.90</td>\n",
       "      <td>510.65</td>\n",
       "      <td>563.53</td>\n",
       "      <td>396.84</td>\n",
       "      <td>233.29</td>\n",
       "    </tr>\n",
       "    <tr>\n",
       "      <th>Gross Property Plant And Equipment</th>\n",
       "      <td>1559.13</td>\n",
       "      <td>2235.35</td>\n",
       "      <td>2384.65</td>\n",
       "      <td>2612.43</td>\n",
       "      <td>2870.74</td>\n",
       "      <td>3042.50</td>\n",
       "    </tr>\n",
       "    <tr>\n",
       "      <th>Accumulated Depreciation</th>\n",
       "      <td>-602.45</td>\n",
       "      <td>-678.99</td>\n",
       "      <td>-763.70</td>\n",
       "      <td>-869.38</td>\n",
       "      <td>-968.04</td>\n",
       "      <td>-1019.64</td>\n",
       "    </tr>\n",
       "    <tr>\n",
       "      <th>Net Property Plant And Equipment</th>\n",
       "      <td>956.68</td>\n",
       "      <td>1556.36</td>\n",
       "      <td>1620.95</td>\n",
       "      <td>1743.05</td>\n",
       "      <td>1902.71</td>\n",
       "      <td>2022.86</td>\n",
       "    </tr>\n",
       "    <tr>\n",
       "      <th>Goodwill</th>\n",
       "      <td>123.22</td>\n",
       "      <td>124.75</td>\n",
       "      <td>127.00</td>\n",
       "      <td>127.00</td>\n",
       "      <td>148.73</td>\n",
       "      <td>169.68</td>\n",
       "    </tr>\n",
       "    <tr>\n",
       "      <th>Other Intangibles</th>\n",
       "      <td>1.96</td>\n",
       "      <td>1.23</td>\n",
       "      <td>2.27</td>\n",
       "      <td>1.52</td>\n",
       "      <td>5.61</td>\n",
       "      <td>4.99</td>\n",
       "    </tr>\n",
       "    <tr>\n",
       "      <th>Other Long-Term Assets</th>\n",
       "      <td>42.40</td>\n",
       "      <td>53.32</td>\n",
       "      <td>64.29</td>\n",
       "      <td>76.85</td>\n",
       "      <td>71.78</td>\n",
       "      <td>84.17</td>\n",
       "    </tr>\n",
       "    <tr>\n",
       "      <th>Total Assets</th>\n",
       "      <td>1469.28</td>\n",
       "      <td>1983.57</td>\n",
       "      <td>2325.16</td>\n",
       "      <td>2511.95</td>\n",
       "      <td>2525.67</td>\n",
       "      <td>2514.99</td>\n",
       "    </tr>\n",
       "    <tr>\n",
       "      <th>Accounts Payable</th>\n",
       "      <td>62.06</td>\n",
       "      <td>61.65</td>\n",
       "      <td>66.98</td>\n",
       "      <td>95.23</td>\n",
       "      <td>105.56</td>\n",
       "      <td>120.65</td>\n",
       "    </tr>\n",
       "    <tr>\n",
       "      <th>Accrued Expenses</th>\n",
       "      <td>88.31</td>\n",
       "      <td>129.05</td>\n",
       "      <td>134.40</td>\n",
       "      <td>184.22</td>\n",
       "      <td>185.12</td>\n",
       "      <td>196.22</td>\n",
       "    </tr>\n",
       "    <tr>\n",
       "      <th>Current Portion of Long-Term Debt</th>\n",
       "      <td>NaN</td>\n",
       "      <td>NaN</td>\n",
       "      <td>50.00</td>\n",
       "      <td>NaN</td>\n",
       "      <td>NaN</td>\n",
       "      <td>NaN</td>\n",
       "    </tr>\n",
       "    <tr>\n",
       "      <th>Current Portion of Capital Lease Obligations</th>\n",
       "      <td>NaN</td>\n",
       "      <td>17.26</td>\n",
       "      <td>19.27</td>\n",
       "      <td>21.95</td>\n",
       "      <td>25.49</td>\n",
       "      <td>27.02</td>\n",
       "    </tr>\n",
       "    <tr>\n",
       "      <th>Current Income Taxes Payable</th>\n",
       "      <td>24.63</td>\n",
       "      <td>NaN</td>\n",
       "      <td>2.86</td>\n",
       "      <td>0.09</td>\n",
       "      <td>0.43</td>\n",
       "      <td>1.96</td>\n",
       "    </tr>\n",
       "    <tr>\n",
       "      <th>Unearned Revenue Current</th>\n",
       "      <td>192.24</td>\n",
       "      <td>209.26</td>\n",
       "      <td>232.81</td>\n",
       "      <td>300.66</td>\n",
       "      <td>335.40</td>\n",
       "      <td>226.13</td>\n",
       "    </tr>\n",
       "    <tr>\n",
       "      <th>Other Current Liabilities</th>\n",
       "      <td>17.90</td>\n",
       "      <td>NaN</td>\n",
       "      <td>NaN</td>\n",
       "      <td>NaN</td>\n",
       "      <td>NaN</td>\n",
       "      <td>NaN</td>\n",
       "    </tr>\n",
       "    <tr>\n",
       "      <th>Total Current Liabilities</th>\n",
       "      <td>385.14</td>\n",
       "      <td>417.22</td>\n",
       "      <td>506.32</td>\n",
       "      <td>602.14</td>\n",
       "      <td>652.01</td>\n",
       "      <td>571.98</td>\n",
       "    </tr>\n",
       "    <tr>\n",
       "      <th>Long-Term Debt</th>\n",
       "      <td>NaN</td>\n",
       "      <td>NaN</td>\n",
       "      <td>190.00</td>\n",
       "      <td>100.00</td>\n",
       "      <td>50.00</td>\n",
       "      <td>NaN</td>\n",
       "    </tr>\n",
       "    <tr>\n",
       "      <th>Capital Leases</th>\n",
       "      <td>NaN</td>\n",
       "      <td>538.71</td>\n",
       "      <td>572.17</td>\n",
       "      <td>625.59</td>\n",
       "      <td>680.62</td>\n",
       "      <td>712.80</td>\n",
       "    </tr>\n",
       "    <tr>\n",
       "      <th>Unearned Revenue Non Current</th>\n",
       "      <td>1.80</td>\n",
       "      <td>1.90</td>\n",
       "      <td>1.90</td>\n",
       "      <td>NaN</td>\n",
       "      <td>NaN</td>\n",
       "      <td>NaN</td>\n",
       "    </tr>\n",
       "    <tr>\n",
       "      <th>Deferred Tax Liability Non Current</th>\n",
       "      <td>17.27</td>\n",
       "      <td>22.70</td>\n",
       "      <td>2.80</td>\n",
       "      <td>11.73</td>\n",
       "      <td>20.98</td>\n",
       "      <td>22.45</td>\n",
       "    </tr>\n",
       "    <tr>\n",
       "      <th>Other Non Current Liabilities</th>\n",
       "      <td>104.36</td>\n",
       "      <td>71.87</td>\n",
       "      <td>108.92</td>\n",
       "      <td>99.00</td>\n",
       "      <td>94.39</td>\n",
       "      <td>109.50</td>\n",
       "    </tr>\n",
       "    <tr>\n",
       "      <th>Total Liabilities</th>\n",
       "      <td>508.57</td>\n",
       "      <td>1052.40</td>\n",
       "      <td>1382.11</td>\n",
       "      <td>1438.47</td>\n",
       "      <td>1498.00</td>\n",
       "      <td>1416.74</td>\n",
       "    </tr>\n",
       "    <tr>\n",
       "      <th>Common Stock</th>\n",
       "      <td>0.07</td>\n",
       "      <td>0.07</td>\n",
       "      <td>0.07</td>\n",
       "      <td>0.07</td>\n",
       "      <td>0.07</td>\n",
       "      <td>0.07</td>\n",
       "    </tr>\n",
       "    <tr>\n",
       "      <th>Additional Paid In Capital</th>\n",
       "      <td>257.39</td>\n",
       "      <td>140.50</td>\n",
       "      <td>145.63</td>\n",
       "      <td>114.50</td>\n",
       "      <td>13.14</td>\n",
       "      <td>NaN</td>\n",
       "    </tr>\n",
       "    <tr>\n",
       "      <th>Retained Earnings</th>\n",
       "      <td>688.34</td>\n",
       "      <td>775.65</td>\n",
       "      <td>781.92</td>\n",
       "      <td>943.55</td>\n",
       "      <td>999.43</td>\n",
       "      <td>1082.92</td>\n",
       "    </tr>\n",
       "    <tr>\n",
       "      <th>Comprehensive Income and Other</th>\n",
       "      <td>-0.23</td>\n",
       "      <td>-0.23</td>\n",
       "      <td>-0.11</td>\n",
       "      <td>NaN</td>\n",
       "      <td>NaN</td>\n",
       "      <td>NaN</td>\n",
       "    </tr>\n",
       "    <tr>\n",
       "      <th>Total Common Equity</th>\n",
       "      <td>945.57</td>\n",
       "      <td>915.99</td>\n",
       "      <td>927.51</td>\n",
       "      <td>1058.12</td>\n",
       "      <td>1012.64</td>\n",
       "      <td>1082.98</td>\n",
       "    </tr>\n",
       "    <tr>\n",
       "      <th>Minority Interest</th>\n",
       "      <td>15.14</td>\n",
       "      <td>15.18</td>\n",
       "      <td>15.55</td>\n",
       "      <td>15.36</td>\n",
       "      <td>15.02</td>\n",
       "      <td>15.27</td>\n",
       "    </tr>\n",
       "    <tr>\n",
       "      <th>Total Equity</th>\n",
       "      <td>960.71</td>\n",
       "      <td>931.17</td>\n",
       "      <td>943.05</td>\n",
       "      <td>1073.48</td>\n",
       "      <td>1027.66</td>\n",
       "      <td>1098.25</td>\n",
       "    </tr>\n",
       "    <tr>\n",
       "      <th>Total Liabilities And Equity</th>\n",
       "      <td>1469.28</td>\n",
       "      <td>1983.57</td>\n",
       "      <td>2325.16</td>\n",
       "      <td>2511.95</td>\n",
       "      <td>2525.67</td>\n",
       "      <td>2514.99</td>\n",
       "    </tr>\n",
       "    <tr>\n",
       "      <th>Total Shares Out. on Filing Date</th>\n",
       "      <td>71.69</td>\n",
       "      <td>69.41</td>\n",
       "      <td>69.62</td>\n",
       "      <td>69.12</td>\n",
       "      <td>67.02</td>\n",
       "      <td>66.75</td>\n",
       "    </tr>\n",
       "    <tr>\n",
       "      <th>Book Value / Share</th>\n",
       "      <td>13.20</td>\n",
       "      <td>13.20</td>\n",
       "      <td>13.33</td>\n",
       "      <td>15.25</td>\n",
       "      <td>15.12</td>\n",
       "      <td>16.20</td>\n",
       "    </tr>\n",
       "    <tr>\n",
       "      <th>Tangible Book Value</th>\n",
       "      <td>820.39</td>\n",
       "      <td>790.01</td>\n",
       "      <td>798.23</td>\n",
       "      <td>929.60</td>\n",
       "      <td>858.30</td>\n",
       "      <td>908.31</td>\n",
       "    </tr>\n",
       "    <tr>\n",
       "      <th>Tangible Book Value / Share</th>\n",
       "      <td>11.46</td>\n",
       "      <td>11.38</td>\n",
       "      <td>11.48</td>\n",
       "      <td>13.40</td>\n",
       "      <td>12.82</td>\n",
       "      <td>13.59</td>\n",
       "    </tr>\n",
       "    <tr>\n",
       "      <th>Total Debt</th>\n",
       "      <td>NaN</td>\n",
       "      <td>555.97</td>\n",
       "      <td>831.44</td>\n",
       "      <td>747.54</td>\n",
       "      <td>756.11</td>\n",
       "      <td>739.82</td>\n",
       "    </tr>\n",
       "    <tr>\n",
       "      <th>Net Debt</th>\n",
       "      <td>-210.13</td>\n",
       "      <td>448.09</td>\n",
       "      <td>468.29</td>\n",
       "      <td>411.90</td>\n",
       "      <td>582.25</td>\n",
       "      <td>632.49</td>\n",
       "    </tr>\n",
       "  </tbody>\n",
       "</table>\n",
       "</div>"
      ],
      "text/plain": [
       "                                              2018-12  2019-12  2020-12  \\\n",
       "Balance Sheet | TIKR.com                                                  \n",
       "Cash And Equivalents                           210.13   107.88   363.16   \n",
       "Total Cash And Short Term Investments          210.13   107.88   363.16   \n",
       "Accounts Receivable                             92.11    99.31    98.42   \n",
       "Total Receivables                               92.11    99.31    98.42   \n",
       "Inventory                                       18.83    20.27    22.36   \n",
       "Prepaid Expenses                                16.38    18.43    20.57   \n",
       "Other Current Assets                             7.57     2.02     6.15   \n",
       "Total Current Assets                           345.02   247.90   510.65   \n",
       "Gross Property Plant And Equipment            1559.13  2235.35  2384.65   \n",
       "Accumulated Depreciation                      -602.45  -678.99  -763.70   \n",
       "Net Property Plant And Equipment               956.68  1556.36  1620.95   \n",
       "Goodwill                                       123.22   124.75   127.00   \n",
       "Other Intangibles                                1.96     1.23     2.27   \n",
       "Other Long-Term Assets                          42.40    53.32    64.29   \n",
       "Total Assets                                  1469.28  1983.57  2325.16   \n",
       "Accounts Payable                                62.06    61.65    66.98   \n",
       "Accrued Expenses                                88.31   129.05   134.40   \n",
       "Current Portion of Long-Term Debt                 NaN      NaN    50.00   \n",
       "Current Portion of Capital Lease Obligations      NaN    17.26    19.27   \n",
       "Current Income Taxes Payable                    24.63      NaN     2.86   \n",
       "Unearned Revenue Current                       192.24   209.26   232.81   \n",
       "Other Current Liabilities                       17.90      NaN      NaN   \n",
       "Total Current Liabilities                      385.14   417.22   506.32   \n",
       "Long-Term Debt                                    NaN      NaN   190.00   \n",
       "Capital Leases                                    NaN   538.71   572.17   \n",
       "Unearned Revenue Non Current                     1.80     1.90     1.90   \n",
       "Deferred Tax Liability Non Current              17.27    22.70     2.80   \n",
       "Other Non Current Liabilities                  104.36    71.87   108.92   \n",
       "Total Liabilities                              508.57  1052.40  1382.11   \n",
       "Common Stock                                     0.07     0.07     0.07   \n",
       "Additional Paid In Capital                     257.39   140.50   145.63   \n",
       "Retained Earnings                              688.34   775.65   781.92   \n",
       "Comprehensive Income and Other                  -0.23    -0.23    -0.11   \n",
       "Total Common Equity                            945.57   915.99   927.51   \n",
       "Minority Interest                               15.14    15.18    15.55   \n",
       "Total Equity                                   960.71   931.17   943.05   \n",
       "Total Liabilities And Equity                  1469.28  1983.57  2325.16   \n",
       "Total Shares Out. on Filing Date                71.69    69.41    69.62   \n",
       "Book Value / Share                              13.20    13.20    13.33   \n",
       "Tangible Book Value                            820.39   790.01   798.23   \n",
       "Tangible Book Value / Share                     11.46    11.38    11.48   \n",
       "Total Debt                                        NaN   555.97   831.44   \n",
       "Net Debt                                      -210.13   448.09   468.29   \n",
       "\n",
       "                                              2021-12  2022-12      LTM  \n",
       "Balance Sheet | TIKR.com                                                 \n",
       "Cash And Equivalents                           335.65   173.86   107.32  \n",
       "Total Cash And Short Term Investments          335.65   173.86   107.32  \n",
       "Accounts Receivable                            161.36   150.26    60.54  \n",
       "Total Receivables                              161.36   150.26    60.54  \n",
       "Inventory                                       31.60    38.02    38.12  \n",
       "Prepaid Expenses                                23.05    29.60    25.90  \n",
       "Other Current Assets                            11.88     5.10     1.40  \n",
       "Total Current Assets                           563.53   396.84   233.29  \n",
       "Gross Property Plant And Equipment            2612.43  2870.74  3042.50  \n",
       "Accumulated Depreciation                      -869.38  -968.04 -1019.64  \n",
       "Net Property Plant And Equipment              1743.05  1902.71  2022.86  \n",
       "Goodwill                                       127.00   148.73   169.68  \n",
       "Other Intangibles                                1.52     5.61     4.99  \n",
       "Other Long-Term Assets                          76.85    71.78    84.17  \n",
       "Total Assets                                  2511.95  2525.67  2514.99  \n",
       "Accounts Payable                                95.23   105.56   120.65  \n",
       "Accrued Expenses                               184.22   185.12   196.22  \n",
       "Current Portion of Long-Term Debt                 NaN      NaN      NaN  \n",
       "Current Portion of Capital Lease Obligations    21.95    25.49    27.02  \n",
       "Current Income Taxes Payable                     0.09     0.43     1.96  \n",
       "Unearned Revenue Current                       300.66   335.40   226.13  \n",
       "Other Current Liabilities                         NaN      NaN      NaN  \n",
       "Total Current Liabilities                      602.14   652.01   571.98  \n",
       "Long-Term Debt                                 100.00    50.00      NaN  \n",
       "Capital Leases                                 625.59   680.62   712.80  \n",
       "Unearned Revenue Non Current                      NaN      NaN      NaN  \n",
       "Deferred Tax Liability Non Current              11.73    20.98    22.45  \n",
       "Other Non Current Liabilities                   99.00    94.39   109.50  \n",
       "Total Liabilities                             1438.47  1498.00  1416.74  \n",
       "Common Stock                                     0.07     0.07     0.07  \n",
       "Additional Paid In Capital                     114.50    13.14      NaN  \n",
       "Retained Earnings                              943.55   999.43  1082.92  \n",
       "Comprehensive Income and Other                    NaN      NaN      NaN  \n",
       "Total Common Equity                           1058.12  1012.64  1082.98  \n",
       "Minority Interest                               15.36    15.02    15.27  \n",
       "Total Equity                                  1073.48  1027.66  1098.25  \n",
       "Total Liabilities And Equity                  2511.95  2525.67  2514.99  \n",
       "Total Shares Out. on Filing Date                69.12    67.02    66.75  \n",
       "Book Value / Share                              15.25    15.12    16.20  \n",
       "Tangible Book Value                            929.60   858.30   908.31  \n",
       "Tangible Book Value / Share                     13.40    12.82    13.59  \n",
       "Total Debt                                     747.54   756.11   739.82  \n",
       "Net Debt                                       411.90   582.25   632.49  "
      ]
     },
     "execution_count": 35,
     "metadata": {},
     "output_type": "execute_result"
    }
   ],
   "source": [
    "balance"
   ]
  },
  {
   "cell_type": "code",
   "execution_count": 36,
   "metadata": {},
   "outputs": [
    {
     "data": {
      "text/plain": [
       "{'series': [210.13, 107.88, 363.16, 335.65, 173.86, 107.32],\n",
       " 'yy_growth': [-0.12574420301347944,\n",
       "  -0.0013002720912621557,\n",
       "  -0.333918222971616,\n",
       "  -0.43454635721736323,\n",
       "  -0.38272173012768906],\n",
       " 'yy_growth_5': -0.12574420301347944,\n",
       " 'yy_growth_3': -0.333918222971616,\n",
       " 'yy_growth_1': -0.38272173012768906,\n",
       " 'growth_tot': -0.4892685480416885,\n",
       " 'ltm': 107.32,\n",
       " 'mean': 216.33333333333334,\n",
       " 'std': 110.70956122515646,\n",
       " 'mean_z2': 216.33333333333334,\n",
       " 'std_z2': 110.70956122515646}"
      ]
     },
     "execution_count": 36,
     "metadata": {},
     "output_type": "execute_result"
    }
   ],
   "source": [
    "get_series_stats(balance.loc[\"Cash And Equivalents\"])"
   ]
  },
  {
   "cell_type": "code",
   "execution_count": 37,
   "metadata": {},
   "outputs": [
    {
     "data": {
      "text/plain": [
       "{'series': [0.007662414291236851,\n",
       "  0.007354435156159294,\n",
       "  0.009323970443514086,\n",
       "  0.009122533523867262,\n",
       "  0.009469678100684447,\n",
       "  0.008766462989750229],\n",
       " 'yy_growth': [0.02728691129931482,\n",
       "  0.044885662780022706,\n",
       "  -0.020341964289542047,\n",
       "  -0.019710236048342877,\n",
       "  -0.07425966368206238],\n",
       " 'yy_growth_5': 0.02728691129931482,\n",
       " 'yy_growth_3': -0.020341964289542047,\n",
       " 'yy_growth_1': -0.07425966368206238,\n",
       " 'growth_tot': 0.1440862705343442,\n",
       " 'ltm': 0.008766462989750229,\n",
       " 'mean': 0.008616582417535362,\n",
       " 'std': 0.000895552711399472,\n",
       " 'mean_z2': 0.008616582417535362,\n",
       " 'std_z2': 0.000895552711399472}"
      ]
     },
     "execution_count": 37,
     "metadata": {},
     "output_type": "execute_result"
    }
   ],
   "source": [
    "get_series_stats(balance.loc[\"Inventory\"] / income.loc[\"Revenues\"])\n"
   ]
  },
  {
   "cell_type": "code",
   "execution_count": 38,
   "metadata": {},
   "outputs": [
    {
     "data": {
      "text/plain": [
       "{'series': [0.03748194266414373,\n",
       "  0.03603201555787763,\n",
       "  0.041040481710673364,\n",
       "  0.04658265852567157,\n",
       "  0.037425403245892816,\n",
       "  0.013922394265463768],\n",
       " 'yy_growth': [-0.17968931736628468,\n",
       "  -0.21158234112785146,\n",
       "  -0.30257021160041364,\n",
       "  -0.45330534372659137,\n",
       "  -0.6279961454525769],\n",
       " 'yy_growth_5': -0.17968931736628468,\n",
       " 'yy_growth_3': -0.30257021160041364,\n",
       " 'yy_growth_1': -0.6279961454525769,\n",
       " 'growth_tot': -0.6285572925017486,\n",
       " 'ltm': 0.013922394265463768,\n",
       " 'mean': 0.035414149328287146,\n",
       " 'std': 0.011198119661158367,\n",
       " 'mean_z2': 0.03971250034085182,\n",
       " 'std_z2': 0.004263647995309732}"
      ]
     },
     "execution_count": 38,
     "metadata": {},
     "output_type": "execute_result"
    }
   ],
   "source": [
    "get_series_stats(balance.loc[\"Accounts Receivable\"] / income.loc[\"Revenues\"]) # TIKR provides NET Accounts Receivables under this name"
   ]
  },
  {
   "cell_type": "code",
   "execution_count": 39,
   "metadata": {},
   "outputs": [
    {
     "data": {
      "text/plain": [
       "{'series': [0.8958300877602949,\n",
       "  0.5941709409903647,\n",
       "  1.0085519039342707,\n",
       "  0.9358786993058092,\n",
       "  0.6086409717642367,\n",
       "  0.4078639113255708],\n",
       " 'yy_growth': [-0.14560651713735828,\n",
       "  -0.08977037153332723,\n",
       "  -0.26049858606335974,\n",
       "  -0.3398420488136371,\n",
       "  -0.3298776614671267],\n",
       " 'yy_growth_5': -0.14560651713735828,\n",
       " 'yy_growth_3': -0.26049858606335974,\n",
       " 'yy_growth_1': -0.3298776614671267,\n",
       " 'growth_tot': -0.5447084029681457,\n",
       " 'ltm': 0.4078639113255708,\n",
       " 'mean': 0.7418227525134244,\n",
       " 'std': 0.2381543036731083,\n",
       " 'mean_z2': 0.7418227525134244,\n",
       " 'std_z2': 0.2381543036731083}"
      ]
     },
     "execution_count": 39,
     "metadata": {},
     "output_type": "execute_result"
    }
   ],
   "source": [
    "get_series_stats(balance.loc[\"Total Current Assets\"] / balance.loc[\"Total Current Liabilities\"])"
   ]
  },
  {
   "cell_type": "code",
   "execution_count": 40,
   "metadata": {},
   "outputs": [
    {
     "data": {
      "text/plain": [
       "{'series': [123.22, 124.75, 127.0, 127.0, 148.73, 169.68],\n",
       " 'yy_growth': [0.06608023144802999,\n",
       "  0.07993477296146323,\n",
       "  0.10139299888471043,\n",
       "  0.15588191097792703,\n",
       "  0.1408592751966653],\n",
       " 'yy_growth_5': 0.06608023144802999,\n",
       " 'yy_growth_3': 0.10139299888471043,\n",
       " 'yy_growth_1': 0.1408592751966653,\n",
       " 'growth_tot': 0.3770491803278688,\n",
       " 'ltm': 169.68,\n",
       " 'mean': 136.73000000000002,\n",
       " 'std': 18.682017021724395,\n",
       " 'mean_z2': 136.73000000000002,\n",
       " 'std_z2': 18.682017021724395}"
      ]
     },
     "execution_count": 40,
     "metadata": {},
     "output_type": "execute_result"
    }
   ],
   "source": [
    "get_series_stats(balance.loc[\"Goodwill\"])"
   ]
  },
  {
   "cell_type": "code",
   "execution_count": 41,
   "metadata": {},
   "outputs": [
    {
     "data": {
      "text/plain": [
       "{'series': [1469.28, 1983.57, 2325.16, 2511.95, 2525.67, 2514.99],\n",
       " 'yy_growth': [0.11349004623218462,\n",
       "  0.06113877126221001,\n",
       "  0.026505167104096783,\n",
       "  0.0006049246188428725,\n",
       "  -0.004228580931000647],\n",
       " 'yy_growth_5': 0.11349004623218462,\n",
       " 'yy_growth_3': 0.026505167104096783,\n",
       " 'yy_growth_1': -0.004228580931000647,\n",
       " 'growth_tot': 0.71171594250245,\n",
       " 'ltm': 2514.99,\n",
       " 'mean': 2221.77,\n",
       " 'std': 423.3692343569617,\n",
       " 'mean_z2': 2221.77,\n",
       " 'std_z2': 423.3692343569617}"
      ]
     },
     "execution_count": 41,
     "metadata": {},
     "output_type": "execute_result"
    }
   ],
   "source": [
    "get_series_stats(balance.loc[\"Total Assets\"])"
   ]
  },
  {
   "cell_type": "code",
   "execution_count": 42,
   "metadata": {},
   "outputs": [
    {
     "data": {
      "text/plain": [
       "{'series': [0.10769220298377435,\n",
       "  0.08794748861900513,\n",
       "  0.013444236095580521,\n",
       "  0.09764923664881865,\n",
       "  0.10683105868937746,\n",
       "  0.11565055924675646],\n",
       " 'yy_growth': [0.01436135513871628,\n",
       "  0.07085599829737688,\n",
       "  1.0489775604728147,\n",
       "  0.08827697879879426,\n",
       "  0.08255558510397831],\n",
       " 'yy_growth_5': 0.01436135513871628,\n",
       " 'yy_growth_3': 1.0489775604728147,\n",
       " 'yy_growth_1': 0.08255558510397831,\n",
       " 'growth_tot': 0.07389909429358754,\n",
       " 'ltm': 0.11565055924675646,\n",
       " 'mean': 0.08820246371388545,\n",
       " 'std': 0.037837472335673465,\n",
       " 'mean_z2': 0.10315410923754642,\n",
       " 'std_z2': 0.010628034246839004}"
      ]
     },
     "execution_count": 42,
     "metadata": {},
     "output_type": "execute_result"
    }
   ],
   "source": [
    "get_series_stats(income.loc[\"Net Income\"] / balance.loc[\"Total Assets\"])"
   ]
  },
  {
   "cell_type": "code",
   "execution_count": 43,
   "metadata": {},
   "outputs": [
    {
     "data": {
      "text/plain": [
       "{'series': [-1.3280035391518676,\n",
       "  2.568586987675552,\n",
       "  14.980486244401792,\n",
       "  1.679236821721228,\n",
       "  2.157920094878067,\n",
       "  2.174551330537028],\n",
       " 'yy_growth': [nan,\n",
       "  -0.04077862829127887,\n",
       "  -0.4744493415811556,\n",
       "  0.1379648759587544,\n",
       "  0.007707067420353653],\n",
       " 'yy_growth_5': nan,\n",
       " 'yy_growth_3': -0.4744493415811556,\n",
       " 'yy_growth_1': 0.007707067420353653,\n",
       " 'growth_tot': -2.6374589874405077,\n",
       " 'ltm': 2.174551330537028,\n",
       " 'mean': 3.7054629900103,\n",
       " 'std': 5.702606311826098,\n",
       " 'mean_z2': 1.4504583391320014,\n",
       " 'std_z2': 1.5848670665004974}"
      ]
     },
     "execution_count": 43,
     "metadata": {},
     "output_type": "execute_result"
    }
   ],
   "source": [
    "get_series_stats(balance.loc[\"Net Debt\"] / income.loc[\"Net Income\"])"
   ]
  },
  {
   "cell_type": "code",
   "execution_count": 44,
   "metadata": {},
   "outputs": [
    {
     "data": {
      "text/plain": [
       "{'series': [-0.21872365229882065,\n",
       "  0.4812118087996821,\n",
       "  0.49656964105826845,\n",
       "  0.3837053321906323,\n",
       "  0.5665784403401903,\n",
       "  0.5759071249715456],\n",
       " 'yy_growth': [nan,\n",
       "  0.04593342935451372,\n",
       "  0.05064846182857852,\n",
       "  0.2251162729668017,\n",
       "  0.016464948129254697],\n",
       " 'yy_growth_5': nan,\n",
       " 'yy_growth_3': 0.05064846182857852,\n",
       " 'yy_growth_1': 0.016464948129254697,\n",
       " 'growth_tot': -3.6330354258383553,\n",
       " 'ltm': 0.5759071249715456,\n",
       " 'mean': 0.3808747825102497,\n",
       " 'std': 0.3018286193565456,\n",
       " 'mean_z2': 0.5007944694720637,\n",
       " 'std_z2': 0.07758968630367043}"
      ]
     },
     "execution_count": 44,
     "metadata": {},
     "output_type": "execute_result"
    }
   ],
   "source": [
    "get_series_stats(balance.loc[\"Net Debt\"] / balance.loc[\"Total Equity\"])"
   ]
  },
  {
   "cell_type": "code",
   "execution_count": 45,
   "metadata": {},
   "outputs": [
    {
     "data": {
      "text/plain": [
       "{'series': [nan, nan, nan, nan, nan, nan],\n",
       " 'yy_growth': [nan, nan, nan, nan, nan],\n",
       " 'yy_growth_5': nan,\n",
       " 'yy_growth_3': nan,\n",
       " 'yy_growth_1': nan,\n",
       " 'growth_tot': nan,\n",
       " 'ltm': nan,\n",
       " 'mean': nan,\n",
       " 'std': nan,\n",
       " 'mean_z2': nan,\n",
       " 'std_z2': nan}"
      ]
     },
     "execution_count": 45,
     "metadata": {},
     "output_type": "execute_result"
    }
   ],
   "source": [
    "get_series_stats(balance.loc[\"Total Preferred Equity\"] if \"Total Preferred Equity\" in balance.index else pd.Series(index=balance.columns, dtype=int))"
   ]
  },
  {
   "cell_type": "code",
   "execution_count": 46,
   "metadata": {},
   "outputs": [
    {
     "data": {
      "text/plain": [
       "{'series': [688.34, 775.65, 781.92, 943.55, 999.43, 1082.92],\n",
       " 'yy_growth': [0.09486021183654736,\n",
       "  0.08700775993677468,\n",
       "  0.11466582033957762,\n",
       "  0.07131140364315036,\n",
       "  0.0835376164413717],\n",
       " 'yy_growth_5': 0.09486021183654736,\n",
       " 'yy_growth_3': 0.11466582033957762,\n",
       " 'yy_growth_1': 0.0835376164413717,\n",
       " 'growth_tot': 0.5732341575384259,\n",
       " 'ltm': 1082.92,\n",
       " 'mean': 878.6350000000001,\n",
       " 'std': 152.7806525382059,\n",
       " 'mean_z2': 878.6350000000001,\n",
       " 'std_z2': 152.7806525382059}"
      ]
     },
     "execution_count": 46,
     "metadata": {},
     "output_type": "execute_result"
    }
   ],
   "source": [
    "get_series_stats(balance.loc[\"Retained Earnings\"])"
   ]
  },
  {
   "cell_type": "code",
   "execution_count": 47,
   "metadata": {},
   "outputs": [
    {
     "data": {
      "text/plain": [
       "{'series': [nan, nan, nan, nan, nan, nan],\n",
       " 'yy_growth': [nan, nan, nan, nan, nan],\n",
       " 'yy_growth_5': nan,\n",
       " 'yy_growth_3': nan,\n",
       " 'yy_growth_1': nan,\n",
       " 'growth_tot': nan,\n",
       " 'ltm': nan,\n",
       " 'mean': nan,\n",
       " 'std': nan,\n",
       " 'mean_z2': nan,\n",
       " 'std_z2': nan}"
      ]
     },
     "execution_count": 47,
     "metadata": {},
     "output_type": "execute_result"
    }
   ],
   "source": [
    "get_series_stats(balance.loc[\"Treasury Stock\"] if \"Treasury Stock\" in balance.index else pd.Series(index=balance.columns, dtype=int))\n"
   ]
  },
  {
   "cell_type": "code",
   "execution_count": 48,
   "metadata": {},
   "outputs": [
    {
     "data": {
      "text/plain": [
       "{'series': [0.1647011064733374,\n",
       "  0.1873449531234898,\n",
       "  0.03314776522983935,\n",
       "  0.22849983232104928,\n",
       "  0.26255765525562924,\n",
       "  0.26483951741406786],\n",
       " 'yy_growth': [0.09965702806664978,\n",
       "  0.09039837956417407,\n",
       "  0.9991383228203488,\n",
       "  0.07658531370278099,\n",
       "  0.008690899361578186],\n",
       " 'yy_growth_5': 0.09965702806664978,\n",
       " 'yy_growth_3': 0.9991383228203488,\n",
       " 'yy_growth_1': 0.008690899361578186,\n",
       " 'growth_tot': 0.608000839125761,\n",
       " 'ltm': 0.26483951741406786,\n",
       " 'mean': 0.19018180496956882,\n",
       " 'std': 0.08671483415588814,\n",
       " 'mean_z2': 0.19018180496956882,\n",
       " 'std_z2': 0.08671483415588814}"
      ]
     },
     "execution_count": 48,
     "metadata": {},
     "output_type": "execute_result"
    }
   ],
   "source": [
    "get_series_stats(income.loc[\"Net Income\"] / balance.loc[\"Total Equity\"])"
   ]
  },
  {
   "cell_type": "code",
   "execution_count": 49,
   "metadata": {},
   "outputs": [
    {
     "data": {
      "text/html": [
       "<div>\n",
       "<style scoped>\n",
       "    .dataframe tbody tr th:only-of-type {\n",
       "        vertical-align: middle;\n",
       "    }\n",
       "\n",
       "    .dataframe tbody tr th {\n",
       "        vertical-align: top;\n",
       "    }\n",
       "\n",
       "    .dataframe thead th {\n",
       "        text-align: right;\n",
       "    }\n",
       "</style>\n",
       "<table border=\"1\" class=\"dataframe\">\n",
       "  <thead>\n",
       "    <tr style=\"text-align: right;\">\n",
       "      <th></th>\n",
       "      <th>2018-12</th>\n",
       "      <th>2019-12</th>\n",
       "      <th>2020-12</th>\n",
       "      <th>2021-12</th>\n",
       "      <th>2022-12</th>\n",
       "      <th>LTM</th>\n",
       "    </tr>\n",
       "    <tr>\n",
       "      <th>Cash Flow Statement | TIKR.com</th>\n",
       "      <th></th>\n",
       "      <th></th>\n",
       "      <th></th>\n",
       "      <th></th>\n",
       "      <th></th>\n",
       "      <th></th>\n",
       "    </tr>\n",
       "  </thead>\n",
       "  <tbody>\n",
       "    <tr>\n",
       "      <th>Net Income</th>\n",
       "      <td>158.23</td>\n",
       "      <td>174.450</td>\n",
       "      <td>31.260</td>\n",
       "      <td>245.290</td>\n",
       "      <td>269.820</td>\n",
       "      <td>290.860</td>\n",
       "    </tr>\n",
       "    <tr>\n",
       "      <th>Depreciation &amp; Amortization</th>\n",
       "      <td>101.22</td>\n",
       "      <td>115.540</td>\n",
       "      <td>117.880</td>\n",
       "      <td>126.010</td>\n",
       "      <td>134.420</td>\n",
       "      <td>140.020</td>\n",
       "    </tr>\n",
       "    <tr>\n",
       "      <th>Amortization of Goodwill and Intangible Assets</th>\n",
       "      <td>NaN</td>\n",
       "      <td>NaN</td>\n",
       "      <td>NaN</td>\n",
       "      <td>0.750</td>\n",
       "      <td>2.810</td>\n",
       "      <td>2.810</td>\n",
       "    </tr>\n",
       "    <tr>\n",
       "      <th>Total Depreciation &amp; Amortization</th>\n",
       "      <td>101.22</td>\n",
       "      <td>115.540</td>\n",
       "      <td>117.880</td>\n",
       "      <td>126.760</td>\n",
       "      <td>137.240</td>\n",
       "      <td>142.840</td>\n",
       "    </tr>\n",
       "    <tr>\n",
       "      <th>(Gain) Loss From Sale Of Asset</th>\n",
       "      <td>6.01</td>\n",
       "      <td>5.890</td>\n",
       "      <td>3.140</td>\n",
       "      <td>3.170</td>\n",
       "      <td>4.510</td>\n",
       "      <td>5.990</td>\n",
       "    </tr>\n",
       "    <tr>\n",
       "      <th>Asset Writedown &amp; Restructuring Costs</th>\n",
       "      <td>0.11</td>\n",
       "      <td>-1.280</td>\n",
       "      <td>2.290</td>\n",
       "      <td>0.670</td>\n",
       "      <td>2.470</td>\n",
       "      <td>2.120</td>\n",
       "    </tr>\n",
       "    <tr>\n",
       "      <th>(Income) Loss On Equity Investments</th>\n",
       "      <td>-0.70</td>\n",
       "      <td>1.460</td>\n",
       "      <td>0.830</td>\n",
       "      <td>1.710</td>\n",
       "      <td>-0.220</td>\n",
       "      <td>-0.640</td>\n",
       "    </tr>\n",
       "    <tr>\n",
       "      <th>Stock-Based Compensation</th>\n",
       "      <td>34.98</td>\n",
       "      <td>35.500</td>\n",
       "      <td>29.430</td>\n",
       "      <td>38.140</td>\n",
       "      <td>36.660</td>\n",
       "      <td>34.800</td>\n",
       "    </tr>\n",
       "    <tr>\n",
       "      <th>Provision and Write-off of Bad Debts</th>\n",
       "      <td>-0.01</td>\n",
       "      <td>-0.020</td>\n",
       "      <td>-0.000</td>\n",
       "      <td>0.010</td>\n",
       "      <td>0.030</td>\n",
       "      <td>0.010</td>\n",
       "    </tr>\n",
       "    <tr>\n",
       "      <th>Other Operating Activities</th>\n",
       "      <td>18.39</td>\n",
       "      <td>13.400</td>\n",
       "      <td>-16.260</td>\n",
       "      <td>16.920</td>\n",
       "      <td>17.240</td>\n",
       "      <td>15.220</td>\n",
       "    </tr>\n",
       "    <tr>\n",
       "      <th>Change In Accounts Receivable</th>\n",
       "      <td>-15.60</td>\n",
       "      <td>-5.770</td>\n",
       "      <td>1.060</td>\n",
       "      <td>-62.400</td>\n",
       "      <td>11.060</td>\n",
       "      <td>-14.440</td>\n",
       "    </tr>\n",
       "    <tr>\n",
       "      <th>Change In Inventories</th>\n",
       "      <td>-2.50</td>\n",
       "      <td>-1.410</td>\n",
       "      <td>-2.020</td>\n",
       "      <td>-9.230</td>\n",
       "      <td>-6.100</td>\n",
       "      <td>-5.880</td>\n",
       "    </tr>\n",
       "    <tr>\n",
       "      <th>Change In Accounts Payable</th>\n",
       "      <td>8.88</td>\n",
       "      <td>0.410</td>\n",
       "      <td>0.490</td>\n",
       "      <td>27.730</td>\n",
       "      <td>5.410</td>\n",
       "      <td>15.470</td>\n",
       "    </tr>\n",
       "    <tr>\n",
       "      <th>Change in Unearned Revenues</th>\n",
       "      <td>35.52</td>\n",
       "      <td>16.990</td>\n",
       "      <td>23.460</td>\n",
       "      <td>67.850</td>\n",
       "      <td>33.800</td>\n",
       "      <td>16.540</td>\n",
       "    </tr>\n",
       "    <tr>\n",
       "      <th>Change In Income Taxes</th>\n",
       "      <td>-5.95</td>\n",
       "      <td>11.360</td>\n",
       "      <td>-5.330</td>\n",
       "      <td>-0.350</td>\n",
       "      <td>7.840</td>\n",
       "      <td>10.520</td>\n",
       "    </tr>\n",
       "    <tr>\n",
       "      <th>Change in Other Net Operating Assets</th>\n",
       "      <td>14.29</td>\n",
       "      <td>7.800</td>\n",
       "      <td>44.210</td>\n",
       "      <td>12.570</td>\n",
       "      <td>-8.030</td>\n",
       "      <td>-12.150</td>\n",
       "    </tr>\n",
       "    <tr>\n",
       "      <th>Cash from Operations</th>\n",
       "      <td>352.87</td>\n",
       "      <td>374.300</td>\n",
       "      <td>230.440</td>\n",
       "      <td>468.830</td>\n",
       "      <td>511.730</td>\n",
       "      <td>501.260</td>\n",
       "    </tr>\n",
       "    <tr>\n",
       "      <th>Memo: Change in Net Working Capital</th>\n",
       "      <td>34.65</td>\n",
       "      <td>29.360</td>\n",
       "      <td>61.880</td>\n",
       "      <td>36.160</td>\n",
       "      <td>43.980</td>\n",
       "      <td>10.070</td>\n",
       "    </tr>\n",
       "    <tr>\n",
       "      <th>Capital Expenditure</th>\n",
       "      <td>-155.98</td>\n",
       "      <td>-214.340</td>\n",
       "      <td>-154.400</td>\n",
       "      <td>-200.690</td>\n",
       "      <td>-246.120</td>\n",
       "      <td>-292.130</td>\n",
       "    </tr>\n",
       "    <tr>\n",
       "      <th>Sale of Property, Plant, and Equipment</th>\n",
       "      <td>NaN</td>\n",
       "      <td>1.060</td>\n",
       "      <td>1.710</td>\n",
       "      <td>NaN</td>\n",
       "      <td>2.270</td>\n",
       "      <td>0.080</td>\n",
       "    </tr>\n",
       "    <tr>\n",
       "      <th>Cash Acquisitions</th>\n",
       "      <td>-2.17</td>\n",
       "      <td>-1.540</td>\n",
       "      <td>-10.580</td>\n",
       "      <td>NaN</td>\n",
       "      <td>-33.070</td>\n",
       "      <td>-39.150</td>\n",
       "    </tr>\n",
       "    <tr>\n",
       "      <th>Investment in Marketable and Equity Securities</th>\n",
       "      <td>NaN</td>\n",
       "      <td>NaN</td>\n",
       "      <td>NaN</td>\n",
       "      <td>NaN</td>\n",
       "      <td>0.320</td>\n",
       "      <td>0.630</td>\n",
       "    </tr>\n",
       "    <tr>\n",
       "      <th>Other Investing Activities</th>\n",
       "      <td>NaN</td>\n",
       "      <td>NaN</td>\n",
       "      <td>2.170</td>\n",
       "      <td>5.590</td>\n",
       "      <td>12.870</td>\n",
       "      <td>19.970</td>\n",
       "    </tr>\n",
       "    <tr>\n",
       "      <th>Cash from Investing</th>\n",
       "      <td>-158.15</td>\n",
       "      <td>-214.820</td>\n",
       "      <td>-161.110</td>\n",
       "      <td>-195.100</td>\n",
       "      <td>-263.730</td>\n",
       "      <td>-310.610</td>\n",
       "    </tr>\n",
       "    <tr>\n",
       "      <th>Total Debt Issued</th>\n",
       "      <td>NaN</td>\n",
       "      <td>NaN</td>\n",
       "      <td>240.000</td>\n",
       "      <td>NaN</td>\n",
       "      <td>NaN</td>\n",
       "      <td>NaN</td>\n",
       "    </tr>\n",
       "    <tr>\n",
       "      <th>Total Debt Repaid</th>\n",
       "      <td>-50.00</td>\n",
       "      <td>NaN</td>\n",
       "      <td>NaN</td>\n",
       "      <td>-140.000</td>\n",
       "      <td>-50.000</td>\n",
       "      <td>-75.000</td>\n",
       "    </tr>\n",
       "    <tr>\n",
       "      <th>Issuance of Common Stock</th>\n",
       "      <td>0.42</td>\n",
       "      <td>0.060</td>\n",
       "      <td>NaN</td>\n",
       "      <td>0.600</td>\n",
       "      <td>0.310</td>\n",
       "      <td>0.530</td>\n",
       "    </tr>\n",
       "    <tr>\n",
       "      <th>Repurchase of Common Stock</th>\n",
       "      <td>-14.07</td>\n",
       "      <td>-152.320</td>\n",
       "      <td>-25.130</td>\n",
       "      <td>-69.260</td>\n",
       "      <td>-226.440</td>\n",
       "      <td>-46.210</td>\n",
       "    </tr>\n",
       "    <tr>\n",
       "      <th>Common Dividends Paid</th>\n",
       "      <td>-68.55</td>\n",
       "      <td>-102.370</td>\n",
       "      <td>-24.990</td>\n",
       "      <td>-83.660</td>\n",
       "      <td>-124.140</td>\n",
       "      <td>-135.290</td>\n",
       "    </tr>\n",
       "    <tr>\n",
       "      <th>Common &amp; Preferred Stock Dividends Paid</th>\n",
       "      <td>-68.55</td>\n",
       "      <td>-102.370</td>\n",
       "      <td>-24.990</td>\n",
       "      <td>-83.660</td>\n",
       "      <td>-124.140</td>\n",
       "      <td>-135.290</td>\n",
       "    </tr>\n",
       "    <tr>\n",
       "      <th>Other Financing Activities</th>\n",
       "      <td>-3.32</td>\n",
       "      <td>-7.100</td>\n",
       "      <td>-3.940</td>\n",
       "      <td>-8.910</td>\n",
       "      <td>-9.510</td>\n",
       "      <td>-7.770</td>\n",
       "    </tr>\n",
       "    <tr>\n",
       "      <th>Cash from Financing</th>\n",
       "      <td>-135.52</td>\n",
       "      <td>-261.720</td>\n",
       "      <td>185.940</td>\n",
       "      <td>-301.230</td>\n",
       "      <td>-409.780</td>\n",
       "      <td>-263.740</td>\n",
       "    </tr>\n",
       "    <tr>\n",
       "      <th>Net Change in Cash</th>\n",
       "      <td>59.21</td>\n",
       "      <td>-102.250</td>\n",
       "      <td>255.280</td>\n",
       "      <td>-27.510</td>\n",
       "      <td>-161.780</td>\n",
       "      <td>-73.090</td>\n",
       "    </tr>\n",
       "    <tr>\n",
       "      <th>Free Cash Flow</th>\n",
       "      <td>196.89</td>\n",
       "      <td>159.960</td>\n",
       "      <td>76.040</td>\n",
       "      <td>268.130</td>\n",
       "      <td>265.600</td>\n",
       "      <td>209.120</td>\n",
       "    </tr>\n",
       "    <tr>\n",
       "      <th>% Free Cash Flow Margins</th>\n",
       "      <td>0.08</td>\n",
       "      <td>0.058</td>\n",
       "      <td>0.032</td>\n",
       "      <td>0.077</td>\n",
       "      <td>0.066</td>\n",
       "      <td>0.048</td>\n",
       "    </tr>\n",
       "    <tr>\n",
       "      <th>Cash and Cash Equivalents, Beginning of Period</th>\n",
       "      <td>150.92</td>\n",
       "      <td>210.130</td>\n",
       "      <td>107.880</td>\n",
       "      <td>363.160</td>\n",
       "      <td>335.650</td>\n",
       "      <td>173.860</td>\n",
       "    </tr>\n",
       "    <tr>\n",
       "      <th>Cash and Cash Equivalents, End of Period</th>\n",
       "      <td>210.13</td>\n",
       "      <td>107.880</td>\n",
       "      <td>363.160</td>\n",
       "      <td>335.650</td>\n",
       "      <td>173.860</td>\n",
       "      <td>107.320</td>\n",
       "    </tr>\n",
       "    <tr>\n",
       "      <th>Cash Interest Paid</th>\n",
       "      <td>0.90</td>\n",
       "      <td>0.740</td>\n",
       "      <td>3.890</td>\n",
       "      <td>3.190</td>\n",
       "      <td>1.550</td>\n",
       "      <td>2.050</td>\n",
       "    </tr>\n",
       "    <tr>\n",
       "      <th>Cash Taxes Paid</th>\n",
       "      <td>20.52</td>\n",
       "      <td>20.440</td>\n",
       "      <td>3.780</td>\n",
       "      <td>39.790</td>\n",
       "      <td>25.910</td>\n",
       "      <td>31.740</td>\n",
       "    </tr>\n",
       "    <tr>\n",
       "      <th>Cash Flow per Share</th>\n",
       "      <td>2.75</td>\n",
       "      <td>2.270</td>\n",
       "      <td>1.100</td>\n",
       "      <td>3.850</td>\n",
       "      <td>3.930</td>\n",
       "      <td>3.120</td>\n",
       "    </tr>\n",
       "  </tbody>\n",
       "</table>\n",
       "</div>"
      ],
      "text/plain": [
       "                                                2018-12  2019-12  2020-12  \\\n",
       "Cash Flow Statement | TIKR.com                                              \n",
       "Net Income                                       158.23  174.450   31.260   \n",
       "Depreciation & Amortization                      101.22  115.540  117.880   \n",
       "Amortization of Goodwill and Intangible Assets      NaN      NaN      NaN   \n",
       "Total Depreciation & Amortization                101.22  115.540  117.880   \n",
       "(Gain) Loss From Sale Of Asset                     6.01    5.890    3.140   \n",
       "Asset Writedown & Restructuring Costs              0.11   -1.280    2.290   \n",
       "(Income) Loss On Equity Investments               -0.70    1.460    0.830   \n",
       "Stock-Based Compensation                          34.98   35.500   29.430   \n",
       "Provision and Write-off of Bad Debts              -0.01   -0.020   -0.000   \n",
       "Other Operating Activities                        18.39   13.400  -16.260   \n",
       "Change In Accounts Receivable                    -15.60   -5.770    1.060   \n",
       "Change In Inventories                             -2.50   -1.410   -2.020   \n",
       "Change In Accounts Payable                         8.88    0.410    0.490   \n",
       "Change in Unearned Revenues                       35.52   16.990   23.460   \n",
       "Change In Income Taxes                            -5.95   11.360   -5.330   \n",
       "Change in Other Net Operating Assets              14.29    7.800   44.210   \n",
       "Cash from Operations                             352.87  374.300  230.440   \n",
       "Memo: Change in Net Working Capital               34.65   29.360   61.880   \n",
       "Capital Expenditure                             -155.98 -214.340 -154.400   \n",
       "Sale of Property, Plant, and Equipment              NaN    1.060    1.710   \n",
       "Cash Acquisitions                                 -2.17   -1.540  -10.580   \n",
       "Investment in Marketable and Equity Securities      NaN      NaN      NaN   \n",
       "Other Investing Activities                          NaN      NaN    2.170   \n",
       "Cash from Investing                             -158.15 -214.820 -161.110   \n",
       "Total Debt Issued                                   NaN      NaN  240.000   \n",
       "Total Debt Repaid                                -50.00      NaN      NaN   \n",
       "Issuance of Common Stock                           0.42    0.060      NaN   \n",
       "Repurchase of Common Stock                       -14.07 -152.320  -25.130   \n",
       "Common Dividends Paid                            -68.55 -102.370  -24.990   \n",
       "Common & Preferred Stock Dividends Paid          -68.55 -102.370  -24.990   \n",
       "Other Financing Activities                        -3.32   -7.100   -3.940   \n",
       "Cash from Financing                             -135.52 -261.720  185.940   \n",
       "Net Change in Cash                                59.21 -102.250  255.280   \n",
       "Free Cash Flow                                   196.89  159.960   76.040   \n",
       "% Free Cash Flow Margins                           0.08    0.058    0.032   \n",
       "Cash and Cash Equivalents, Beginning of Period   150.92  210.130  107.880   \n",
       "Cash and Cash Equivalents, End of Period         210.13  107.880  363.160   \n",
       "Cash Interest Paid                                 0.90    0.740    3.890   \n",
       "Cash Taxes Paid                                   20.52   20.440    3.780   \n",
       "Cash Flow per Share                                2.75    2.270    1.100   \n",
       "\n",
       "                                                2021-12  2022-12      LTM  \n",
       "Cash Flow Statement | TIKR.com                                             \n",
       "Net Income                                      245.290  269.820  290.860  \n",
       "Depreciation & Amortization                     126.010  134.420  140.020  \n",
       "Amortization of Goodwill and Intangible Assets    0.750    2.810    2.810  \n",
       "Total Depreciation & Amortization               126.760  137.240  142.840  \n",
       "(Gain) Loss From Sale Of Asset                    3.170    4.510    5.990  \n",
       "Asset Writedown & Restructuring Costs             0.670    2.470    2.120  \n",
       "(Income) Loss On Equity Investments               1.710   -0.220   -0.640  \n",
       "Stock-Based Compensation                         38.140   36.660   34.800  \n",
       "Provision and Write-off of Bad Debts              0.010    0.030    0.010  \n",
       "Other Operating Activities                       16.920   17.240   15.220  \n",
       "Change In Accounts Receivable                   -62.400   11.060  -14.440  \n",
       "Change In Inventories                            -9.230   -6.100   -5.880  \n",
       "Change In Accounts Payable                       27.730    5.410   15.470  \n",
       "Change in Unearned Revenues                      67.850   33.800   16.540  \n",
       "Change In Income Taxes                           -0.350    7.840   10.520  \n",
       "Change in Other Net Operating Assets             12.570   -8.030  -12.150  \n",
       "Cash from Operations                            468.830  511.730  501.260  \n",
       "Memo: Change in Net Working Capital              36.160   43.980   10.070  \n",
       "Capital Expenditure                            -200.690 -246.120 -292.130  \n",
       "Sale of Property, Plant, and Equipment              NaN    2.270    0.080  \n",
       "Cash Acquisitions                                   NaN  -33.070  -39.150  \n",
       "Investment in Marketable and Equity Securities      NaN    0.320    0.630  \n",
       "Other Investing Activities                        5.590   12.870   19.970  \n",
       "Cash from Investing                            -195.100 -263.730 -310.610  \n",
       "Total Debt Issued                                   NaN      NaN      NaN  \n",
       "Total Debt Repaid                              -140.000  -50.000  -75.000  \n",
       "Issuance of Common Stock                          0.600    0.310    0.530  \n",
       "Repurchase of Common Stock                      -69.260 -226.440  -46.210  \n",
       "Common Dividends Paid                           -83.660 -124.140 -135.290  \n",
       "Common & Preferred Stock Dividends Paid         -83.660 -124.140 -135.290  \n",
       "Other Financing Activities                       -8.910   -9.510   -7.770  \n",
       "Cash from Financing                            -301.230 -409.780 -263.740  \n",
       "Net Change in Cash                              -27.510 -161.780  -73.090  \n",
       "Free Cash Flow                                  268.130  265.600  209.120  \n",
       "% Free Cash Flow Margins                          0.077    0.066    0.048  \n",
       "Cash and Cash Equivalents, Beginning of Period  363.160  335.650  173.860  \n",
       "Cash and Cash Equivalents, End of Period        335.650  173.860  107.320  \n",
       "Cash Interest Paid                                3.190    1.550    2.050  \n",
       "Cash Taxes Paid                                  39.790   25.910   31.740  \n",
       "Cash Flow per Share                               3.850    3.930    3.120  "
      ]
     },
     "execution_count": 49,
     "metadata": {},
     "output_type": "execute_result"
    }
   ],
   "source": [
    "cash"
   ]
  },
  {
   "cell_type": "code",
   "execution_count": 51,
   "metadata": {},
   "outputs": [
    {
     "data": {
      "text/plain": [
       "{'series': [352.87, 374.3, 230.44, 468.83, 511.73, 501.26],\n",
       " 'yy_growth': [0.07272811332320894,\n",
       "  0.07574863990049652,\n",
       "  0.2956918521130869,\n",
       "  0.03400783102069371,\n",
       "  -0.020460008207453195],\n",
       " 'yy_growth_5': 0.07272811332320894,\n",
       " 'yy_growth_3': 0.2956918521130869,\n",
       " 'yy_growth_1': -0.020460008207453195,\n",
       " 'growth_tot': 0.42052313883299797,\n",
       " 'ltm': 501.26,\n",
       " 'mean': 406.5716666666667,\n",
       " 'std': 108.48774039801302,\n",
       " 'mean_z2': 406.5716666666667,\n",
       " 'std_z2': 108.48774039801302}"
      ]
     },
     "execution_count": 51,
     "metadata": {},
     "output_type": "execute_result"
    }
   ],
   "source": [
    "get_series_stats(cash.loc[\"Cash from Operations\"])"
   ]
  },
  {
   "cell_type": "code",
   "execution_count": null,
   "metadata": {},
   "outputs": [],
   "source": []
  }
 ],
 "metadata": {
  "kernelspec": {
   "display_name": "Python 3",
   "language": "python",
   "name": "python3"
  },
  "language_info": {
   "codemirror_mode": {
    "name": "ipython",
    "version": 3
   },
   "file_extension": ".py",
   "mimetype": "text/x-python",
   "name": "python",
   "nbconvert_exporter": "python",
   "pygments_lexer": "ipython3",
   "version": "3.10.12"
  }
 },
 "nbformat": 4,
 "nbformat_minor": 2
}
